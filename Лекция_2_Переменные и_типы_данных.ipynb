{
  "nbformat": 4,
  "nbformat_minor": 0,
  "metadata": {
    "colab": {
      "provenance": [],
      "include_colab_link": true
    },
    "kernelspec": {
      "name": "python3",
      "display_name": "Python 3"
    },
    "language_info": {
      "name": "python"
    }
  },
  "cells": [
    {
      "cell_type": "markdown",
      "metadata": {
        "id": "view-in-github",
        "colab_type": "text"
      },
      "source": [
        "<a href=\"https://colab.research.google.com/github/serggtech/Courses/blob/main/%D0%9B%D0%B5%D0%BA%D1%86%D0%B8%D1%8F_2_%D0%9F%D0%B5%D1%80%D0%B5%D0%BC%D0%B5%D0%BD%D0%BD%D1%8B%D0%B5%E2%80%A8%D0%B8_%D1%82%D0%B8%D0%BF%D1%8B_%D0%B4%D0%B0%D0%BD%D0%BD%D1%8B%D1%85.ipynb\" target=\"_parent\"><img src=\"https://colab.research.google.com/assets/colab-badge.svg\" alt=\"Open In Colab\"/></a>"
      ]
    },
    {
      "cell_type": "markdown",
      "source": [
        "# Переменная"
      ],
      "metadata": {
        "id": "Oa15tfGYTTRG"
      }
    },
    {
      "cell_type": "markdown",
      "source": [
        "Переменная - это именованное место в памяти, которое хранит значение. В программировании переменные используются для хранения и манипуляции данными.\n",
        "\n",
        "## Объявление переменной\n",
        "В языке программирования, переменную можно объявить с помощью следующей конструкции:\n",
        "\n",
        "```python\n",
        "имя_переменной = значение\n",
        "```\n",
        "\n",
        "Пример:\n",
        "```python\n",
        "age = 25\n",
        "name = \"John\"\n",
        "```\n"
      ],
      "metadata": {
        "id": "ljBxhAMUTVWd"
      }
    },
    {
      "cell_type": "markdown",
      "source": [
        "## Правила именования переменных:\n",
        "- Имя переменной может содержать буквы, цифры и знак подчеркивания.\n",
        "- Начинается с буквы или знака подчеркивания `_`.\n",
        "- Переменные регистрозависимы (\"age\" и \"Age\" - разные переменные).\n",
        "- Не используйте зарезервированные слова (как if, else, while и т.д.).\n",
        "- Переменные принято записывать в формате snake_case, т.е. если\n",
        "название переменной состоит из нескольких слов, то принято писать их\n",
        "через знак нижнего подчёркивания\n",
        "\n",
        "Примеры правильных имен переменных:\n",
        "```python\n",
        "my_variable1 = 42\n",
        "user_name = \"Alice\"\n",
        "_price = 10\n",
        "```\n",
        "Примеры неправильных имен переменных:\n",
        "```python\n",
        "2nd_variable = \"New\"  # Начинается с цифры\n",
        "my-variable = 10  # Содержит дефис\n",
        "my variable = 10  # Содержит пробел\n",
        "total%items = 5  # Содержит недопустимый символ \"%\"\n",
        "if = 42  # Использует зарезервированное слово \"if\"\n",
        "```\n",
        "\n"
      ],
      "metadata": {
        "id": "nrcvfBfATk99"
      }
    },
    {
      "cell_type": "markdown",
      "source": [
        "# Динамическая типизация"
      ],
      "metadata": {
        "id": "4kO_eAZ7OwnP"
      }
    },
    {
      "cell_type": "markdown",
      "source": [
        "В языке программирования Python используется динамическая типизация, что означает, что тип переменной определяется автоматически во время выполнения программы.\n",
        "\n",
        "## Особенности динамической типизации:\n",
        "\n",
        "1. Без явного объявления типа:\n",
        "   - Нет необходимости явно указывать тип переменной при ее создании. Python сам определяет тип в момент присваивания значения.\n",
        "\n",
        "   ```python\n",
        "   dynamic_var = 3.14  # dynamic_var автоматически становится дробным числом\n",
        "   ```\n",
        "2. Изменение типа переменной:\n",
        "  - Тип переменной может изменяться в процессе выполнения программы. Это дает гибкость при работе с данными.\n",
        "  ```python\n",
        "  dynamic_var = 42  # Теперь dynamic_var становится целым числом\n",
        "  ```\n",
        "\n",
        "**Преимущества:**\n",
        "- Упрощает написание кода и делает его более гибким.\n",
        "- Позволяет избежать явного указания типов, что ускоряет процесс разработки.\n",
        "\n",
        "**Недостатки:**\n",
        "- Может создавать ошибки выполнения из-за неожиданных изменений типов данных.\n",
        "\n",
        "Динамическая типизация делает Python удобным и гибким языком программирования.\n",
        "\n"
      ],
      "metadata": {
        "id": "PNSDm2evVGHJ"
      }
    },
    {
      "cell_type": "markdown",
      "source": [
        "# Базовые типы данных в Python"
      ],
      "metadata": {
        "id": "3QRTCKl-O0yc"
      }
    },
    {
      "cell_type": "markdown",
      "source": [
        "| Тип данных          | Название в Python   | Описание                                          | Пример                |\n",
        "|---------------------|-----------------------|---------------------------------------------------|-----------------------|\n",
        "| Целочисленные       | int                   | Целые числа без десятичной части.                 | `integer_variable = 42` |\n",
        "| Вещественные        | float                 | Числа с плавающей точкой (десятичные числа).      | `float_variable = 3.14`|\n",
        "| Строки              | str                   | Последовательности символов.                       | `string_variable = \"Привет, мир!\"`|\n",
        "| Логический          | bool(True/False)                  | Логическое значение истинности или ложности.      | `boolean_variable = True` |\n",
        "| NoneType            | NoneType              | Отсутствие значения или нулевое значение.        | `none_variable = None`  |\n",
        "\n",
        "Эти базовые типы данных предоставляют основу для хранения и манипулирования информацией в Python. Вы можете использовать переменные для хранения значений разных типов и выполнять различные операции с этими данными.\n"
      ],
      "metadata": {
        "id": "rR8xDMSD8fSJ"
      }
    },
    {
      "cell_type": "markdown",
      "source": [
        "# Функция `print()`"
      ],
      "metadata": {
        "id": "84aGXa-oCJLt"
      }
    },
    {
      "cell_type": "markdown",
      "source": [
        "В Python `print()` - это встроенная функция, предназначенная для вывода текста или других данных на консоль. Она является одной из наиболее часто используемых функций для отладки и вывода информации в процессе выполнения программы.\n",
        "\n",
        "Функция - это блок кода, который выполняет определенную задачу и может возвращать значение. Если функция не возвращает значение, то её\n",
        "называют процедурой.\n",
        "\n",
        "Пример использования `print()`:\n",
        "\n",
        "\n"
      ],
      "metadata": {
        "id": "EYNdKbJxCHII"
      }
    },
    {
      "cell_type": "code",
      "source": [
        "print(\"Привет, мир!\")"
      ],
      "metadata": {
        "id": "Ltw9o5swCXb4"
      },
      "execution_count": null,
      "outputs": []
    },
    {
      "cell_type": "markdown",
      "source": [
        "Этот код просто выводит строку \"Привет, мир!\" на консоль. `print()` может принимать один или несколько аргументов, разделенных запятой, и автоматически добавляет пробел между ними:\n",
        "\n"
      ],
      "metadata": {
        "id": "AuyKeUAICfT_"
      }
    },
    {
      "cell_type": "code",
      "source": [
        "name = \"John\"\n",
        "age = 25\n",
        "print(\"Имя:\", name, \"| Возраст:\", age)"
      ],
      "metadata": {
        "colab": {
          "base_uri": "https://localhost:8080/"
        },
        "id": "f9TSqFYPCkIy",
        "outputId": "ed55b66b-be38-4408-9ea2-76547a561cff"
      },
      "execution_count": null,
      "outputs": [
        {
          "output_type": "stream",
          "name": "stdout",
          "text": [
            "Имя: John | Возраст: 25\n"
          ]
        }
      ]
    },
    {
      "cell_type": "code",
      "source": [
        "print(23)\n",
        "print()\n",
        "print(\"dsf\")"
      ],
      "metadata": {
        "colab": {
          "base_uri": "https://localhost:8080/"
        },
        "id": "wZLui1BMHTD1",
        "outputId": "58c40c46-6a6b-457b-bfc7-aa6eb5ef1189"
      },
      "execution_count": null,
      "outputs": [
        {
          "output_type": "stream",
          "name": "stdout",
          "text": [
            "23\n",
            "\n",
            "dsf\n"
          ]
        }
      ]
    },
    {
      "cell_type": "markdown",
      "source": [
        "Чтобы проверить что функция не возвращает значение мы можем напечатать результат её работы:"
      ],
      "metadata": {
        "id": "hxJjKN6wCWe8"
      }
    },
    {
      "cell_type": "code",
      "source": [
        "print(print(\"Привет, мир!\"))"
      ],
      "metadata": {
        "colab": {
          "base_uri": "https://localhost:8080/"
        },
        "id": "ZQ5UdypxDtiq",
        "outputId": "e5f37301-fb97-4946-f8bd-94ac18ee923a"
      },
      "execution_count": null,
      "outputs": [
        {
          "output_type": "stream",
          "name": "stdout",
          "text": [
            "Привет, мир!\n",
            "None\n"
          ]
        }
      ]
    },
    {
      "cell_type": "markdown",
      "source": [
        "В этом случае всегда будет напечатано `None`, что означает ничего."
      ],
      "metadata": {
        "id": "9QlJq57zD2lQ"
      }
    },
    {
      "cell_type": "markdown",
      "source": [
        "## Использование нескольких аргументов в функции `print()`\n",
        "\n",
        "В Python вы можете использовать несколько аргументов в функции `print()`, разделяя их запятой. Это позволяет вам выводить на экран несколько значений в одной строке. Все значения при выводе будут разделены пробелами.\n",
        "\n",
        "Пример:\n",
        "\n"
      ],
      "metadata": {
        "id": "xh5XHo2GFYGA"
      }
    },
    {
      "cell_type": "code",
      "source": [
        "name = \"John\"\n",
        "age = 25\n",
        "print(\"Имя:\",name,  \"Возраст:\",age)\n",
        "print(\"Имя:\", name, \"Возраст:\", age)\n",
        "# print(\"Имя:\", \"John\", \"Возраст:\", 25)"
      ],
      "metadata": {
        "colab": {
          "base_uri": "https://localhost:8080/"
        },
        "id": "jjhAYEYLFe2H",
        "outputId": "705b3b82-e659-4221-9870-89b4d872feb7"
      },
      "execution_count": null,
      "outputs": [
        {
          "output_type": "stream",
          "name": "stdout",
          "text": [
            "Имя: John Возраст: 25\n",
            "Имя: John Возраст: 25\n"
          ]
        }
      ]
    },
    {
      "cell_type": "markdown",
      "source": [
        "## Необязательные аргументы в функции `print()`"
      ],
      "metadata": {
        "id": "ljxdpAo7F0eV"
      }
    },
    {
      "cell_type": "markdown",
      "source": [
        "Функция `print()` в Python имеет несколько необязательных аргументов, которые позволяют настроить ее поведение. Вот некоторые из них:\n",
        "1. `sep` (разделитель):\n",
        "  - Определяет строку, которая будет вставлена между аргументами. По умолчанию используется пробел.\n",
        "  - Пример:\n"
      ],
      "metadata": {
        "id": "16oM7Lx3F-GR"
      }
    },
    {
      "cell_type": "code",
      "source": [
        "print(\"one\", \"two\", \"three\")\n",
        "print(\"one\", \"two\", \"three\", sep=\"---\")\n",
        "print(\"one\", \"two\", \"three\")\n",
        "print(\"one\", sep=\"-\")"
      ],
      "metadata": {
        "colab": {
          "base_uri": "https://localhost:8080/"
        },
        "id": "b5cgE504GQ1x",
        "outputId": "4dba6af1-2a69-49c5-c557-2d8dc07d1ae1"
      },
      "execution_count": null,
      "outputs": [
        {
          "output_type": "stream",
          "name": "stdout",
          "text": [
            "one two three\n",
            "one---two---three\n",
            "one two three\n",
            "one\n"
          ]
        }
      ]
    },
    {
      "cell_type": "markdown",
      "source": [
        "2. `end` (окончание):\n",
        "  - Определяет строку, которая будет добавлена в конец вывода. По умолчанию используется символ новой строки `\\n`.\n",
        "  - Пример:"
      ],
      "metadata": {
        "id": "bIFEZ-2fGYC6"
      }
    },
    {
      "cell_type": "code",
      "source": [
        "print(\"Привет,\", \"мир\", end=\"!!!!\")\n",
        "print(\"Привет\")"
      ],
      "metadata": {
        "colab": {
          "base_uri": "https://localhost:8080/"
        },
        "id": "yJ3a7684Gs81",
        "outputId": "2d54d498-1766-4b3f-f08f-8ac1f8ad8b89"
      },
      "execution_count": null,
      "outputs": [
        {
          "output_type": "stream",
          "name": "stdout",
          "text": [
            "Привет, мир!!!!Привет\n"
          ]
        }
      ]
    },
    {
      "cell_type": "markdown",
      "source": [
        "# Функция `type()`\n",
        "Функция type() в Python используется для получения типа объекта. Она возвращает класс типа объекта.\n",
        "\n",
        "Вот примеры использования:\n"
      ],
      "metadata": {
        "id": "tgs8GenZGsK9"
      }
    },
    {
      "cell_type": "code",
      "source": [
        "# Примеры использования функции type()\n",
        "\n",
        "# Пример 1: Получение типа целого числа\n",
        "num = 42\n",
        "print(type(num))  # <class 'int'>\n",
        "\n",
        "# Пример 2: Получение типа числа с плавающей точкой\n",
        "float_num = 3.14\n",
        "print(type(float_num))  # <class 'float'>\n",
        "\n",
        "# Пример 3: Получение типа строки\n",
        "text = \"Hello, World!\"\n",
        "print(type(text))  # <class 'str'>\n",
        "\n",
        "# Пример 4: Получение типа булевого значения\n",
        "boolean = True\n",
        "print(type(boolean))  # <class 'bool'>"
      ],
      "metadata": {
        "colab": {
          "base_uri": "https://localhost:8080/"
        },
        "id": "oanD8ZMwInU4",
        "outputId": "1e3747bd-b25a-4ceb-cec8-415c95826d8d"
      },
      "execution_count": null,
      "outputs": [
        {
          "output_type": "stream",
          "name": "stdout",
          "text": [
            "<class 'int'>\n",
            "<class 'float'>\n",
            "<class 'str'>\n",
            "<class 'bool'>\n"
          ]
        }
      ]
    },
    {
      "cell_type": "code",
      "source": [
        "num = 42\n",
        "t = type(num)\n",
        "print(t)"
      ],
      "metadata": {
        "id": "9HkoTCtFP12i"
      },
      "execution_count": null,
      "outputs": []
    },
    {
      "cell_type": "markdown",
      "source": [
        "Результат работы функций, которые возвращают значение, можно напечатать или присваивать значение переменным."
      ],
      "metadata": {
        "id": "YxWL-utsJN2o"
      }
    },
    {
      "cell_type": "code",
      "source": [
        "boolean = True\n",
        "t = type(boolean)\n",
        "print(t)"
      ],
      "metadata": {
        "id": "0gOwxEkPJtJo"
      },
      "execution_count": null,
      "outputs": []
    },
    {
      "cell_type": "markdown",
      "source": [
        "# Передача аргументов в функцию\n",
        "\n",
        "В функцию в Python можно передавать аргументы разными способами:\n",
        "\n",
        "1. Значения (Литералы):\n",
        "  - Простые значения, например, числа или строки\n"
      ],
      "metadata": {
        "id": "e4jdSwyfMg2W"
      }
    },
    {
      "cell_type": "code",
      "source": [
        "print(\"Привет, мир!\")"
      ],
      "metadata": {
        "id": "3vxGp3ViNEWF"
      },
      "execution_count": null,
      "outputs": []
    },
    {
      "cell_type": "markdown",
      "source": [
        "2. Переменные:\n",
        "  - Значения, хранящиеся в переменных"
      ],
      "metadata": {
        "id": "XPnYHQslNHxZ"
      }
    },
    {
      "cell_type": "code",
      "source": [
        "my_variable = \"Привет, мир!\"\n",
        "print(my_variable)"
      ],
      "metadata": {
        "id": "bTIj5wdsN88p"
      },
      "execution_count": null,
      "outputs": []
    },
    {
      "cell_type": "markdown",
      "source": [
        "3. Результаты работы других функций:\n",
        "  - Можно передавать в функцию результат выполнения другой функции.\n"
      ],
      "metadata": {
        "id": "i6xB4NsBNI3r"
      }
    },
    {
      "cell_type": "code",
      "source": [
        "print(type(5))"
      ],
      "metadata": {
        "id": "Qk-ebAcPOD96"
      },
      "execution_count": null,
      "outputs": []
    },
    {
      "cell_type": "markdown",
      "source": [
        "4. Результат математической операции:\n",
        "  - Простые значения, например, числа или строки"
      ],
      "metadata": {
        "id": "UK2f8IgnNf9x"
      }
    },
    {
      "cell_type": "code",
      "source": [
        "print(2 + 5)"
      ],
      "metadata": {
        "colab": {
          "base_uri": "https://localhost:8080/"
        },
        "id": "UP0sjKxUNrKP",
        "outputId": "dfcbb8f5-2ba8-49a8-873b-11b199de24b3"
      },
      "execution_count": null,
      "outputs": [
        {
          "output_type": "stream",
          "name": "stdout",
          "text": [
            "7\n"
          ]
        }
      ]
    },
    {
      "cell_type": "markdown",
      "source": [
        "# Числа в Python"
      ],
      "metadata": {
        "id": "8jS-7H8-Ptbd"
      }
    },
    {
      "cell_type": "markdown",
      "source": [
        "В Python числа представлены типами:\n",
        "- целые числа (`int`)\n",
        "- числа с плавающей точкой или вещественные (`float`)\n"
      ],
      "metadata": {
        "id": "5KRUfUvuPu16"
      }
    },
    {
      "cell_type": "markdown",
      "source": [
        "## Арифметические операции в Python"
      ],
      "metadata": {
        "id": "Wa9HmVl5RVeN"
      }
    },
    {
      "cell_type": "markdown",
      "source": [
        "| Операция  | Название            | Описание                              |\n",
        "|------------|---------------------|---------------------------------------|\n",
        "| `+`        | Сложение            | Складывает два значения.               |\n",
        "| `-`        | Вычитание           | Вычитает одно значение из другого.    |\n",
        "| `*`        | Умножение           | Умножает два значения.                |\n",
        "| `/`        | Деление             | Делит одно значение на другое.        |\n",
        "| `//`       | Целочисленное деление | Делит одно значение на другое, возвращая целую часть результата. |\n",
        "| `%`        | Остаток от деления   | Возвращает остаток от деления двух значений. |\n",
        "| `**`       | Возведение в степень | Возводит значение в указанную степень. |\n",
        "\n",
        "**Важно:**\n",
        "- При обычном делении результат всегда является дробным числом.\n",
        "- Если в выражении хотя бы одна часть типа float, то результат будет тоже типа float.\n",
        "- Результат целочисленного деления округляется в меньшую сторону.\n",
        "\n",
        "Примеры использования:"
      ],
      "metadata": {
        "id": "g_1CBULrRTua"
      }
    },
    {
      "cell_type": "code",
      "source": [
        "# Сложение\n",
        "print(\"Сложение:\", \"3 + 5 =\", 3 + 5)\n",
        "\n",
        "# Вычитание\n",
        "print(\"Вычитание:\", \"7 - 2 =\", 7 - 2)\n",
        "\n",
        "# Умножение\n",
        "print(\"Умножение:\", \"4 * 6 =\", 4 * 6)\n",
        "\n",
        "# Деление\n",
        "print(\"Деление:\", \"8 / 2 =\", 8 / 2)\n",
        "\n",
        "# Целочисленное деление\n",
        "print(\"Целочисленное деление:\", \"7 // 2 =\", 7 // 2)\n",
        "\n",
        "# Остаток от деления\n",
        "print(\"Остаток от деления:\", \"7 % 3 =\", 7 % 3)\n",
        "\n",
        "# Возведение в степень\n",
        "print(\"Возведение в степень:\", \"2 ** 3 =\", 2 ** 3)"
      ],
      "metadata": {
        "colab": {
          "base_uri": "https://localhost:8080/"
        },
        "id": "lRz2h3xMSbhJ",
        "outputId": "bb88b356-f62c-466c-f6a6-51aa6bd26680"
      },
      "execution_count": null,
      "outputs": [
        {
          "output_type": "stream",
          "name": "stdout",
          "text": [
            "Сложение: 3 + 5 = 8\n",
            "Вычитание: 7 - 2 = 5\n",
            "Умножение: 4 * 6 = 24\n",
            "Деление: 8 / 2 = 4.0\n",
            "Целочисленное деление: 7 // 2 = 3\n",
            "Остаток от деления: 7 % 3 = 1\n",
            "Возведение в степень: 2 ** 3 = 8\n"
          ]
        }
      ]
    },
    {
      "cell_type": "code",
      "source": [
        "print(10/3)"
      ],
      "metadata": {
        "colab": {
          "base_uri": "https://localhost:8080/"
        },
        "id": "NTECIN_uT-aE",
        "outputId": "fb48a74c-071d-45d1-eaed-c2906b038a88"
      },
      "execution_count": null,
      "outputs": [
        {
          "output_type": "stream",
          "name": "stdout",
          "text": [
            "3.3333333333333335\n"
          ]
        }
      ]
    },
    {
      "cell_type": "code",
      "source": [
        "10/3"
      ],
      "metadata": {
        "colab": {
          "base_uri": "https://localhost:8080/"
        },
        "id": "MrSJJbbMUk8N",
        "outputId": "60e363d4-331a-41d1-e2d0-a8477fb576a5"
      },
      "execution_count": null,
      "outputs": [
        {
          "output_type": "execute_result",
          "data": {
            "text/plain": [
              "3.3333333333333335"
            ]
          },
          "metadata": {},
          "execution_count": 100
        }
      ]
    },
    {
      "cell_type": "code",
      "source": [
        "print(17 % 5)"
      ],
      "metadata": {
        "id": "EUpfq8W9UxCR"
      },
      "execution_count": null,
      "outputs": []
    },
    {
      "cell_type": "markdown",
      "source": [
        "**Важно:**\n",
        "- Если какой-то результат в последующем нужно использовать повторно, то можно заключить его в переменную.\n",
        "```python\n",
        "sum = 3 + 5\n",
        "a = sum + 1\n",
        "b = sum * 3\n",
        "```\n",
        "\n",
        "- Если какое-то действие нужно совершить один раз, то хранить информацию в переменной бессмысленно.\n",
        "```python\n",
        "print(3 + 5)\n",
        "```"
      ],
      "metadata": {
        "id": "BKdqmpa3T-Y7"
      }
    },
    {
      "cell_type": "markdown",
      "source": [
        "# Неизменяемые типы данных в Python"
      ],
      "metadata": {
        "id": "Rn15FVFG3dcR"
      }
    },
    {
      "cell_type": "markdown",
      "source": [
        "В Python существуют неизменяемые (immutable) и изменяемые (mutable) типы данных. Неизменяемые типы данных не могут быть изменены после создания объекта, а изменяемые могут.\n",
        "\n",
        "То есть если у нас есть переменная `num` равная `5`, то вы не можем изменить значение этой переменной, например с помощью арифметической операции:\n",
        "\n"
      ],
      "metadata": {
        "id": "VdS1kdcS3cwL"
      }
    },
    {
      "cell_type": "code",
      "source": [
        "num = 5\n",
        "num + 2\n",
        "print(num)"
      ],
      "metadata": {
        "colab": {
          "base_uri": "https://localhost:8080/"
        },
        "id": "mC4oU46q3xnE",
        "outputId": "6dec190b-2ee8-4d0f-a2ea-34f365a7f8a1"
      },
      "execution_count": null,
      "outputs": [
        {
          "output_type": "stream",
          "name": "stdout",
          "text": [
            "5\n"
          ]
        }
      ]
    },
    {
      "cell_type": "markdown",
      "source": [
        "Для того чтобы изменить значение в `num` нужно присвоить в переменную новое значение."
      ],
      "metadata": {
        "id": "696dBX9g3_Qm"
      }
    },
    {
      "cell_type": "code",
      "source": [
        "num = 5\n",
        "num = num + 2\n",
        "print(num)"
      ],
      "metadata": {
        "colab": {
          "base_uri": "https://localhost:8080/"
        },
        "id": "mhnkYOie4ox6",
        "outputId": "9034015b-a17f-4ee9-e374-33392991f72b"
      },
      "execution_count": null,
      "outputs": [
        {
          "output_type": "stream",
          "name": "stdout",
          "text": [
            "7\n"
          ]
        }
      ]
    },
    {
      "cell_type": "markdown",
      "source": [
        "## Операторы присваивания в Python\n"
      ],
      "metadata": {
        "id": "aFfmDKwuVUDG"
      }
    },
    {
      "cell_type": "markdown",
      "source": [
        "Операторы присваивания используются для присвоения значений переменным. Вот таблица операторов присваивания с их описанием:\n",
        "\n",
        "| Оператор | Описание                        |\n",
        "|----------|---------------------------------|\n",
        "| `=`      | Присваивает значение переменной. |\n",
        "| `+=`     | Прибавляет значение к переменной и присваивает результат. |\n",
        "| `-=`     | Вычитает значение из переменной и присваивает результат. |\n",
        "| `*=`     | Умножает переменную на значение и присваивает результат. |\n",
        "| `/=`     | Делит переменную на значение и присваивает результат. |\n",
        "| `//=`    | Выполняет целочисленное деление переменной на значение и присваивает результат. |\n",
        "| `%=`     | Вычисляет остаток от деления переменной на значение и присваивает результат. |\n",
        "| `**=`    | Возводит переменную в степень значения и присваивает результат. |\n",
        "\n",
        "Примеры использования:"
      ],
      "metadata": {
        "id": "M05KRT8xVjZD"
      }
    },
    {
      "cell_type": "code",
      "source": [
        "# Присваивание\n",
        "variable = 42\n",
        "print(\"Присваивание:\", \"variable =\", variable)\n",
        "\n",
        "# Прибавление\n",
        "variable += 5\n",
        "# Равносильно выражению variable = variable + 5\n",
        "print(\"Прибавление:\", \"variable += 5 =\", variable)\n",
        "\n",
        "# Вычитание\n",
        "variable -= 27\n",
        "# Равносильно выражению variable = variable - 27\n",
        "print(\"Вычитание:\", \"variable -= 27 =\", variable)\n",
        "\n",
        "# Умножение\n",
        "variable *= 3\n",
        "# Равносильно выражению variable = variable * 3\n",
        "print(\"Умножение:\", \"variable *= 3 =\", variable)\n",
        "\n",
        "# Деление\n",
        "variable /= 2\n",
        "# Равносильно выражению variable = variable / 2\n",
        "print(\"Деление:\", \"variable /= 2 =\", variable)\n",
        "\n",
        "# Целочисленное деление\n",
        "variable //= 3\n",
        "# Равносильно выражению variable = variable// 3\n",
        "print(\"Целочисленное деление:\", \"variable //= 3 =\", variable)\n",
        "\n",
        "# Остаток от деления\n",
        "variable %= 8\n",
        "# Равносильно выражению variable = variable % 8\n",
        "print(\"Остаток от деления:\", \"variable %= 8 =\", variable)\n",
        "\n",
        "# Возведение в степень\n",
        "variable **= 4\n",
        "# Равносильно выражению variable = variable ** 4\n",
        "print(\"Возведение в степень:\", \"variable **= 4 =\", variable)"
      ],
      "metadata": {
        "colab": {
          "base_uri": "https://localhost:8080/"
        },
        "id": "5C2NJSg1Wis9",
        "outputId": "4182610a-30d8-4c7a-95f7-6ee99e281ef2"
      },
      "execution_count": null,
      "outputs": [
        {
          "output_type": "stream",
          "name": "stdout",
          "text": [
            "Присваивание: variable = 42\n",
            "Прибавление: variable += 5 = 47\n",
            "Вычитание: variable -= 27 = 20\n",
            "Умножение: variable *= 3 = 60\n",
            "Деление: variable /= 2 = 30.0\n",
            "Целочисленное деление: variable //= 3 = 10.0\n",
            "Остаток от деления: variable %= 8 = 2.0\n",
            "Возведение в степень: variable **= 4 = 16.0\n"
          ]
        }
      ]
    },
    {
      "cell_type": "code",
      "source": [
        "variable = 10\n",
        "variable += 5\n",
        "print(variable)"
      ],
      "metadata": {
        "colab": {
          "base_uri": "https://localhost:8080/"
        },
        "id": "pxk-MWh4XQj3",
        "outputId": "d5eae8b2-f177-4f5f-d614-246133f587d1"
      },
      "execution_count": null,
      "outputs": [
        {
          "output_type": "stream",
          "name": "stdout",
          "text": [
            "15\n"
          ]
        }
      ]
    },
    {
      "cell_type": "code",
      "source": [
        "variable = 10\n",
        "variable = variable + 5\n",
        "print(variable)"
      ],
      "metadata": {
        "id": "4FaUVc6aXZ9b"
      },
      "execution_count": null,
      "outputs": []
    },
    {
      "cell_type": "markdown",
      "source": [
        "Каждый оператор присваивания выполняет определенную операцию и присваивает результат переменной. Результаты операций выводятся с использованием функции print()."
      ],
      "metadata": {
        "id": "Q9VcNUDWZ2OZ"
      }
    },
    {
      "cell_type": "markdown",
      "source": [
        "# Способы присваивания переменных"
      ],
      "metadata": {
        "id": "xKBJA8f0atxl"
      }
    },
    {
      "cell_type": "markdown",
      "source": [
        "В Python существует несколько способов присваивания значений переменным. Давайте рассмотрим основные из них.\n",
        "\n",
        "## 1. Стандартное присваивание одного значения переменной"
      ],
      "metadata": {
        "id": "b58uLJ6WavDU"
      }
    },
    {
      "cell_type": "code",
      "source": [
        "x = 10\n",
        "print(x)"
      ],
      "metadata": {
        "colab": {
          "base_uri": "https://localhost:8080/"
        },
        "id": "sE3Tkn0Zcm44",
        "outputId": "25fb96f9-eb55-4856-a0a6-61b4036bb11f"
      },
      "execution_count": null,
      "outputs": [
        {
          "output_type": "stream",
          "name": "stdout",
          "text": [
            "10\n"
          ]
        }
      ]
    },
    {
      "cell_type": "markdown",
      "source": [
        "## 2. Присваивание одного значения нескольким переменным"
      ],
      "metadata": {
        "id": "cBQ9IGq2ceKl"
      }
    },
    {
      "cell_type": "code",
      "source": [
        "x = y = z = 10\n",
        "print(x, y, z)"
      ],
      "metadata": {
        "colab": {
          "base_uri": "https://localhost:8080/"
        },
        "id": "_pU0k45Ja3yr",
        "outputId": "e27d4658-f128-40bf-bfd0-534eeb6bc45f"
      },
      "execution_count": null,
      "outputs": [
        {
          "output_type": "stream",
          "name": "stdout",
          "text": [
            "10 10 10\n"
          ]
        }
      ]
    },
    {
      "cell_type": "markdown",
      "source": [
        "В этом случае значения 10 будут присвоены каждой их переменных x, y и z."
      ],
      "metadata": {
        "id": "ohEYTznBbU7M"
      }
    },
    {
      "cell_type": "markdown",
      "source": [
        "## 3. Множественное присваивание"
      ],
      "metadata": {
        "id": "gxq8lYExbB5_"
      }
    },
    {
      "cell_type": "code",
      "source": [
        "x, y, z = 5, 10, 15\n",
        "print(x, y, z)"
      ],
      "metadata": {
        "colab": {
          "base_uri": "https://localhost:8080/"
        },
        "id": "tSuUH7PTbauE",
        "outputId": "51e55a19-d3fc-41c6-b1ab-f12d4b55b496"
      },
      "execution_count": null,
      "outputs": [
        {
          "output_type": "stream",
          "name": "stdout",
          "text": [
            "5 10 15\n"
          ]
        }
      ]
    },
    {
      "cell_type": "markdown",
      "source": [
        "Этот способ позволяет одной строкой присвоить различные значения нескольким переменным."
      ],
      "metadata": {
        "id": "Ovf8QTQpdFf9"
      }
    },
    {
      "cell_type": "markdown",
      "source": [
        "## 4. Обмен значениями переменных"
      ],
      "metadata": {
        "id": "l9uOGTfMbFgA"
      }
    },
    {
      "cell_type": "code",
      "source": [
        "x = 10\n",
        "y = 5\n",
        "z = x\n",
        "x = y\n",
        "y = z\n",
        "print(x, y)"
      ],
      "metadata": {
        "colab": {
          "base_uri": "https://localhost:8080/"
        },
        "id": "xujNtGISceKU",
        "outputId": "c1fe9c22-7cf5-4ff0-bb0c-efbfa48ca230"
      },
      "execution_count": null,
      "outputs": [
        {
          "output_type": "stream",
          "name": "stdout",
          "text": [
            "5 10\n"
          ]
        }
      ]
    },
    {
      "cell_type": "code",
      "source": [
        "x = 10\n",
        "y = 5\n",
        "x, y = y, x\n",
        "print(x, y)"
      ],
      "metadata": {
        "colab": {
          "base_uri": "https://localhost:8080/"
        },
        "id": "tajDOO56cz2f",
        "outputId": "4fb0b571-a47c-4df3-a857-2cc52cf297b3"
      },
      "execution_count": null,
      "outputs": [
        {
          "output_type": "stream",
          "name": "stdout",
          "text": [
            "5 10\n"
          ]
        }
      ]
    },
    {
      "cell_type": "code",
      "source": [
        "x = 10\n",
        "y = 5\n",
        "z = 1\n",
        "x, y, z = z, y, x\n",
        "print(x, y, z)"
      ],
      "metadata": {
        "colab": {
          "base_uri": "https://localhost:8080/"
        },
        "id": "a2vayQqUdOTQ",
        "outputId": "1cd25271-c3da-4360-b717-d388bded8769"
      },
      "execution_count": null,
      "outputs": [
        {
          "output_type": "stream",
          "name": "stdout",
          "text": [
            "1 5 10\n"
          ]
        }
      ]
    },
    {
      "cell_type": "markdown",
      "source": [
        "Этот прием используется для обмена значениями нескольких переменных без использования дополнительной переменной."
      ],
      "metadata": {
        "id": "CHRBNWomdKLa"
      }
    },
    {
      "cell_type": "markdown",
      "source": [
        "## 5. Присваивание с использованием операторов"
      ],
      "metadata": {
        "id": "lzR5sGaBbHnm"
      }
    },
    {
      "cell_type": "code",
      "source": [
        "x = 1\n",
        "x += 5\n",
        "print(x)"
      ],
      "metadata": {
        "id": "oqHYCmH0djh1"
      },
      "execution_count": null,
      "outputs": []
    },
    {
      "cell_type": "markdown",
      "source": [
        "Этот способ позволяет изменить значение переменной на определенную величину."
      ],
      "metadata": {
        "id": "zp2VYhNIdrTz"
      }
    },
    {
      "cell_type": "markdown",
      "source": [
        "## 6. Распаковка значений из коллекции"
      ],
      "metadata": {
        "id": "Qq_3-72WbIqV"
      }
    },
    {
      "cell_type": "code",
      "source": [
        "values = (1, 2, 3)\n",
        "x, y, z = values\n",
        "print(x, y, z)"
      ],
      "metadata": {
        "colab": {
          "base_uri": "https://localhost:8080/"
        },
        "id": "yxM0KAxOd1Ib",
        "outputId": "1bed933b-f341-477a-fb07-e138c257c4f1"
      },
      "execution_count": null,
      "outputs": [
        {
          "output_type": "stream",
          "name": "stdout",
          "text": [
            "1 2 3\n"
          ]
        }
      ]
    },
    {
      "cell_type": "markdown",
      "source": [
        "В этом случае значения из кортежа `values` будут распакованы и присвоены переменным `a`, `b` и `c`."
      ],
      "metadata": {
        "id": "oPo5K92Jd7-P"
      }
    },
    {
      "cell_type": "markdown",
      "source": [
        "# Типизация данных"
      ],
      "metadata": {
        "id": "hgLvepariBxA"
      }
    },
    {
      "cell_type": "markdown",
      "source": [
        "В Python используется динамическая типизация, что означает, что тип переменной определяется автоматически во время выполнения программы. Вот некоторые особенности типизации данных в Python:\n",
        "\n",
        "## Динамическая типизация\n",
        "\n",
        "Переменные в Python могут менять свой тип в процессе выполнения программы. Например:\n",
        "\n"
      ],
      "metadata": {
        "id": "DHLskvfuiDJB"
      }
    },
    {
      "cell_type": "code",
      "source": [
        "x = 5      # x - целое число (int)\n",
        "print(type(x))\n",
        "x = \"Hello\"  # теперь x - строка (str)\n",
        "print(type(x))"
      ],
      "metadata": {
        "id": "FhzfEXr1i6yP"
      },
      "execution_count": null,
      "outputs": []
    },
    {
      "cell_type": "markdown",
      "source": [
        "## Неявное преобразование типов\n",
        "\n",
        "Во многих случаях Python автоматически преобразует типы данных в процессе выполнения.\n",
        "Например:\n"
      ],
      "metadata": {
        "id": "9acxfIysi4PH"
      }
    },
    {
      "cell_type": "code",
      "source": [
        "result = 5\n",
        "print(type(result))\n",
        "result += 3.14  # Результат будет вещественным числом (float)\n",
        "print(type(result))"
      ],
      "metadata": {
        "colab": {
          "base_uri": "https://localhost:8080/"
        },
        "id": "2k1_w5xcilIS",
        "outputId": "b418cee1-fc4b-46b3-8641-356b1338314a"
      },
      "execution_count": null,
      "outputs": [
        {
          "output_type": "stream",
          "name": "stdout",
          "text": [
            "<class 'int'>\n",
            "<class 'float'>\n"
          ]
        }
      ]
    },
    {
      "cell_type": "markdown",
      "source": [
        "## Явное преобразование типов\n",
        "\n",
        "Также существует возможность явного преобразования типов данных с использованием встроенных функций, таких как `int()`, `float()`, `str()`, и др.\n",
        "\n"
      ],
      "metadata": {
        "id": "kk22Qa0WjTqc"
      }
    },
    {
      "cell_type": "code",
      "source": [
        "num = \"42\"\n",
        "print(type(num))\n",
        "num = int(num)  # Преобразование строки в целое число\n",
        "print(type(num))"
      ],
      "metadata": {
        "colab": {
          "base_uri": "https://localhost:8080/"
        },
        "id": "WEg9mfo0jcun",
        "outputId": "fe7d2b99-4aa0-44dc-d1eb-a35b38bac4af"
      },
      "execution_count": null,
      "outputs": [
        {
          "output_type": "stream",
          "name": "stdout",
          "text": [
            "<class 'str'>\n",
            "<class 'int'>\n"
          ]
        }
      ]
    },
    {
      "cell_type": "code",
      "source": [
        "num = input()\n",
        "num = float(num)\n",
        "num = int(num)\n",
        "print(num ** 2)"
      ],
      "metadata": {
        "colab": {
          "base_uri": "https://localhost:8080/"
        },
        "id": "XisbKOF-eTjt",
        "outputId": "e7a15726-ad45-4a9b-856c-985e620d3d1a"
      },
      "execution_count": null,
      "outputs": [
        {
          "output_type": "stream",
          "name": "stdout",
          "text": [
            "54.67\n",
            "2916\n"
          ]
        }
      ]
    },
    {
      "cell_type": "markdown",
      "source": [
        "## Ошибки при преобразовании типов"
      ],
      "metadata": {
        "id": "O6k3orXsuCCe"
      }
    },
    {
      "cell_type": "markdown",
      "source": [
        "Если строку, например, “hello” перевести в число или иной тип, то сработает исключение `ValueError`, т.к. невозвестно как преобразовать текст в число.\n",
        "Если в строке будут только цифры, например, \"123\", то такую строку можно без ошибок преобразовать в число."
      ],
      "metadata": {
        "id": "zGC1C-j0uNrx"
      }
    },
    {
      "cell_type": "code",
      "source": [
        "print(int(\"123\"))\n",
        "# print(int(\"hello\"))  # Этот код вызовет ошибку ValueError"
      ],
      "metadata": {
        "colab": {
          "base_uri": "https://localhost:8080/"
        },
        "id": "L0o2iyimu8Ok",
        "outputId": "2ebe5395-7fee-4b44-affb-8a22a89a65c4"
      },
      "execution_count": null,
      "outputs": [
        {
          "output_type": "stream",
          "name": "stdout",
          "text": [
            "123\n"
          ]
        }
      ]
    },
    {
      "cell_type": "markdown",
      "source": [
        "# Логический тип данных в Python\n",
        "\n",
        "Логический тип данных (`bool`) в Python представляет собой булево значение, которое может быть либо `True` (истина), либо `False` (ложь). Логический тип широко используется для выражения условий и контроля потока выполнения программы.\n",
        "\n",
        "## Преобразование в логический тип данных в Python\n",
        "\n",
        "В Python можно преобразовать различные значения в логический тип данных (`bool`). Это часто используется в условных выражениях и контроле потока выполнения программы. Давайте рассмотрим, какие значения кроме True/False также считаются истинными (`True`) или ложными (`False`).\n",
        "\n",
        "### Логические значения `True`:\n",
        "\n",
        "- Логическое значение `True` само по себе считается истинным.\n",
        "- Любое ненулевое число.\n",
        "- Непустая строка.\n",
        "- Любой непустая коллекция (список, кортеж, множество, словарь).\n",
        "\n",
        "Примеры преобразования в логический тип данных `True`:\n"
      ],
      "metadata": {
        "id": "ltjqQO9BhJlr"
      }
    },
    {
      "cell_type": "code",
      "source": [
        "print(\"bool(42) =\", bool(42))\n",
        "print(\"bool('Hello') =\", bool(\"Hello\"))\n",
        "print(\"bool([1, 2, 3]) =\", bool([1, 2, 3]))"
      ],
      "metadata": {
        "colab": {
          "base_uri": "https://localhost:8080/"
        },
        "id": "gcV7tOfLk0_s",
        "outputId": "685317ac-f8db-4bf1-a7f8-fb8e39631d65"
      },
      "execution_count": null,
      "outputs": [
        {
          "output_type": "stream",
          "name": "stdout",
          "text": [
            "bool(42) = True\n",
            "bool('Hello') = True\n",
            "bool([1, 2, 3]) = True\n"
          ]
        }
      ]
    },
    {
      "cell_type": "markdown",
      "source": [
        "### Логические значения `False`:\n",
        "\n",
        "- Ноль (0).\n",
        "- Пустая строка.\n",
        "- Пустой контейнер (пустой список, кортеж, множество, словарь).\n",
        "- None.\n",
        "\n",
        "Примеры преобразования в логический тип данных `False`:"
      ],
      "metadata": {
        "id": "r0MqkBl7kbi6"
      }
    },
    {
      "cell_type": "code",
      "source": [
        "print(\"bool(0) =\", bool(0))\n",
        "print(\"bool('') =\", bool(\"\"))\n",
        "print(\"bool([]) =\", bool([]))\n",
        "print(\"bool(None) =\", bool(None))"
      ],
      "metadata": {
        "colab": {
          "base_uri": "https://localhost:8080/"
        },
        "id": "XigxFFJnkv-W",
        "outputId": "a16c709e-4567-4372-a98f-906653b0ab88"
      },
      "execution_count": null,
      "outputs": [
        {
          "output_type": "stream",
          "name": "stdout",
          "text": [
            "bool(0) = False\n",
            "bool('') = False\n",
            "bool([]) = False\n",
            "bool(None) = False\n"
          ]
        }
      ]
    },
    {
      "cell_type": "markdown",
      "source": [
        "# Функция `input()` в Python"
      ],
      "metadata": {
        "id": "B0mHcsFfwEFc"
      }
    },
    {
      "cell_type": "markdown",
      "source": [
        "\n",
        "В Python функция `input()` используется для ввода данных с клавиатуры. Она ожидает ввода пользователя и возвращает введенную строку.\n",
        "Вот простой пример использования:\n"
      ],
      "metadata": {
        "id": "__hokfDPt6oh"
      }
    },
    {
      "cell_type": "code",
      "source": [
        "user_input = input()\n",
        "print(\"Вы ввели:\", user_input)"
      ],
      "metadata": {
        "colab": {
          "base_uri": "https://localhost:8080/"
        },
        "id": "unb99vhGwKYZ",
        "outputId": "d531214a-8a52-4f27-9054-f1cef7a985b5"
      },
      "execution_count": null,
      "outputs": [
        {
          "output_type": "stream",
          "name": "stdout",
          "text": [
            "gfhfh\n",
            "Вы ввели: gfhfh\n"
          ]
        }
      ]
    },
    {
      "cell_type": "markdown",
      "source": [
        "Функция `input()` в Python может принимать аргумент, который будет использован в качестве подсказки для пользователя. Этот аргумент предоставляет информацию о том, что от пользователя ожидается при вводе данных. Вот пример:\n"
      ],
      "metadata": {
        "id": "O74WNsW6wle_"
      }
    },
    {
      "cell_type": "code",
      "source": [
        "user_input = input(\"Введите что-то: \")\n",
        "print(\"Вы ввели:\", user_input)"
      ],
      "metadata": {
        "id": "7qJTNbpPwoRj"
      },
      "execution_count": null,
      "outputs": []
    },
    {
      "cell_type": "markdown",
      "source": [
        "# Комментарии в Python"
      ],
      "metadata": {
        "id": "pjJjzif0yAV6"
      }
    },
    {
      "cell_type": "markdown",
      "source": [
        "В Python комментарии используются для добавления пояснений к коду. Они игнорируются интерпретатором и не влияют на выполнение программы. Комментарии позволяют делать код более понятным и легко читаемым для других разработчиков.\n",
        "\n",
        "## Однострочные комментарии\n",
        "\n",
        "Однострочные комментарии начинаются с символа `#`. Все, что идет после `#`, считается комментарием.\n",
        "\n"
      ],
      "metadata": {
        "id": "rfK4-CRBx-_m"
      }
    },
    {
      "cell_type": "code",
      "source": [
        "# Это однострочный комментарий\n",
        "print(42)  # Это также однострочный комментарий"
      ],
      "metadata": {
        "id": "2dAqB36ayb7l"
      },
      "execution_count": null,
      "outputs": []
    },
    {
      "cell_type": "markdown",
      "source": [
        "## Многострочные комментарии\n",
        "\n",
        "В Python нет официальной поддержки многострочных комментариев, но можно использовать строки-документации (docstrings) для подобного эффекта. Обычно многострочные комментарии оформляются в тройных кавычках (одинарных или двойных)."
      ],
      "metadata": {
        "id": "Lmx5E5z5ynXB"
      }
    },
    {
      "cell_type": "code",
      "source": [
        "'''\n",
        "Это\n",
        "многострочный\n",
        "комментарий\n",
        "'''\n",
        "print(42)"
      ],
      "metadata": {
        "colab": {
          "base_uri": "https://localhost:8080/"
        },
        "id": "G4asT7Phyp0i",
        "outputId": "161a10c8-3baa-4724-f6bb-59c2d660a890"
      },
      "execution_count": null,
      "outputs": [
        {
          "output_type": "stream",
          "name": "stdout",
          "text": [
            "42\n"
          ]
        }
      ]
    },
    {
      "cell_type": "markdown",
      "source": [
        "Или используя тройные двойные кавычки:"
      ],
      "metadata": {
        "id": "oIeMPG72y16Z"
      }
    },
    {
      "cell_type": "code",
      "source": [
        "\"\"\"\n",
        "Еще\n",
        "один\n",
        "многострочный\n",
        "комментарий\n",
        "\"\"\"\n",
        "print(42)"
      ],
      "metadata": {
        "colab": {
          "base_uri": "https://localhost:8080/"
        },
        "id": "D3_MjLWHy33d",
        "outputId": "65102ca8-20df-4b43-bcc3-15a5e118b4c6"
      },
      "execution_count": null,
      "outputs": [
        {
          "output_type": "stream",
          "name": "stdout",
          "text": [
            "42\n"
          ]
        }
      ]
    },
    {
      "cell_type": "code",
      "source": [
        "# help(print())\n",
        "help(print)"
      ],
      "metadata": {
        "colab": {
          "base_uri": "https://localhost:8080/"
        },
        "id": "kmfRKbq6ntT_",
        "outputId": "c37decca-df76-41a9-8501-600c6bca6940"
      },
      "execution_count": null,
      "outputs": [
        {
          "output_type": "stream",
          "name": "stdout",
          "text": [
            "Help on built-in function print in module builtins:\n",
            "\n",
            "print(...)\n",
            "    print(value, ..., sep=' ', end='\\n', file=sys.stdout, flush=False)\n",
            "    \n",
            "    Prints the values to a stream, or to sys.stdout by default.\n",
            "    Optional keyword arguments:\n",
            "    file:  a file-like object (stream); defaults to the current sys.stdout.\n",
            "    sep:   string inserted between values, default a space.\n",
            "    end:   string appended after the last value, default a newline.\n",
            "    flush: whether to forcibly flush the stream.\n",
            "\n"
          ]
        }
      ]
    },
    {
      "cell_type": "markdown",
      "source": [
        "Комментарии к коду помогают пояснить его структуру и логику. Используйте комментарии разумно, чтобы сделать ваш код более понятным и улучшить его документацию. Пример:"
      ],
      "metadata": {
        "id": "Yi5N7DaZzJXq"
      }
    },
    {
      "cell_type": "code",
      "source": [
        "radius = 5  # Радиус круга\n",
        "\n",
        "area = 3.14159 * radius ** 2  # Вычисление площади круга\n",
        "\n",
        "# Вывод результата\n",
        "print(\"Радиус круга:\", radius)\n",
        "print(\"Площадь круга:\", area)"
      ],
      "metadata": {
        "id": "kqtQse3UzhdZ"
      },
      "execution_count": null,
      "outputs": []
    },
    {
      "cell_type": "markdown",
      "source": [
        "Также комментарии часто используются для того чтобы временно скрыть часть кода (вместо удаления), которая в данный момент не желательна к выполнению."
      ],
      "metadata": {
        "id": "aA-LLP3L0UmT"
      }
    },
    {
      "cell_type": "code",
      "source": [
        "# radius = 5  # Радиус круга\n",
        "radius = 7  # Радиус круга\n",
        "# radius = 9  # Радиус круга\n",
        "\n",
        "area = 3.14159 * radius ** 2  # Вычисление площади круга\n",
        "\n",
        "# Вывод результата\n",
        "print(\"Радиус круга:\", radius, end=\" | \")\n",
        "print(\"Площадь круга:\", area)"
      ],
      "metadata": {
        "colab": {
          "base_uri": "https://localhost:8080/"
        },
        "id": "FMC44riK0vZ3",
        "outputId": "459f7954-4aef-4765-e5c7-3db5105b537c"
      },
      "execution_count": null,
      "outputs": [
        {
          "output_type": "stream",
          "name": "stdout",
          "text": [
            "Радиус круга: 7 | Площадь круга: 153.93791\n"
          ]
        }
      ]
    },
    {
      "cell_type": "markdown",
      "source": [
        "# Задачи:"
      ],
      "metadata": {
        "id": "JU_WetDe0HNe"
      }
    },
    {
      "cell_type": "markdown",
      "source": [
        "## Задача 1\n",
        "Вывести тип и результат выражения 3/2.\n"
      ],
      "metadata": {
        "id": "DKFrsgnv09n1"
      }
    },
    {
      "cell_type": "markdown",
      "source": [
        "## Задача 2\n",
        "Пользователь вводит 2 числа. Нужно вывести на экран остаток от их деления.\n"
      ],
      "metadata": {
        "id": "VsYDdFcz1RIF"
      }
    },
    {
      "cell_type": "markdown",
      "source": [
        "## Задача 3\n",
        "Пользователь вводит трёхзначное число. Нужно вывести на экран сумму его цифр.\n"
      ],
      "metadata": {
        "id": "T6C2B_e01ndp"
      }
    },
    {
      "cell_type": "markdown",
      "source": [
        "## Задача 4\n",
        "Создайте четыре переменные a, b, c, d, присвойте им разные значения. Затем поменяйте их значения местами без использования дополнительных переменной."
      ],
      "metadata": {
        "id": "H1_TFSOU5HFW"
      }
    },
    {
      "cell_type": "markdown",
      "source": [
        "## Задача 5\n",
        "Создайте три переменные со строками. Используйте print(), чтобы вывести эти переменные на одной строке, разделяя их конструкцией \" : \". Закончите вывод символом \".\"."
      ],
      "metadata": {
        "id": "huiaCbUn5gxD"
      }
    },
    {
      "cell_type": "markdown",
      "source": [
        "## Задача 6*\n",
        "Пользователь вводит трёхзначное число. Нужно сохранить в той же переменной число с цифрами в обратном порядке, а затем вывести его на экран."
      ],
      "metadata": {
        "id": "xhr6S0dyr7Gk"
      }
    }
  ]
}