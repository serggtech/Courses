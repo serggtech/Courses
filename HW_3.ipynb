{
  "nbformat": 4,
  "nbformat_minor": 0,
  "metadata": {
    "colab": {
      "provenance": [],
      "authorship_tag": "ABX9TyPdPL8I8AF/5hXrqQIdC1Sf",
      "include_colab_link": true
    },
    "kernelspec": {
      "name": "python3",
      "display_name": "Python 3"
    },
    "language_info": {
      "name": "python"
    }
  },
  "cells": [
    {
      "cell_type": "markdown",
      "metadata": {
        "id": "view-in-github",
        "colab_type": "text"
      },
      "source": [
        "<a href=\"https://colab.research.google.com/github/serggtech/Courses/blob/main/HW_3.ipynb\" target=\"_parent\"><img src=\"https://colab.research.google.com/assets/colab-badge.svg\" alt=\"Open In Colab\"/></a>"
      ]
    },
    {
      "cell_type": "code",
      "execution_count": null,
      "metadata": {
        "colab": {
          "base_uri": "https://localhost:8080/"
        },
        "id": "DZT85F3TvMBb",
        "outputId": "2f3baa3a-5a71-4c27-ed1c-810390ecfbad"
      },
      "outputs": [
        {
          "output_type": "stream",
          "name": "stdout",
          "text": [
            "\n",
            "a сторона ширина: 22\n",
            "b сторона высота: 3\n",
            "\n",
            "**********************\n",
            "*                    *\n",
            "**********************\n"
          ]
        }
      ],
      "source": [
        "# Задача 1\n",
        "## Напишите программу, которая выводит прямоугольник, по периметру состоящий из звездочек *. Высоту и ширину должен ввести пользователь с консоли. (значение минимум 4)\n",
        "## Если высота = 3, а ширина равна 8, то прямоугольник выглядит так:\n",
        "## ********\n",
        "## *      *\n",
        "## ********\n",
        "## P.S.: для начала можете решить упрощенную задачу и вывести прямоугольник размером как в примере.\n",
        "print()\n",
        "width = int(input(\"a сторона ширина: \"))\n",
        "height = int(input(\"b сторона высота: \"))\n",
        "\n",
        "star = \"*\"\n",
        "space = \" \"\n",
        "\n",
        "star_width = star + \"\" + (star * (width - 2)) + \"\" + star\n",
        "space_height = (star + \"\" + (space * (width - 2)) + \"\" + star + \"\\n\") * (height - 2)\n",
        "print()\n",
        "print(star_width)\n",
        "print(space_height, end=\"\")\n",
        "print(star_width)\n"
      ]
    },
    {
      "cell_type": "code",
      "source": [
        "# Задача 2\n",
        "## Отформатируйте текст между кавычками:\n",
        "## “                                     наше Солнце и ближайшие к нему звезды являются частью обширного звездного скопления — галактики Млечный Путь. долгое время люди думали, что это и есть вся Вселенная. только в 1924 г. американский астроном Эдвин Хаббл показал, что наша Галактика — не единственная во Вселенной. На самом деле существует много других галактик, разделенных огромными участками пустого пространства. чтобы доказать это, ему потребовалось измерить расстояния до этих галактик. мы можем определить расстояния до ближайших звезд, наблюдая изменение их положений на небе по мере обращения Земли вокруг Солнца. но другие галактики находятся так далеко, что в отличие от ближайших звезд кажутся неподвижными. поэтому Хабблу пришлось использовать косвенные методы измерения расстояний.                   ”\n",
        "print()\n",
        "\n",
        "string_start = \"                                     наше Солнце и ближайшие к нему звезды являются частью обширного звездного скопления — галактики Млечный Путь. долгое время люди думали, что это и есть вся Вселенная. только в 1924 г. американский астроном Эдвин Хаббл показал, что наша Галактика — не единственная во Вселенной. На самом деле существует много других галактик, разделенных огромными участками пустого пространства. чтобы доказать это, ему потребовалось измерить расстояния до этих галактик. мы можем определить расстояния до ближайших звезд, наблюдая изменение их положений на небе по мере обращения Земли вокруг Солнца. но другие галактики находятся так далеко, что в отличие от ближайших звезд кажутся неподвижными. поэтому Хабблу пришлось использовать косвенные методы измерения расстояний.                   \"\n",
        "print(f\"Неформатированная строка: {string_start}\")\n",
        "string_format = string_start.lstrip().rstrip().capitalize()\n",
        "print()\n",
        "print(f\"Форматированная строка: {string_format}\")"
      ],
      "metadata": {
        "colab": {
          "base_uri": "https://localhost:8080/"
        },
        "id": "3o2YVosivm6-",
        "outputId": "e103ebcc-0105-4e4a-b371-3f64b59d7305"
      },
      "execution_count": null,
      "outputs": [
        {
          "output_type": "stream",
          "name": "stdout",
          "text": [
            "\n",
            "Неформатированная строка:                                      наше Солнце и ближайшие к нему звезды являются частью обширного звездного скопления — галактики Млечный Путь. долгое время люди думали, что это и есть вся Вселенная. только в 1924 г. американский астроном Эдвин Хаббл показал, что наша Галактика — не единственная во Вселенной. На самом деле существует много других галактик, разделенных огромными участками пустого пространства. чтобы доказать это, ему потребовалось измерить расстояния до этих галактик. мы можем определить расстояния до ближайших звезд, наблюдая изменение их положений на небе по мере обращения Земли вокруг Солнца. но другие галактики находятся так далеко, что в отличие от ближайших звезд кажутся неподвижными. поэтому Хабблу пришлось использовать косвенные методы измерения расстояний.                   \n",
            "\n",
            "Форматированная строка: Наше солнце и ближайшие к нему звезды являются частью обширного звездного скопления — галактики млечный путь. долгое время люди думали, что это и есть вся вселенная. только в 1924 г. американский астроном эдвин хаббл показал, что наша галактика — не единственная во вселенной. на самом деле существует много других галактик, разделенных огромными участками пустого пространства. чтобы доказать это, ему потребовалось измерить расстояния до этих галактик. мы можем определить расстояния до ближайших звезд, наблюдая изменение их положений на небе по мере обращения земли вокруг солнца. но другие галактики находятся так далеко, что в отличие от ближайших звезд кажутся неподвижными. поэтому хабблу пришлось использовать косвенные методы измерения расстояний.\n"
          ]
        }
      ]
    },
    {
      "cell_type": "code",
      "source": [
        "# Задача 3\n",
        "## Пользователь вводит строку и подстроку. Необходимо найти индекс первого и последнего вхождения подстроки в строку и вывести их на экран.\n",
        "print()\n",
        "\n",
        "user_string = input(\"Введите строку: \")\n",
        "user_sub_string = input(\"Введите подстроку: \")\n",
        "print()\n",
        "print(\n",
        "    f\"Индекс первого вхожднения подстроки в строку: { user_string.find(user_sub_string) } \\n\"\n",
        "    f\"Индекс последнего вхождения подстроки в строку: { user_string.rfind(user_sub_string) }\"\n",
        ")\n"
      ],
      "metadata": {
        "colab": {
          "base_uri": "https://localhost:8080/"
        },
        "id": "x0Xw956uvsCh",
        "outputId": "2654a2a9-0d09-47dd-a5bc-2cca740dfdfd"
      },
      "execution_count": null,
      "outputs": [
        {
          "output_type": "stream",
          "name": "stdout",
          "text": [
            "\n",
            "Введите строку: 23423423422343\n",
            "Введите подстроку: 444\n",
            "\n",
            "Индекс первого вхожднения подстроки в строку: -1 \n",
            "Индекс последнего вхождения подстроки в строку: -1\n"
          ]
        }
      ]
    },
    {
      "cell_type": "code",
      "source": [
        "# Задача 4\n",
        "## Напишите программу, которая выведет на экран подстроку от 7 до 15 (включительно) символа с конца и в обратном порядке.\n",
        "#\n",
        "## Consectetur accumsan dui in pulvinar dui ipsum sed hac imperdiet accumsan ut. Interdum malesuada dui vel arcu ultricies. Faucibus. Orci, vitae mattis libero, in sed dictumst. Urna tempus nulla luctus elit. Non eget habitasse sodales libero, tempus quam, eleifend ex. Molestie vulputate amet in malesuada leo, molestie mollis ultricies. Mollis pellentesque sed id cras consectetur integer sed vulputate nulla malesuada molestie in et mattis platea amet vel et adipiscing quis.\n",
        "print()\n",
        "string_str = (\n",
        "    \"Consectetur accumsan dui in pulvinar dui ipsum sed hac imperdiet accumsan ut. Interdum malesuada dui \"\n",
        "    \"vel arcu ultricies. Faucibus. Orci, vitae mattis libero, in sed dictumst. Urna tempus nulla luctus \"\n",
        "    \"elit. Non eget habitasse sodales libero, tempus quam, eleifend ex. Molestie vulputate amet in \"\n",
        "    \"malesuada leo, molestie mollis ultricies. Mollis pellentesque sed id cras consectetur integer sed \"\n",
        "    \"vulputate nulla malesuada molestie in et mattis platea amet vel et adipiscing quis.\"\n",
        ")\n",
        "\n",
        "print(string_str[-7:-16:-1])"
      ],
      "metadata": {
        "id": "5KtDC9xrvwlw"
      },
      "execution_count": null,
      "outputs": []
    },
    {
      "cell_type": "code",
      "source": [
        "# Задача 5\n",
        "## Есть строка \"<248>\". Напишите программу, которая выведет на экран произведение чисел этой строки.\n",
        "print(\n",
        "    'Есть строка \"<248>\". Напишите программу, которая выведет на экран произведение чисел этой строки.'\n",
        ")\n",
        "print()\n",
        "string_start = \"<248>\"\n",
        "string_start_new = string_start[1:4]\n",
        "print(\n",
        "    f\"Произведение чисел этой строки: {int(string_start_new[0])*int(string_start_new[1])*int(string_start_new[2])}\"\n",
        ")"
      ],
      "metadata": {
        "id": "mv18hNMiwxYV"
      },
      "execution_count": null,
      "outputs": []
    },
    {
      "cell_type": "code",
      "source": [
        "# Задача 6\n",
        "## Пользователь вводит строку. Напишите программу, которая разрежет строку пополам, переставит эти части местами и выведет результат на экран.\n",
        "print(\"Пользователь вводит строку. Напишите программу, которая разрежет строку пополам, переставит эти части местами и выведет результат на экран.\")\n",
        "print()\n",
        "user_string = input(\"Пользователь вводит строку: \")\n",
        "print()\n",
        "user_string_len = len(user_string)\n",
        "user_string_len_half = int(user_string_len)/2\n",
        "print(user_string_len_half)\n"
      ],
      "metadata": {
        "colab": {
          "base_uri": "https://localhost:8080/"
        },
        "id": "fF2e_nxywjgf",
        "outputId": "9d3e5789-d28e-4fa6-ec17-82ca40645187"
      },
      "execution_count": null,
      "outputs": [
        {
          "output_type": "stream",
          "name": "stdout",
          "text": [
            "Пользователь вводит строку. Напишите программу, которая разрежет строку пополам, переставит эти части местами и выведет результат на экран.\n",
            "\n",
            "Пользователь вводит строку: 123\n",
            "\n",
            "1.5\n"
          ]
        }
      ]
    }
  ]
}