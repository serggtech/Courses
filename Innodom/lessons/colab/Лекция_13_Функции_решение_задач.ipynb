{
  "nbformat": 4,
  "nbformat_minor": 0,
  "metadata": {
    "colab": {
      "provenance": [],
      "include_colab_link": true
    },
    "kernelspec": {
      "name": "python3",
      "display_name": "Python 3"
    },
    "language_info": {
      "name": "python"
    }
  },
  "cells": [
    {
      "cell_type": "markdown",
      "metadata": {
        "id": "view-in-github",
        "colab_type": "text"
      },
      "source": [
        "<a href=\"https://colab.research.google.com/github/serggtech/Courses/blob/main/%D0%9B%D0%B5%D0%BA%D1%86%D0%B8%D1%8F_13_%D0%A4%D1%83%D0%BD%D0%BA%D1%86%D0%B8%D0%B8_%D1%80%D0%B5%D1%88%D0%B5%D0%BD%D0%B8%D0%B5_%D0%B7%D0%B0%D0%B4%D0%B0%D1%87.ipynb\" target=\"_parent\"><img src=\"https://colab.research.google.com/assets/colab-badge.svg\" alt=\"Open In Colab\"/></a>"
      ]
    },
    {
      "cell_type": "markdown",
      "source": [
        "Декоратор, кэширующий результат работы функции"
      ],
      "metadata": {
        "id": "ZgVRu3FA2NHO"
      }
    },
    {
      "cell_type": "code",
      "source": [
        "def cache_func(func):\n",
        "    cache_dict = {}\n",
        "\n",
        "    def wrapper(*args, **kwargs):\n",
        "        if args in cache_dict:\n",
        "            print(f\"Returning cached result for arguments {args}\")\n",
        "            return cache_dict[args]\n",
        "        else:\n",
        "            print(f\"Counting result for arguments {args}\")\n",
        "            result = func(*args, **kwargs)\n",
        "            cache_dict[args] = result\n",
        "            return result\n",
        "\n",
        "    def display_cache():\n",
        "        print(\"\\nFunction calls and results:\")\n",
        "        for args, result in cache_dict.items():\n",
        "            print(f\"Function called with arguments {args} and returned {result}\")\n",
        "\n",
        "    wrapper.display_cache = display_cache\n",
        "    wrapper.cache_dict = cache_dict  # Правильнее через метод\n",
        "    return wrapper\n",
        "\n",
        "@cache_func\n",
        "def add(x, y):\n",
        "    return x + y\n",
        "\n",
        "print(add)\n",
        "print(add(3, 4))\n",
        "print(add(3, 4))  # Вернет кэшированный результат\n",
        "print(add(3, 4))  # Вернет кэшированный результат\n",
        "print(add(1, 2))\n",
        "\n",
        "# Показать кэш\n",
        "add.display_cache()\n",
        "print('-----------------------------------------------------------')\n",
        "\n",
        "@cache_func\n",
        "def subtract(x, y):\n",
        "    return x - y\n",
        "\n",
        "print(subtract)\n",
        "subtract(2, 4) # Для subtract значения хранятся отдельно\n",
        "subtract.display_cache()\n",
        "print(subtract.cache_dict)\n"
      ],
      "metadata": {
        "colab": {
          "base_uri": "https://localhost:8080/"
        },
        "id": "aSzDREtAvlw4",
        "outputId": "d714a240-5d06-46b7-9d92-eb5e618e0482"
      },
      "execution_count": null,
      "outputs": [
        {
          "output_type": "stream",
          "name": "stdout",
          "text": [
            "<function cache_func.<locals>.wrapper at 0x7a6f0356a560>\n",
            "Counting result for arguments (3, 4)\n",
            "7\n",
            "Returning cached result for arguments (3, 4)\n",
            "7\n",
            "Returning cached result for arguments (3, 4)\n",
            "7\n",
            "Counting result for arguments (1, 2)\n",
            "3\n",
            "\n",
            "Function calls and results:\n",
            "Function called with arguments (3, 4) and returned 7\n",
            "Function called with arguments (1, 2) and returned 3\n",
            "-----------------------------------------------------------\n",
            "<function cache_func.<locals>.wrapper at 0x7a6f03593e20>\n",
            "Counting result for arguments (2, 4)\n",
            "\n",
            "Function calls and results:\n",
            "Function called with arguments (2, 4) and returned -2\n",
            "{(2, 4): -2}\n"
          ]
        }
      ]
    },
    {
      "cell_type": "markdown",
      "source": [
        "Декоратор, кэширующий результат работы функции и расчитывающий время выполнения:"
      ],
      "metadata": {
        "id": "AkVW32Qx2y34"
      }
    },
    {
      "cell_type": "code",
      "source": [
        "import time\n",
        "\n",
        "def cache_func(func):\n",
        "    cache_dict = {}\n",
        "\n",
        "    def time_counter(start_time):\n",
        "        end_time = time.time()\n",
        "        execution_time = end_time - start_time\n",
        "        print(f\"Time of function execution {func.__name__}: {execution_time * 1000} milliseconds\")\n",
        "\n",
        "    def wrapper(*args, **kwargs):\n",
        "        start_time = time.time()\n",
        "\n",
        "        if args in cache_dict:\n",
        "            print(f\"Returning cached result for arguments {args}\")\n",
        "\n",
        "            time_counter(start_time)\n",
        "\n",
        "            return cache_dict[args]\n",
        "        else:\n",
        "            print(f\"Counting result for arguments {args}\")\n",
        "            result = func(*args, **kwargs)\n",
        "            cache_dict[args] = result\n",
        "\n",
        "            time_counter(start_time)\n",
        "\n",
        "            return result\n",
        "\n",
        "    def display_cache():\n",
        "        print(\"\\nFunction calls and results:\")\n",
        "        for args, result in cache_dict.items():\n",
        "            print(f\"Function called with arguments {args} and returned {result}\")\n",
        "\n",
        "    wrapper.display_cache = display_cache\n",
        "    return wrapper\n",
        "\n",
        "@cache_func\n",
        "def factorial(n):\n",
        "    result = 1\n",
        "    for i in range(1, n + 1):\n",
        "        result *= i\n",
        "    return result\n",
        "\n",
        "print(factorial)\n",
        "factorial(2)\n",
        "factorial(2)  # Вернет кэшированный результат\n",
        "factorial(45)\n",
        "factorial(45)  # Вернет кэшированный результат\n",
        "factorial(999)\n",
        "factorial(999)  # Вернет кэшированный результат\n",
        "\n",
        "# Показать кэш\n",
        "factorial.display_cache()\n",
        "print()"
      ],
      "metadata": {
        "id": "9GXiiRjK2ZXy"
      },
      "execution_count": null,
      "outputs": []
    },
    {
      "cell_type": "code",
      "source": [
        "registered_users = {}\n",
        "\n",
        "def encode_password(func):\n",
        "    def wrapper(username, password):\n",
        "        # Кодирование пароля перед регистрацией\n",
        "        encoded_password = hash(password)\n",
        "        return func(username, encoded_password)\n",
        "    return wrapper\n",
        "\n",
        "@encode_password\n",
        "def register_encoded(username, password):\n",
        "    registered_users[username] = password\n",
        "    print(\"User registered successfully.\")\n",
        "\n",
        "@encode_password\n",
        "def login_checked(username, password):\n",
        "    if username in registered_users:\n",
        "        registered_password = registered_users[username]\n",
        "        # Проверка соответствия введенного пароля и сохраненного в словаре\n",
        "        if registered_password == password:\n",
        "            print(\"Login successful!\")\n",
        "        else:\n",
        "            print(\"Incorrect password!\")\n",
        "    else:\n",
        "        print(\"User not found!\")\n",
        "\n",
        "# Пример использования\n",
        "register_encoded(\"user1\", \"password123\")\n",
        "register_encoded(\"user2\", \"password\")\n",
        "login_checked(\"user1\", \"password123\")\n",
        "login_checked(\"user1\", \"password1234\")\n",
        "print(registered_users)"
      ],
      "metadata": {
        "colab": {
          "base_uri": "https://localhost:8080/"
        },
        "id": "-n72kyL7-4Qf",
        "outputId": "d4118065-6bae-4a1f-9ef9-169c61c0671f"
      },
      "execution_count": null,
      "outputs": [
        {
          "output_type": "stream",
          "name": "stdout",
          "text": [
            "User registered successfully.\n",
            "User registered successfully.\n",
            "Login successful!\n",
            "Incorrect password!\n",
            "{'user1': 7686891348403431852, 'user2': 1073729121858674493}\n"
          ]
        }
      ]
    },
    {
      "cell_type": "markdown",
      "source": [
        "# Задача\n",
        "Написать декоратор, который записывает аргументы и результат работы функций в файлы, который называется как функции. Использовать его на нескольких функциях."
      ],
      "metadata": {
        "id": "ZQ_XWqp60qfr"
      }
    }
  ]
}