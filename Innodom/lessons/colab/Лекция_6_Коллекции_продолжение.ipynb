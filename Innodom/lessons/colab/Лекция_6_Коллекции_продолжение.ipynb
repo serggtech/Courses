{
  "nbformat": 4,
  "nbformat_minor": 0,
  "metadata": {
    "colab": {
      "provenance": [],
      "include_colab_link": true
    },
    "kernelspec": {
      "name": "python3",
      "display_name": "Python 3"
    },
    "language_info": {
      "name": "python"
    }
  },
  "cells": [
    {
      "cell_type": "markdown",
      "metadata": {
        "id": "view-in-github",
        "colab_type": "text"
      },
      "source": [
        "<a href=\"https://colab.research.google.com/github/serggtech/Courses/blob/main/%D0%9B%D0%B5%D0%BA%D1%86%D0%B8%D1%8F_6_%D0%9A%D0%BE%D0%BB%D0%BB%D0%B5%D0%BA%D1%86%D0%B8%D0%B8_%D0%BF%D1%80%D0%BE%D0%B4%D0%BE%D0%BB%D0%B6%D0%B5%D0%BD%D0%B8%D0%B5.ipynb\" target=\"_parent\"><img src=\"https://colab.research.google.com/assets/colab-badge.svg\" alt=\"Open In Colab\"/></a>"
      ]
    },
    {
      "cell_type": "markdown",
      "source": [
        "# Множество (`set`)"
      ],
      "metadata": {
        "id": "NPnsoovXGdax"
      }
    },
    {
      "cell_type": "markdown",
      "source": [
        "Множество (set) представляет собой неупорядоченную (неиндексированная) коллекцию уникальных неизменяемых элементов. Если при создании множества элементы в нём повторяются, то повторные элементы из множества удаляются.\n",
        "\n",
        "Ниже вы можете наблюдать что происходит с элементами внутри `set` после создания.\n"
      ],
      "metadata": {
        "id": "XuCPkk14HkLC"
      }
    },
    {
      "cell_type": "code",
      "source": [
        "my_set = {6, 1, 1, 2, 11, 2, 4}\n",
        "print(my_set)"
      ],
      "metadata": {
        "colab": {
          "base_uri": "https://localhost:8080/"
        },
        "id": "HzvKvndEH050",
        "outputId": "5c7cde75-4a76-4cc5-cf24-963d9a85f69c"
      },
      "execution_count": null,
      "outputs": [
        {
          "output_type": "stream",
          "name": "stdout",
          "text": [
            "{1, 2, 4, 6, 11}\n"
          ]
        }
      ]
    },
    {
      "cell_type": "markdown",
      "source": [
        "Обратите внимание что дубликаты элементов были удалены, а также порядок элементов изменился."
      ],
      "metadata": {
        "id": "xbJS7_ymI0We"
      }
    },
    {
      "cell_type": "markdown",
      "source": [
        "## Создание множествa\n"
      ],
      "metadata": {
        "id": "V2ZwSK5QqQGQ"
      }
    },
    {
      "cell_type": "markdown",
      "source": [
        "1. Создание пустого множествa"
      ],
      "metadata": {
        "id": "4xJrCtu6qT71"
      }
    },
    {
      "cell_type": "code",
      "source": [
        "s = set()\n",
        "print(s)\n",
        "print(type(s))"
      ],
      "metadata": {
        "colab": {
          "base_uri": "https://localhost:8080/"
        },
        "id": "tKOjVVUwqdkT",
        "outputId": "94978217-1c1a-4cd1-a303-71854d958bc0"
      },
      "execution_count": null,
      "outputs": [
        {
          "output_type": "stream",
          "name": "stdout",
          "text": [
            "set()\n",
            "<class 'set'>\n"
          ]
        }
      ]
    },
    {
      "cell_type": "markdown",
      "source": [
        "2. Создание множествa со значениями"
      ],
      "metadata": {
        "id": "k0_1pwnkqe8P"
      }
    },
    {
      "cell_type": "code",
      "source": [
        "s = {1, 3, 2}\n",
        "print(s)\n",
        "print(type(s))"
      ],
      "metadata": {
        "colab": {
          "base_uri": "https://localhost:8080/"
        },
        "id": "Gzy7QuorqwHI",
        "outputId": "5d17e5b9-9cdd-4df1-efec-7c12bf3da8e3"
      },
      "execution_count": null,
      "outputs": [
        {
          "output_type": "stream",
          "name": "stdout",
          "text": [
            "{1, 2, 3}\n",
            "<class 'set'>\n"
          ]
        }
      ]
    },
    {
      "cell_type": "markdown",
      "source": [
        "## Хранение элементов в множестве"
      ],
      "metadata": {
        "id": "HJz9KGksJCnm"
      }
    },
    {
      "cell_type": "markdown",
      "source": [
        "Элементы в множестве хранятся с использованием хеш-таблицы (hash table). Хеш-таблица - это структура данных, которая обеспечивает быстрый поиск, вставку и удаление элементов. Она основана на хеш-функции, которая пересчитывает элементы в уникальные целочисленные значения, называемые хеш-кодами.\n",
        "\n",
        "Процесс работы хеш-таблицы в множествах выглядит примерно так:\n",
        "\n",
        "1. Хеширование элемента:\n",
        "\n",
        "  - Когда вы добавляете элемент в множество, Python вычисляет хеш-код для этого элемента с использованием встроенной функции hash().\n",
        "  - Хеш-код - это целое число, которое служит индексом элемента множества.\n",
        "\n",
        "2. Помещение элемента в хеш-таблицу:\n",
        "\n",
        "  - После вычисления хеш-кода, элемент помещается в соответствующую ячейку хеш-таблицы.\n",
        "  - Если в ячейке уже есть элементы (коллизия), то Python использует метод разрешения коллизий, например, цепочки или открытое хеширование, чтобы разместить элемент в другой ячейке.\n",
        "\n",
        "3. Поиск элемента:\n",
        "\n",
        "  - При поиске элемента в множестве, Python снова вычисляет хеш-код для этого элемента.\n",
        "  - Затем он переходит к соответствующей ячейке хеш-таблицы и ищет элемент.\n",
        "  - Если ячейка содержит цепочку элементов, Python может сравнивать значения элементов, чтобы найти нужный.\n",
        "\n",
        "4. Удаление элемента:\n",
        "\n",
        "  - При удалении элемента из множества, Python вычисляет хеш-код для элемента.\n",
        "  - Затем он находит ячейку с соответствующим хеш-кодом и удаляет элемент из этой ячейки.\n",
        "\n",
        "Ниже произведен расчет хеш-кода для одинаковых строк."
      ],
      "metadata": {
        "id": "wSzKIMa4JUUe"
      }
    },
    {
      "cell_type": "code",
      "source": [
        "s = \"hello world\"\n",
        "s2 = \"hello world\"\n",
        "print(hash(s))\n",
        "print(hash(s2))"
      ],
      "metadata": {
        "colab": {
          "base_uri": "https://localhost:8080/"
        },
        "id": "8p6Xl8EQJ8fF",
        "outputId": "1b61bb4a-40d9-405f-a7a1-1421edb8a531"
      },
      "execution_count": null,
      "outputs": [
        {
          "output_type": "stream",
          "name": "stdout",
          "text": [
            "-337617303599319754\n",
            "6100162060527919470\n"
          ]
        }
      ]
    },
    {
      "cell_type": "markdown",
      "source": [
        "### Распределение по бакетам в хеш-таблицах"
      ],
      "metadata": {
        "id": "yKIKUucsOSwJ"
      }
    },
    {
      "cell_type": "markdown",
      "source": [
        "Также важно отметить что элементы хранятся не только в ячейке по адресу хеша, а также хеши распределены по бакетам.\n",
        "\n",
        "Распределение по бакетам — это метод хранения данных в хеш-таблицах, где элементы, имеющие разные хеш-коды, могут быть размещены в одном и том же бакете. Этот метод обеспечивает эффективное управление памятью и обеспечивает быстрый доступ к данным. Вот основные шаги этого процесса:\n",
        "\n",
        "1. Хеширование:\n",
        "\n",
        "  - При добавлении элемента в хеш-таблицу, ему присваивается уникальный хеш-код.\n",
        "\n",
        "2. Выбор бакета:\n",
        "\n",
        "  - Хеш-код элемента преобразуется в индекс бакета. Это часто делается путем взятия остатка от деления хеш-кода на размер массива бакетов (hash_code % num_buckets).\n",
        "\n",
        "3. Добавление в бакет:\n",
        "\n",
        "  - Элемент размещается в соответствующем бакете. Важно отметить, что разные элементы с разными хеш-кодами могут оказаться в одном и том же бакете.\n",
        "\n",
        "4. Поиск в бакете:\n",
        "\n",
        "  - При поиске элемента, хеш-код элемента преобразуется в индекс бакета, и поиск происходит внутри соответствующего бакета.\n",
        "\n",
        "5. Удаление из бакета:\n",
        "\n",
        "  - При удалении элемента, хеш-код преобразуется в индекс бакета, и элемент удаляется из соответствующего бакета."
      ],
      "metadata": {
        "id": "H6H0kXKJOboc"
      }
    },
    {
      "cell_type": "markdown",
      "source": [
        "## Математические операции со множествами"
      ],
      "metadata": {
        "id": "MHB7lPeMUQGf"
      }
    },
    {
      "cell_type": "markdown",
      "source": [
        "В Python, множества предоставляют мощные средства для выполнения различных математических операций над данными. Вот как можно использовать множества для решения различных задач:\n",
        "\n",
        "### 1. Объединение Множеств (`Union`) (`|`)\n",
        "\n",
        "- Возвращает все уникальные элементы из обоих множеств:\n"
      ],
      "metadata": {
        "id": "kcFS5rq8VU1J"
      }
    },
    {
      "cell_type": "code",
      "source": [
        "set1 = {1, 2, 3, 4, 5}\n",
        "set2 = {3, 4, 5, 6, 7}\n",
        "\n",
        "union_set = set1 | set2\n",
        "print(union_set)\n",
        "# Или используя метод union()\n",
        "union_set = set1.union(set2)\n",
        "print(union_set)"
      ],
      "metadata": {
        "colab": {
          "base_uri": "https://localhost:8080/"
        },
        "id": "K--iGwUMVirK",
        "outputId": "fdce49a9-9bd5-459c-dff0-c106a7a67115"
      },
      "execution_count": null,
      "outputs": [
        {
          "output_type": "stream",
          "name": "stdout",
          "text": [
            "{1, 2, 3, 4, 5, 6, 7}\n",
            "{1, 2, 3, 4, 5, 6, 7}\n"
          ]
        }
      ]
    },
    {
      "cell_type": "markdown",
      "source": [
        "### 2. Пересечение Множеств (`Intersection`) (`&`)\n",
        "\n",
        "- Возвращает новое множество, содержащее только те элементы, которые присутствуют в обоих множествах.\n"
      ],
      "metadata": {
        "id": "qAUjYlP1WATG"
      }
    },
    {
      "cell_type": "code",
      "source": [
        "set1 = {1, 2, 3, 4, 5}\n",
        "set2 = {3, 4, 5, 6, 7}\n",
        "\n",
        "intersection_set = set1 & set2\n",
        "print(intersection_set)\n",
        "# Или используя метод intersection()\n",
        "intersection_set = set1.intersection(set2)\n",
        "print(intersection_set)"
      ],
      "metadata": {
        "colab": {
          "base_uri": "https://localhost:8080/"
        },
        "id": "bCY2MZBBWInQ",
        "outputId": "22323f4d-8798-49e9-dd90-8d1f65fb69c4"
      },
      "execution_count": null,
      "outputs": [
        {
          "output_type": "stream",
          "name": "stdout",
          "text": [
            "{3, 4, 5}\n",
            "{3, 4, 5}\n"
          ]
        }
      ]
    },
    {
      "cell_type": "markdown",
      "source": [
        "### 3. Разность Множеств (`Difference`) (`-`)\n",
        "\n",
        "- Возвращает новое множество, содержащее все элементы из первого множества, которые отсутствуют во втором множестве."
      ],
      "metadata": {
        "id": "za8BeRQdWmwS"
      }
    },
    {
      "cell_type": "code",
      "source": [
        "set1 = {1, 2, 3, 4, 5}\n",
        "set2 = {3, 4, 5, 6, 7}\n",
        "\n",
        "difference_set = set1 - set2\n",
        "print(difference_set)\n",
        "# Или используя метод difference()\n",
        "difference_set = set1.difference(set2)\n",
        "print(difference_set)"
      ],
      "metadata": {
        "colab": {
          "base_uri": "https://localhost:8080/"
        },
        "id": "MXyTL_B3XAYX",
        "outputId": "356978e1-beee-4d7f-a352-35e1d529e658"
      },
      "execution_count": null,
      "outputs": [
        {
          "output_type": "stream",
          "name": "stdout",
          "text": [
            "{1, 2}\n",
            "{1, 2}\n"
          ]
        }
      ]
    },
    {
      "cell_type": "markdown",
      "source": [
        "### 4. Симметрическая Разность (`Symmetric Difference`) (`^`)\n",
        "\n",
        "- Возвращает новое множество, содержащее элементы, которые присутствуют в одном из множеств, но не в обоих."
      ],
      "metadata": {
        "id": "cr_WQTu7WwIM"
      }
    },
    {
      "cell_type": "code",
      "source": [
        "set1 = {1, 2, 3, 4, 5}\n",
        "set2 = {3, 4, 5, 6, 7}\n",
        "\n",
        "symmetric_difference_set = set1 ^ set2\n",
        "print(symmetric_difference_set)\n",
        "# Или используя метод symmetric_difference()\n",
        "symmetric_difference_set = set1.symmetric_difference(set2)\n",
        "print(symmetric_difference_set)"
      ],
      "metadata": {
        "colab": {
          "base_uri": "https://localhost:8080/"
        },
        "id": "7Qy4t5HxW-hd",
        "outputId": "ae65324b-401f-40e6-abe4-879efa0882ca"
      },
      "execution_count": null,
      "outputs": [
        {
          "output_type": "stream",
          "name": "stdout",
          "text": [
            "{1, 2, 6, 7}\n",
            "{1, 2, 6, 7}\n"
          ]
        }
      ]
    },
    {
      "cell_type": "markdown",
      "source": [
        "## Проверка подмножества и надмножества\n",
        "\n",
        "Множество является подмножеством другого множества, если все его элементы присутствуют в этом множестве, и надмножеством, если оно содержит все элементы другого множества:"
      ],
      "metadata": {
        "id": "21L8HVyTYii0"
      }
    },
    {
      "cell_type": "code",
      "source": [
        "set1 = {5, 3, 4}\n",
        "set2 = {3, 4, 5, 6, 7}\n",
        "\n",
        "print(set1.issubset(set2))\n",
        "print(set1.issuperset(set2))"
      ],
      "metadata": {
        "colab": {
          "base_uri": "https://localhost:8080/"
        },
        "id": "jVuc4lW7Ymy0",
        "outputId": "b55c0fed-1f60-4066-8a1f-d1435b010082"
      },
      "execution_count": null,
      "outputs": [
        {
          "output_type": "stream",
          "name": "stdout",
          "text": [
            "True\n",
            "False\n"
          ]
        }
      ]
    },
    {
      "cell_type": "code",
      "source": [
        "set1 = {5, 3, 4}\n",
        "set2 = {3, 4, 5, 6, 7}\n",
        "\n",
        "print(set2.issubset(set1))\n",
        "print(set2.issuperset(set1))"
      ],
      "metadata": {
        "colab": {
          "base_uri": "https://localhost:8080/"
        },
        "id": "SviyaJTvY8xu",
        "outputId": "882c85b6-e650-4203-b550-b7fe80d6b82c"
      },
      "execution_count": null,
      "outputs": [
        {
          "output_type": "stream",
          "name": "stdout",
          "text": [
            "False\n",
            "True\n"
          ]
        }
      ]
    },
    {
      "cell_type": "markdown",
      "source": [
        "## Операторы in и not in\n"
      ],
      "metadata": {
        "id": "Tev_1ru_ZZ8P"
      }
    },
    {
      "cell_type": "markdown",
      "source": [
        "Оператор `in` используется для проверки вхождения элемента в множество. Если элемент присутствует в множестве, оператор вернет True, в противном случае - False. `not in` возвращает обратные значения."
      ],
      "metadata": {
        "id": "C_rI4wErZdq3"
      }
    },
    {
      "cell_type": "code",
      "source": [
        "my_set = {1, 2, 3, 4, 5}\n",
        "\n",
        "# Проверка вхождения элемента\n",
        "print(3 in my_set)\n",
        "print(4 not in my_set)"
      ],
      "metadata": {
        "id": "Y1IW1K6IZzZT"
      },
      "execution_count": null,
      "outputs": []
    },
    {
      "cell_type": "markdown",
      "source": [
        "## Операторы сравнения"
      ],
      "metadata": {
        "id": "If4kCs4_bhFw"
      }
    },
    {
      "cell_type": "markdown",
      "source": [
        "### Операторы `==` и `!=`"
      ],
      "metadata": {
        "id": "CsDyp0JSaIUG"
      }
    },
    {
      "cell_type": "markdown",
      "source": [
        "Оператор `==` сравнивает два множества на равенство. Если все элементы одного множества присутствуют в другом множестве (и наоборот), то множества считаются равными. `!=` возвращает обратные значения.\n",
        "\n"
      ],
      "metadata": {
        "id": "q3_s1P5DaOGI"
      }
    },
    {
      "cell_type": "code",
      "source": [
        "set1 = {1, 2, 3}\n",
        "set2 = {3, 2, 1}\n",
        "\n",
        "# Проверка равенства множеств\n",
        "print(set1 == set2)\n",
        "print(set1 != set2)"
      ],
      "metadata": {
        "colab": {
          "base_uri": "https://localhost:8080/"
        },
        "id": "5yZBUvVkaa5B",
        "outputId": "45bbc5fc-c156-41a5-ba15-216222141f23"
      },
      "execution_count": null,
      "outputs": [
        {
          "output_type": "stream",
          "name": "stdout",
          "text": [
            "True\n",
            "False\n"
          ]
        }
      ]
    },
    {
      "cell_type": "markdown",
      "source": [
        "### Операторы `>`, `>=`, `<`, `<=`"
      ],
      "metadata": {
        "id": "DHtxicY3bkLL"
      }
    },
    {
      "cell_type": "markdown",
      "source": [
        "Операторы сравнения (`>`, `>=`, `<`, `<=`) также могут использоваться с множествами. Они сравнивают множества лексикографически, что означает, что они сравнивают их элементы в порядке возрастания.\n",
        "\n",
        "Давайте рассмотрим примеры:\n"
      ],
      "metadata": {
        "id": "PeqM7Yu3bzH6"
      }
    },
    {
      "cell_type": "code",
      "source": [
        "set1 = {1, 2, 5}\n",
        "set2 = {1, 2, 3, 4, 5}\n",
        "\n",
        "# Проверка, является ли set1 подмножеством set2\n",
        "print(set1 < set2)\n",
        "\n",
        "# Проверка, является ли set1 подмножеством set2 или равен ему\n",
        "print(set1 <= set2)"
      ],
      "metadata": {
        "colab": {
          "base_uri": "https://localhost:8080/"
        },
        "id": "VnavXTG0cCkw",
        "outputId": "69020d39-2519-4ee8-c29e-3a26ade61fae"
      },
      "execution_count": null,
      "outputs": [
        {
          "output_type": "stream",
          "name": "stdout",
          "text": [
            "True\n",
            "True\n"
          ]
        }
      ]
    },
    {
      "cell_type": "code",
      "source": [
        "set1 = {5, 3, 4}\n",
        "set2 = {5, 3, 4}\n",
        "\n",
        "print(set1.issubset(set2))\n",
        "print(set1.issuperset(set2))"
      ],
      "metadata": {
        "colab": {
          "base_uri": "https://localhost:8080/"
        },
        "id": "bAZkudhtblSF",
        "outputId": "d5f2a3c0-9543-469c-aa86-cb456c478388"
      },
      "execution_count": null,
      "outputs": [
        {
          "output_type": "stream",
          "name": "stdout",
          "text": [
            "True\n",
            "True\n"
          ]
        }
      ]
    },
    {
      "cell_type": "code",
      "source": [
        "set3 = {7, 2, 3, 1, 6, 4}\n",
        "set4 = {1, 2, 3}\n",
        "\n",
        "# Проверка, является ли set3 строгим надмножеством set4\n",
        "print(set3 > set4)\n",
        "\n",
        "# Проверка, является ли set3 надмножеством set4 или равен ему\n",
        "print(set3 >= set4)"
      ],
      "metadata": {
        "id": "DXkauj3cdBdj"
      },
      "execution_count": null,
      "outputs": []
    },
    {
      "cell_type": "code",
      "source": [
        "set3 = {4, 5, 6}\n",
        "set4 = {1, 2, 3}\n",
        "\n",
        "print(set3 > set4)\n",
        "print(set3 >= set4)\n",
        "print(set3 == set4)\n",
        "print(set3 != set4)\n",
        "print(set3 <= set4)\n",
        "print(set3 < set4)"
      ],
      "metadata": {
        "colab": {
          "base_uri": "https://localhost:8080/"
        },
        "id": "EEsIIW2bdVaq",
        "outputId": "9aff23ab-324a-4cf2-af47-37b77aeadd39"
      },
      "execution_count": null,
      "outputs": [
        {
          "output_type": "stream",
          "name": "stdout",
          "text": [
            "False\n",
            "False\n",
            "False\n",
            "True\n",
            "False\n",
            "False\n"
          ]
        }
      ]
    },
    {
      "cell_type": "markdown",
      "source": [
        "## Функции часто используемые для работы с множествами"
      ],
      "metadata": {
        "id": "6BMZ2ybseG5L"
      }
    },
    {
      "cell_type": "markdown",
      "source": [
        "Работа с множествами облегчается использованием различных встроенных функций. Вот несколько часто используемых и уже знакомых нам функций для работы с множествами:\n",
        "\n",
        "1. len()\n",
        "  - Функция len() возвращает количество элементов в множестве.\n",
        "2. set()\n",
        "  - Функция set() создает новое множество из итерируемого объекта.\n",
        "3. max()\n",
        "  - Функция max() возвращает максимальный элемент в множестве.\n",
        "4. min()\n",
        "  - Функция min() возвращает минимальный элемент в множестве.\n",
        "5. sum()\n",
        "  - Функция sum() возвращает сумму всех элементов в множестве."
      ],
      "metadata": {
        "id": "9ZUJ-IWceJDK"
      }
    },
    {
      "cell_type": "markdown",
      "source": [
        "## Методы для работы с множествами"
      ],
      "metadata": {
        "id": "swntRZHlfTNr"
      }
    },
    {
      "cell_type": "markdown",
      "source": [
        "У множеств есть собственные методы, которые помогают нам манипулировать данными множества. Ниже представлена табличка с этими методами и их описанием.\n",
        "\n",
        "| Метод                   | Описание                                                           |\n",
        "|-------------------------|--------------------------------------------------------------------|\n",
        "| `add()`                 | Добавляет элемент в множество.                                     |\n",
        "| `clear()`               | Удаляет все элементы из множества.                                 |\n",
        "| `copy()`                | Возвращает копию множества.                                         |\n",
        "| `difference()`          | Возвращает разность двух множеств.                                 |\n",
        "| `difference_update()`   | Удаляет все элементы из этого множества, которые есть в другом.   |\n",
        "| `discard()`             | Удаляет элемент из множества, если он присутствует.                |\n",
        "| `intersection()`        | Возвращает пересечение двух множеств.                              |\n",
        "| `intersection_update()` | Изменяет множество, оставляя только элементы, присутствующие в обоих. |\n",
        "| `isdisjoint()`          | Проверяет, являются ли множества непересекающимися.               |\n",
        "| `issubset()`            | Проверяет, является ли одно множество подмножеством другого.      |\n",
        "| `issuperset()`          | Проверяет, является ли одно множество надмножеством другого.      |\n",
        "| `pop()`                 | Удаляет и возвращает произвольный элемент из множества.            |\n",
        "| `remove()`              | Удаляет элемент из множества.                                      |\n",
        "| `symmetric_difference()`| Возвращает симметрическую разность двух множеств.             |\n",
        "| `symmetric_difference_update()` | Модифицирует множество, оставляя только элементы, присутствующие в одном из них, но не в обоих. |\n",
        "| `union()`               | Возвращает объединение двух множеств.                              |\n",
        "| `update()`              | Обновляет множество, добавляя элементы из другого множества.      |\n",
        "\n",
        "Давайте рассмотрим те методы, которые нам ещё не знакомы:\n",
        "\n",
        "1. `add()`\n",
        "\n",
        "  Метод add() используется для добавления элемента в множество. Если элемент уже присутствует в множестве, добавление не произойдет.\n",
        "\n",
        "  Синтаксис:\n",
        "  ```python\n",
        "  my_set.add(element)\n",
        "  ```\n",
        "- element: Элемент, который нужно добавить.\n",
        "\n",
        "\n",
        "\n"
      ],
      "metadata": {
        "id": "ftx9T7-ufWMY"
      }
    },
    {
      "cell_type": "code",
      "source": [
        "my_set = {1, 2, 3}\n",
        "my_set.add(4)\n",
        "my_set.add(4)\n",
        "print(my_set)"
      ],
      "metadata": {
        "colab": {
          "base_uri": "https://localhost:8080/"
        },
        "id": "HRS3cNfzhjq5",
        "outputId": "54ce3a15-aefd-43f5-f3f7-2fbc13e275ab"
      },
      "execution_count": null,
      "outputs": [
        {
          "output_type": "stream",
          "name": "stdout",
          "text": [
            "{1, 2, 3, 4}\n"
          ]
        }
      ]
    },
    {
      "cell_type": "markdown",
      "source": [
        "2. `clear()`\n",
        "\n",
        "  Метод clear() удаляет все элементы из множества, оставляя его пустым.\n",
        "\n",
        "  Синтаксис:\n",
        "  ```python\n",
        "  my_set.clear()\n",
        "  ```"
      ],
      "metadata": {
        "id": "-xmpNIcyhXNQ"
      }
    },
    {
      "cell_type": "code",
      "source": [
        "my_set = {1, 2, 3}\n",
        "my_set.clear()\n",
        "print(my_set)"
      ],
      "metadata": {
        "id": "Ksx5dBL5iGCF"
      },
      "execution_count": null,
      "outputs": []
    },
    {
      "cell_type": "markdown",
      "source": [
        "3. `copy()`\n",
        "\n",
        "  Метод copy() создает и возвращает копию множества. Изменения в оригинальном множестве не влияют на его копию и наоборот.\n",
        "\n",
        "  Синтаксис:\n",
        "  ```python\n",
        "  copy_set = my_set.copy()\n",
        "  ```"
      ],
      "metadata": {
        "id": "9P7H-OOQhX_U"
      }
    },
    {
      "cell_type": "code",
      "source": [
        "my_set = {1, 2, 3}\n",
        "copy_set = my_set.copy()\n",
        "my_set.add(4)\n",
        "print(copy_set)"
      ],
      "metadata": {
        "colab": {
          "base_uri": "https://localhost:8080/"
        },
        "id": "FCaHpAiDkFLf",
        "outputId": "1c2e2ca6-c967-4155-8c49-27e0a785dcf3"
      },
      "execution_count": null,
      "outputs": [
        {
          "output_type": "stream",
          "name": "stdout",
          "text": [
            "{1, 2, 3}\n"
          ]
        }
      ]
    },
    {
      "cell_type": "markdown",
      "source": [
        "4. `difference_update()`\n",
        "\n",
        "  Метод difference_update() удаляет из текущего множества все элементы, которые присутствуют в другом множестве.\n",
        "\n",
        "  Синтаксис:\n",
        "  ```python\n",
        "  set1.difference_update(set2)\n",
        "  ```\n",
        "- set2: Множество, элементы которого нужно исключить из set1."
      ],
      "metadata": {
        "id": "gzG-0cavhYtv"
      }
    },
    {
      "cell_type": "code",
      "source": [
        "set1 = {1, 2, 3, 4}\n",
        "set2 = {3, 4, 5}\n",
        "set1.difference_update(set2)\n",
        "print(set1)"
      ],
      "metadata": {
        "colab": {
          "base_uri": "https://localhost:8080/"
        },
        "id": "TYHI6osfkQeE",
        "outputId": "f93d00ab-bed4-460f-9837-37978ccdcd33"
      },
      "execution_count": null,
      "outputs": [
        {
          "output_type": "stream",
          "name": "stdout",
          "text": [
            "{1, 2}\n"
          ]
        }
      ]
    },
    {
      "cell_type": "markdown",
      "source": [
        "5. `discard()`\n",
        "\n",
        "  Метод discard() удаляет указанный элемент из множества, если он присутствует. Если элемент отсутствует, никаких ошибок не возникает.\n",
        "\n",
        "  Синтаксис:\n",
        "  ```python\n",
        "  my_set.discard(element)\n",
        "  ```\n",
        "- element: Элемент, который нужно удалить."
      ],
      "metadata": {
        "id": "1aFrjnichaGK"
      }
    },
    {
      "cell_type": "code",
      "source": [
        "my_set = {1, 2, 3}\n",
        "my_set.discard(2)\n",
        "print(my_set)\n",
        "my_set.discard(2)\n",
        "print(my_set)"
      ],
      "metadata": {
        "colab": {
          "base_uri": "https://localhost:8080/"
        },
        "id": "0z2ZTTLHinqe",
        "outputId": "8d313c29-f773-417d-b4cb-e652b86d09b6"
      },
      "execution_count": null,
      "outputs": [
        {
          "output_type": "stream",
          "name": "stdout",
          "text": [
            "{1, 3}\n",
            "{1, 3}\n"
          ]
        }
      ]
    },
    {
      "cell_type": "markdown",
      "source": [
        "6. `intersection_update()`\n",
        "\n",
        "  Метод intersection_update() изменяет текущее множество, оставляя в нем только элементы, присутствующие в обоих множествах.\n",
        "\n",
        "  Синтаксис:\n",
        "  ```python\n",
        "  set1.intersection_update(set2)\n",
        "  ```\n",
        "- set2: Множество, с которым производится пересечение."
      ],
      "metadata": {
        "id": "4gLmhQbMioFi"
      }
    },
    {
      "cell_type": "code",
      "source": [
        "set1 = {1, 2, 3}\n",
        "set2 = {3, 4, 5}\n",
        "set1.intersection_update(set2)\n",
        "print(set1)"
      ],
      "metadata": {
        "colab": {
          "base_uri": "https://localhost:8080/"
        },
        "id": "xeeTVTmWkhqR",
        "outputId": "9a067fdf-4b7f-4bce-8875-2d7c8c0da121"
      },
      "execution_count": null,
      "outputs": [
        {
          "output_type": "stream",
          "name": "stdout",
          "text": [
            "{3}\n"
          ]
        }
      ]
    },
    {
      "cell_type": "markdown",
      "source": [
        "7. `isdisjoint()`\n",
        "\n",
        "  Метод isdisjoint() проверяет, являются ли два множества непересекающимися, то есть не имеют общих элементов.\n",
        "\n",
        "  Синтаксис:\n",
        "  ```python\n",
        "  are_disjoint = set1.isdisjoint(set2)\n",
        "  ```\n",
        "- set2: Множество, с которым проверется пересечение."
      ],
      "metadata": {
        "id": "uA27LMWSiqD9"
      }
    },
    {
      "cell_type": "code",
      "source": [
        "set1 = {1, 2, 3}\n",
        "set2 = {3, 5, 6}\n",
        "are_disjoint = set1.isdisjoint(set2)\n",
        "print(are_disjoint)"
      ],
      "metadata": {
        "colab": {
          "base_uri": "https://localhost:8080/"
        },
        "id": "FpPjQ1uukmud",
        "outputId": "06306efb-aa36-4b11-b411-a375ec499721"
      },
      "execution_count": null,
      "outputs": [
        {
          "output_type": "stream",
          "name": "stdout",
          "text": [
            "False\n"
          ]
        }
      ]
    },
    {
      "cell_type": "markdown",
      "source": [
        "8. `pop()`\n",
        "\n",
        "  Метод pop() удаляет и возвращает произвольный элемент из множества. Если множество пусто, возникает ошибка.\n",
        "\n",
        "  Синтаксис:\n",
        "  ```python\n",
        "  removed_element = my_set.pop()\n",
        "  ```"
      ],
      "metadata": {
        "id": "ERrSicXHiq-w"
      }
    },
    {
      "cell_type": "code",
      "source": [
        "my_set = {0, 1, 2, 3, 4}\n",
        "my_set = {4, 1, \"0\", 3, \"!\", 2}\n",
        "my_set = {\"0\", \"!\", \"2\"}\n",
        "removed_element = my_set.pop()\n",
        "removed_element = my_set.pop()\n",
        "removed_element = my_set.pop()\n",
        "# removed_element = my_set.pop()  #вызовет ошибку\n",
        "print(removed_element)\n",
        "print(my_set)"
      ],
      "metadata": {
        "colab": {
          "base_uri": "https://localhost:8080/",
          "height": 245
        },
        "id": "KdyGq5CAku09",
        "outputId": "7d8b1fa2-80ad-42d1-8c82-84733a5df02a"
      },
      "execution_count": null,
      "outputs": [
        {
          "output_type": "error",
          "ename": "KeyError",
          "evalue": "'pop from an empty set'",
          "traceback": [
            "\u001b[0;31m---------------------------------------------------------------------------\u001b[0m",
            "\u001b[0;31mKeyError\u001b[0m                                  Traceback (most recent call last)",
            "\u001b[0;32m<ipython-input-149-191eaf0d3c2e>\u001b[0m in \u001b[0;36m<cell line: 7>\u001b[0;34m()\u001b[0m\n\u001b[1;32m      5\u001b[0m \u001b[0mremoved_element\u001b[0m \u001b[0;34m=\u001b[0m \u001b[0mmy_set\u001b[0m\u001b[0;34m.\u001b[0m\u001b[0mpop\u001b[0m\u001b[0;34m(\u001b[0m\u001b[0;34m)\u001b[0m\u001b[0;34m\u001b[0m\u001b[0;34m\u001b[0m\u001b[0m\n\u001b[1;32m      6\u001b[0m \u001b[0mremoved_element\u001b[0m \u001b[0;34m=\u001b[0m \u001b[0mmy_set\u001b[0m\u001b[0;34m.\u001b[0m\u001b[0mpop\u001b[0m\u001b[0;34m(\u001b[0m\u001b[0;34m)\u001b[0m\u001b[0;34m\u001b[0m\u001b[0;34m\u001b[0m\u001b[0m\n\u001b[0;32m----> 7\u001b[0;31m \u001b[0mremoved_element\u001b[0m \u001b[0;34m=\u001b[0m \u001b[0mmy_set\u001b[0m\u001b[0;34m.\u001b[0m\u001b[0mpop\u001b[0m\u001b[0;34m(\u001b[0m\u001b[0;34m)\u001b[0m\u001b[0;34m\u001b[0m\u001b[0;34m\u001b[0m\u001b[0m\n\u001b[0m\u001b[1;32m      8\u001b[0m \u001b[0mprint\u001b[0m\u001b[0;34m(\u001b[0m\u001b[0mremoved_element\u001b[0m\u001b[0;34m)\u001b[0m\u001b[0;34m\u001b[0m\u001b[0;34m\u001b[0m\u001b[0m\n\u001b[1;32m      9\u001b[0m \u001b[0mprint\u001b[0m\u001b[0;34m(\u001b[0m\u001b[0mmy_set\u001b[0m\u001b[0;34m)\u001b[0m\u001b[0;34m\u001b[0m\u001b[0;34m\u001b[0m\u001b[0m\n",
            "\u001b[0;31mKeyError\u001b[0m: 'pop from an empty set'"
          ]
        }
      ]
    },
    {
      "cell_type": "markdown",
      "source": [
        "9. `remove()`\n",
        "\n",
        "  Метод remove() удаляет указанный элемент из множества. Если элемент отсутствует, возникает ошибка.\n",
        "\n",
        "  Синтаксис:\n",
        "  ```python\n",
        "  my_set.remove(element)\n",
        "  ```\n",
        "- element: Элемент, который нужно удалить."
      ],
      "metadata": {
        "id": "m3zWEYQIir_8"
      }
    },
    {
      "cell_type": "code",
      "source": [
        "my_set = {1, 2, 3}\n",
        "my_set.remove(2)\n",
        "print(my_set)\n",
        "# my_set.remove(5)  # этот код вызовет ошибку"
      ],
      "metadata": {
        "colab": {
          "base_uri": "https://localhost:8080/"
        },
        "id": "bNYk0QeflSx0",
        "outputId": "3e127bb5-a524-45df-e3f0-419b68bf2d0a"
      },
      "execution_count": null,
      "outputs": [
        {
          "output_type": "stream",
          "name": "stdout",
          "text": [
            "{1, 3}\n"
          ]
        }
      ]
    },
    {
      "cell_type": "markdown",
      "source": [
        "# Словарь (`dict`)"
      ],
      "metadata": {
        "id": "1efZ8EEUpDBW"
      }
    },
    {
      "cell_type": "markdown",
      "source": [
        "Словарь - это неупорядоченная структура данных, которая предоставляет способ хранения и доступа к данным по ключу. В словаре данные организованы в виде пар ключ-значение, где каждый ключ должен быть уникальным и неизменяемым. Давайте рассмотрим основные аспекты словарей в Python.\n",
        "\n"
      ],
      "metadata": {
        "id": "Y03HpLmrpYBM"
      }
    },
    {
      "cell_type": "markdown",
      "source": [
        "## Создание словаря\n"
      ],
      "metadata": {
        "id": "2wwwoGZBptbM"
      }
    },
    {
      "cell_type": "markdown",
      "source": [
        "1. Создание пустого словаря:\n"
      ],
      "metadata": {
        "id": "73MMxmHepwJ0"
      }
    },
    {
      "cell_type": "code",
      "source": [
        "my_dict = {}\n",
        "print(my_dict)\n",
        "my_dict = dict()\n",
        "print(my_dict)"
      ],
      "metadata": {
        "colab": {
          "base_uri": "https://localhost:8080/"
        },
        "id": "R4QpiK1Op0Mc",
        "outputId": "e6a5200f-1f3f-4c39-ff36-fe11aaa54104"
      },
      "execution_count": null,
      "outputs": [
        {
          "output_type": "stream",
          "name": "stdout",
          "text": [
            "{}\n",
            "{}\n"
          ]
        }
      ]
    },
    {
      "cell_type": "markdown",
      "source": [
        "2. Создание словаря с элементами:"
      ],
      "metadata": {
        "id": "NxlnzwfUp9TO"
      }
    },
    {
      "cell_type": "code",
      "source": [
        "person = {'name': 'John', 'age': 30, 'city': 'New York'}\n",
        "print(person)"
      ],
      "metadata": {
        "colab": {
          "base_uri": "https://localhost:8080/"
        },
        "id": "1Vj33_3fp_rb",
        "outputId": "b1cdf9a2-d490-41ad-cad8-b5ad95020076"
      },
      "execution_count": null,
      "outputs": [
        {
          "output_type": "stream",
          "name": "stdout",
          "text": [
            "{'name': 'John', 'age': 30, 'city': 'New York'}\n"
          ]
        }
      ]
    },
    {
      "cell_type": "markdown",
      "source": [
        "## Доступ к элементам\n"
      ],
      "metadata": {
        "id": "t9AwB6z6rBIB"
      }
    },
    {
      "cell_type": "markdown",
      "source": [
        "Доступ к значению осуществляется по ключу при помощи квадратных скобок:\n"
      ],
      "metadata": {
        "id": "yYeWl08ZrEHy"
      }
    },
    {
      "cell_type": "code",
      "source": [
        "name = person['name']\n",
        "print(name)"
      ],
      "metadata": {
        "colab": {
          "base_uri": "https://localhost:8080/"
        },
        "id": "gcAmG0borIgf",
        "outputId": "5436c0a6-1a3a-454a-cd2f-bd1a8f5f4a31"
      },
      "execution_count": null,
      "outputs": [
        {
          "output_type": "stream",
          "name": "stdout",
          "text": [
            "John\n"
          ]
        }
      ]
    },
    {
      "cell_type": "markdown",
      "source": [
        "## Изменение и добавление элементов\n"
      ],
      "metadata": {
        "id": "P6LFe5VErPhy"
      }
    },
    {
      "cell_type": "markdown",
      "source": [
        "Изменение значения по ключу происходит если такой ключ существует в словаре:"
      ],
      "metadata": {
        "id": "hYgyfS1XrUna"
      }
    },
    {
      "cell_type": "code",
      "source": [
        "person['age'] = 31\n",
        "print(person)"
      ],
      "metadata": {
        "colab": {
          "base_uri": "https://localhost:8080/"
        },
        "id": "LpL2Bg9frgtk",
        "outputId": "77691f1b-a57c-472c-c6aa-7e64f9059982"
      },
      "execution_count": null,
      "outputs": [
        {
          "output_type": "stream",
          "name": "stdout",
          "text": [
            "{'name': 'John', 'age': 31, 'city': 'New York'}\n"
          ]
        }
      ]
    },
    {
      "cell_type": "markdown",
      "source": [
        "Если же такого ключа нет, то по такому же синтаксису происходит добавление новой пары ключ-значение:"
      ],
      "metadata": {
        "id": "gBwDMbDDrmgD"
      }
    },
    {
      "cell_type": "code",
      "source": [
        "person['job'] = 'Engineer'\n",
        "print(person)\n",
        "person['colors'] = [\"yellow\", \"green\"]\n",
        "print(person)"
      ],
      "metadata": {
        "colab": {
          "base_uri": "https://localhost:8080/"
        },
        "id": "PRFHMTkjryea",
        "outputId": "0c823c6a-9efb-4d7e-b1bf-7c8e372b75c7"
      },
      "execution_count": null,
      "outputs": [
        {
          "output_type": "stream",
          "name": "stdout",
          "text": [
            "{'name': 'John', 'age': 31, 'city': 'New York', 'job': 'Engineer'}\n",
            "{'name': 'John', 'age': 31, 'city': 'New York', 'job': 'Engineer', 'colors': ['yellow', 'green']}\n"
          ]
        }
      ]
    },
    {
      "cell_type": "markdown",
      "source": [
        "## Удаление элемента по ключу\n"
      ],
      "metadata": {
        "id": "5_6MPYcPsCGQ"
      }
    },
    {
      "cell_type": "code",
      "source": [
        "person = {'name': 'John', 'age': 30, 'city': 'New York'}\n",
        "del person['city'], person['age']\n",
        "print(person)"
      ],
      "metadata": {
        "colab": {
          "base_uri": "https://localhost:8080/"
        },
        "id": "zwmQ9i-isD-H",
        "outputId": "d9a282a0-9cca-4755-f6ce-05d9bd9d67f7"
      },
      "execution_count": null,
      "outputs": [
        {
          "output_type": "stream",
          "name": "stdout",
          "text": [
            "{'name': 'John'}\n"
          ]
        }
      ]
    },
    {
      "cell_type": "markdown",
      "source": [
        "## Функции часто используемые для работы со словарём"
      ],
      "metadata": {
        "id": "GaiMly3cvQBY"
      }
    },
    {
      "cell_type": "markdown",
      "source": [
        "Работа со словарями облегчается использованием различных встроенных функций. Вот несколько часто используемых и уже знакомых нам функций для работы со словарями:\n",
        "\n",
        "1. len()\n",
        "  - Функция len() возвращает количество элементов в словаре (число ключей).\n",
        "2. max()\n",
        "  - Функция max() возвращает максимальный ключ словаря (в соответствии с порядком сортировки).\n",
        "3. min()\n",
        "  - Функция min() возвращает минимальный ключ словаря (в соответствии с порядком сортировки).\n",
        "4. sum()\n",
        "  - Функция sum() возвращает сумму всех ключей словаря.\n",
        "5. sorted()\n",
        "  - Функция sorted() возвращает отсортированный список ключей словаря."
      ],
      "metadata": {
        "id": "iygoFy-6vZPX"
      }
    },
    {
      "cell_type": "code",
      "source": [
        "my_dict = {'a': 3, 'c': 2, 'b': 1}\n",
        "print(sorted(my_dict))"
      ],
      "metadata": {
        "colab": {
          "base_uri": "https://localhost:8080/"
        },
        "id": "YXbXghOkwWJR",
        "outputId": "dedd5a09-6bf5-4dbd-dc28-350e86a81c1a"
      },
      "execution_count": null,
      "outputs": [
        {
          "output_type": "stream",
          "name": "stdout",
          "text": [
            "['a', 'b', 'c']\n"
          ]
        }
      ]
    },
    {
      "cell_type": "markdown",
      "source": [
        "## Методы словаря"
      ],
      "metadata": {
        "id": "T180G99Iu2W3"
      }
    },
    {
      "cell_type": "markdown",
      "source": [
        "У словарей есть собственные методы, которые помогают нам манипулировать их данными. Ниже представлена табличка с этими методами и их описанием.\n",
        "\n",
        "| Метод                   | Описание                                                |\n",
        "|-------------------------|---------------------------------------------------------|\n",
        "| `clear()`               | Удаляет все элементы из словаря.                         |\n",
        "| `copy()`                | Возвращает копию словаря.                                 |\n",
        "| `fromkeys(seq, value)`  | Создает новый словарь с ключами из `seq` и значением `value`. Если `value` не указан, используется `None`. |\n",
        "| `get(key, default)`     | Возвращает значение для указанного ключа. Если ключ отсутствует, возвращает `default`. Если `default` не указан, возвращает `None`. |\n",
        "| `items()`               | Возвращает список кортежей, представляющих пары ключ-значение в словаре. |\n",
        "| `keys()`                | Возвращает список всех ключей в словаре.                |\n",
        "| `pop(key, default)`     | Удаляет элемент по ключу и возвращает его значение. Если ключ отсутствует, возвращает `default`. Если `default` не указан, возбуждает ошибку. |\n",
        "| `popitem()`             | Удаляет и возвращает последнюю пару ключ-значение из словаря. Если словарь пуст, возбуждает ошибку. |\n",
        "| `setdefault(key, default)` | Возвращает значение для указанного ключа. Если ключ отсутствует, устанавливает ключ со значением `default` и возвращает `default`. |\n",
        "| `update([other])`       | Обновляет словарь значениями из другого словаря или итерируемого объекта. |\n",
        "| `values()`              | Возвращает список всех значений в словаре.              |\n",
        "\n",
        "Давайте рассмотрим эти методы подробнее:\n",
        "\n",
        "1. `clear()`\n",
        "\n",
        "  Метод clear() удаляет все элементы из словаря, делая его пустым.\n",
        "\n",
        "  Синтаксис:\n",
        "  ```python\n",
        "  my_dict.clear()\n",
        "  ```\n"
      ],
      "metadata": {
        "id": "LVsMqNwPu5CH"
      }
    },
    {
      "cell_type": "code",
      "source": [
        "my_dict = {'a': 1, 'b': 2, 'c': 3}\n",
        "my_dict.clear()\n",
        "print(my_dict)"
      ],
      "metadata": {
        "colab": {
          "base_uri": "https://localhost:8080/"
        },
        "id": "Ure22ZobzNgr",
        "outputId": "592ef00e-d32e-49a3-a7e3-b0f4dcba5c2a"
      },
      "execution_count": null,
      "outputs": [
        {
          "output_type": "stream",
          "name": "stdout",
          "text": [
            "{}\n"
          ]
        }
      ]
    },
    {
      "cell_type": "markdown",
      "source": [
        "2. `copy()`\n",
        "\n",
        "  Метод copy() создает и возвращает копию словаря.\n",
        "\n",
        "  Синтаксис:\n",
        "  ```python\n",
        "  copy_dict = my_dict.copy()\n",
        "  ```"
      ],
      "metadata": {
        "id": "Xqj9riPkzDii"
      }
    },
    {
      "cell_type": "code",
      "source": [
        "my_dict = {'a': 1, 'b': 2, 'c': 3}\n",
        "copy_dict = my_dict.copy()\n",
        "print(copy_dict)"
      ],
      "metadata": {
        "colab": {
          "base_uri": "https://localhost:8080/"
        },
        "id": "9c_wsyqXz6kj",
        "outputId": "98365cd6-3c95-4632-aae8-9e2709173256"
      },
      "execution_count": null,
      "outputs": [
        {
          "output_type": "stream",
          "name": "stdout",
          "text": [
            "{'a': 1, 'b': 2, 'c': 3}\n"
          ]
        }
      ]
    },
    {
      "cell_type": "markdown",
      "source": [
        "3. `fromkeys(seq, value=None)`\n",
        "\n",
        "  Метод fromkeys() создает новый словарь с ключами из seq и значениями, установленными в value. Если value не указан, используется значение None.\n",
        "\n",
        "  Синтаксис:\n",
        "  ```python\n",
        "  new_dict = dict.fromkeys(keys, default_value)\n",
        "  ```\n",
        "- keys: Ключи в новом словаре.\n",
        "- default_value: Стандартное значение, если значение по ключу не было найдено."
      ],
      "metadata": {
        "id": "2ZqE4AkMzDum"
      }
    },
    {
      "cell_type": "code",
      "source": [
        "# Создание словаря из списка со значениями по умолчанию\n",
        "keys = ['a', 'b', 'c']\n",
        "new_dict = dict.fromkeys(keys, 0)\n",
        "print(new_dict)\n",
        "# Создание словаря из списка без значений по умолчанию\n",
        "keys = ['a', 'b', 'c']\n",
        "new_dict = dict.fromkeys(keys)\n",
        "print(new_dict)"
      ],
      "metadata": {
        "colab": {
          "base_uri": "https://localhost:8080/"
        },
        "id": "m5Ie-DlI6Dph",
        "outputId": "f15ec155-1ae8-4251-8d57-7f3e122a196c"
      },
      "execution_count": null,
      "outputs": [
        {
          "output_type": "stream",
          "name": "stdout",
          "text": [
            "{'a': 0, 'b': 0, 'c': 0}\n",
            "{'a': None, 'b': None, 'c': None}\n"
          ]
        }
      ]
    },
    {
      "cell_type": "markdown",
      "source": [
        "4. `get()`\n",
        "\n",
        "  Метод get() возвращает значение для указанного ключа. Если ключ отсутствует, возвращает default. Если default не указан, возвращает None.\n",
        "\n",
        "  Синтаксис:\n",
        "  ```python\n",
        "  value = my_dict.get(key, default=None)\n",
        "  ```\n",
        "- key: Ключ, для которого нужно получить значение.\n",
        "- default: Стандартное значение, возвращаемое, если ключ отсутствует."
      ],
      "metadata": {
        "id": "3LzntCJUzD4N"
      }
    },
    {
      "cell_type": "code",
      "source": [
        "my_dict = {'a': 1, 'b': 2, 'c': 3}\n",
        "value = my_dict.get('d')\n",
        "print(value)"
      ],
      "metadata": {
        "colab": {
          "base_uri": "https://localhost:8080/"
        },
        "id": "ZGQKXcRLrQ2a",
        "outputId": "fb8a5c7f-a92d-4fbf-bc22-91e27ff4d445"
      },
      "execution_count": null,
      "outputs": [
        {
          "output_type": "stream",
          "name": "stdout",
          "text": [
            "None\n"
          ]
        }
      ]
    },
    {
      "cell_type": "markdown",
      "source": [
        "5. `items()`\n",
        "\n",
        "  Метод items() возвращает динамическое представление со списком кортежей, представляющих пары ключ-значение в словаре.\n",
        "\n",
        "  Синтаксис:\n",
        "  ```python\n",
        "  items_list = my_dict.items()\n",
        "  ```"
      ],
      "metadata": {
        "id": "FwwZaRvrzEA7"
      }
    },
    {
      "cell_type": "code",
      "source": [
        "my_dict = {'a': 1, 'b': 2, 'c': 3}\n",
        "items_list = my_dict.items()\n",
        "print(items_list)"
      ],
      "metadata": {
        "colab": {
          "base_uri": "https://localhost:8080/"
        },
        "id": "0UIHM-Vt3Etb",
        "outputId": "260d3e5e-e95c-4b3a-8541-c070356d911b"
      },
      "execution_count": null,
      "outputs": [
        {
          "output_type": "stream",
          "name": "stdout",
          "text": [
            "dict_items([('a', 1), ('b', 2), ('c', 3)])\n"
          ]
        }
      ]
    },
    {
      "cell_type": "markdown",
      "source": [
        "6. `keys()`\n",
        "\n",
        "  Метод keys() возвращает динамическое представление всех ключей в словаре.\n",
        "\n",
        "  Синтаксис:\n",
        "  ```python\n",
        "  keys_list = my_dict.keys()\n",
        "  ```"
      ],
      "metadata": {
        "id": "GOrGbZ72zEI9"
      }
    },
    {
      "cell_type": "code",
      "source": [
        "my_dict = {'a': 1, 'b': 2, 'c': 3}\n",
        "keys_list = my_dict.keys()\n",
        "print(keys_list)"
      ],
      "metadata": {
        "colab": {
          "base_uri": "https://localhost:8080/"
        },
        "id": "OttorSM13P5z",
        "outputId": "dc7559ff-5134-4796-ea66-f16680665e8d"
      },
      "execution_count": null,
      "outputs": [
        {
          "output_type": "stream",
          "name": "stdout",
          "text": [
            "dict_keys(['a', 'b', 'c'])\n"
          ]
        }
      ]
    },
    {
      "cell_type": "markdown",
      "source": [
        "7. `pop()`\n",
        "\n",
        "  Метод pop() удаляет элемент по ключу и возвращает его значение. Если ключ отсутствует, возвращает default. Если default не указан, вызывает ошибку.\n",
        "\n",
        "  Синтаксис:\n",
        "  ```python\n",
        "  value = my_dict.pop(key, default=None)\n",
        "  ```\n",
        "- key: Ключ элемента, который нужно удалить.\n",
        "- default: Стандартное значение, возвращаемое, если ключ отсутствует."
      ],
      "metadata": {
        "id": "dA0uAQ7pzEQ-"
      }
    },
    {
      "cell_type": "code",
      "source": [
        "my_dict = {'a': 1, 'b': 2, 'c': 3}\n",
        "value = my_dict.pop('b')\n",
        "print(value)\n",
        "value = my_dict.pop('d', 0)\n",
        "print(value)"
      ],
      "metadata": {
        "colab": {
          "base_uri": "https://localhost:8080/"
        },
        "id": "EZsC7E7f7Mu1",
        "outputId": "345ec4cf-89c9-48d0-bdcf-664bb764f4cc"
      },
      "execution_count": null,
      "outputs": [
        {
          "output_type": "stream",
          "name": "stdout",
          "text": [
            "2\n",
            "0\n"
          ]
        }
      ]
    },
    {
      "cell_type": "markdown",
      "source": [
        "8. `popitem()`\n",
        "\n",
        "  Метод popitem() удаляет и возвращает последнюю пару ключ-значение из словаря в виде кортежа. Если словарь пуст, вызывает ошибку.\n",
        "\n",
        "  Синтаксис:\n",
        "  ```python\n",
        "  key, value = my_dict.popitem()\n",
        "  ```"
      ],
      "metadata": {
        "id": "SWZAQ-EG3YY9"
      }
    },
    {
      "cell_type": "code",
      "source": [
        "my_dict = {'a': 1, 'b': 2, 'c': 3}\n",
        "key, value = my_dict.popitem()\n",
        "print(key, value)\n",
        "print(type(my_dict.popitem()))"
      ],
      "metadata": {
        "colab": {
          "base_uri": "https://localhost:8080/"
        },
        "id": "qvWuwE5b4L-S",
        "outputId": "c39d2398-6ffb-44c5-c709-62b3251ce09f"
      },
      "execution_count": null,
      "outputs": [
        {
          "output_type": "stream",
          "name": "stdout",
          "text": [
            "c 3\n",
            "<class 'tuple'>\n"
          ]
        }
      ]
    },
    {
      "cell_type": "markdown",
      "source": [
        "9. `setdefault()`\n",
        "\n",
        "  Метод setdefault() возвращает значение для указанного ключа. Если ключ отсутствует, устанавливает ключ со значением default и возвращает default.\n",
        "\n",
        "  Синтаксис:\n",
        "  ```python\n",
        "  value = my_dict.setdefault(key, default=None)\n",
        "  ```\n",
        "- key: Ключ, для которого нужно получить значение.\n",
        "- default: Стандартное значение, возвращаемое, если ключ отсутствует."
      ],
      "metadata": {
        "id": "cRUXwbGQ3ZGS"
      }
    },
    {
      "cell_type": "code",
      "source": [
        "my_dict = {'a': 1, 'b': 2, 'c': 3}\n",
        "value = my_dict.setdefault('b', 0)\n",
        "print(value)\n",
        "value = my_dict.setdefault('d', 0)\n",
        "print(value)\n",
        "print(my_dict)"
      ],
      "metadata": {
        "colab": {
          "base_uri": "https://localhost:8080/"
        },
        "id": "-Ynfd8884qsT",
        "outputId": "7159f38c-e0af-4eb6-d232-a5c51f7a1769"
      },
      "execution_count": null,
      "outputs": [
        {
          "output_type": "stream",
          "name": "stdout",
          "text": [
            "2\n",
            "0\n",
            "{'a': 1, 'b': 2, 'c': 3, 'd': 0}\n"
          ]
        }
      ]
    },
    {
      "cell_type": "markdown",
      "source": [
        "10. `update()`\n",
        "\n",
        "  Метод update() обновляет словарь значениями из другого словаря.\n",
        "\n",
        "  Синтаксис:\n",
        "  ```python\n",
        "  my_dict.update(other_dict)\n",
        "  ```\n",
        "- other_dict: Словарь элементы которого нужно добавить."
      ],
      "metadata": {
        "id": "KoSuFDxX3ZNU"
      }
    },
    {
      "cell_type": "code",
      "source": [
        "my_dict = {'a': 1, 'b': 2}\n",
        "other_dict = {'b': 3, 'c': 4}\n",
        "my_dict.update(other_dict)\n",
        "print(my_dict)"
      ],
      "metadata": {
        "colab": {
          "base_uri": "https://localhost:8080/"
        },
        "id": "OUjQuf8E5Bx2",
        "outputId": "707ce909-ae26-4852-bd7c-f1aa7c9ed9eb"
      },
      "execution_count": null,
      "outputs": [
        {
          "output_type": "stream",
          "name": "stdout",
          "text": [
            "{'a': 1, 'b': 3, 'c': 4}\n"
          ]
        }
      ]
    },
    {
      "cell_type": "code",
      "source": [
        "my_dict = {'a': 1, 'b': 2}\n",
        "other_dict = {'b': 3, 'c': 4}\n",
        "new_dict = {}\n",
        "new_dict.update(my_dict)\n",
        "print(new_dict.update(other_dict))\n",
        "print(new_dict)"
      ],
      "metadata": {
        "colab": {
          "base_uri": "https://localhost:8080/"
        },
        "id": "kyZBSzasuzfx",
        "outputId": "244f58ff-9012-45c7-8d45-ffd8627a7275"
      },
      "execution_count": null,
      "outputs": [
        {
          "output_type": "stream",
          "name": "stdout",
          "text": [
            "None\n",
            "{'a': 1, 'b': 3, 'c': 4}\n"
          ]
        }
      ]
    },
    {
      "cell_type": "markdown",
      "source": [
        "11. `values()`\n",
        "\n",
        "  Метод values() возвращает динамическое представление всех значений в словаре.\n",
        "\n",
        "  Синтаксис:\n",
        "  ```python\n",
        "  values_list = my_dict.values()\n",
        "  ```"
      ],
      "metadata": {
        "id": "eOiW2O6j3ZYS"
      }
    },
    {
      "cell_type": "code",
      "source": [
        "my_dict = {'a': 1, 'c': 4, 'b': 2}\n",
        "values_list = my_dict.values()\n",
        "print(values_list)"
      ],
      "metadata": {
        "colab": {
          "base_uri": "https://localhost:8080/"
        },
        "id": "YXxGjL9t5OE8",
        "outputId": "44488f66-da8f-42ac-d76f-5de514452b43"
      },
      "execution_count": null,
      "outputs": [
        {
          "output_type": "stream",
          "name": "stdout",
          "text": [
            "dict_values([1, 4, 2])\n"
          ]
        }
      ]
    },
    {
      "cell_type": "code",
      "source": [
        "my_dict = {'a': 1, 'c': 4, 'b': 2}\n",
        "values_list = my_dict.values()\n",
        "print(values_list)\n",
        "values_list = list(values_list)\n",
        "print(values_list[0])"
      ],
      "metadata": {
        "colab": {
          "base_uri": "https://localhost:8080/"
        },
        "id": "N4VZkSmlwA9S",
        "outputId": "c9d7e264-99d9-4d2c-8274-bfbbbf2c0135"
      },
      "execution_count": null,
      "outputs": [
        {
          "output_type": "stream",
          "name": "stdout",
          "text": [
            "dict_values([1, 4, 2])\n",
            "1\n"
          ]
        }
      ]
    },
    {
      "cell_type": "markdown",
      "source": [
        "# Задачи"
      ],
      "metadata": {
        "id": "wXaS859a_D5d"
      }
    },
    {
      "cell_type": "markdown",
      "source": [
        "## Задача 1\n",
        "Напишите программу, которая объединяет словари.\n",
        "```python\n",
        "dict1 = {1:2, 1:3}\n",
        "dict2 = {4:5, 3:12}\n",
        "```\n",
        "\n",
        "## Задача 2\n",
        "Добавьте в словарь\n",
        "```python\n",
        "dict1 = {\"text\":\"hello world\"}\n",
        "```\n",
        "пару\n",
        "```python\n",
        "programming language: [python, java, c++]\n",
        "```\n",
        "\n",
        "## Задача 3\n",
        "Пользователь вводит строку, нужно создать словарь, в котором ключи - это длина слова от 1 до len(строки), а значения это буквы.\n",
        "\n",
        "## Задача 4\n",
        "Есть два словаря, требуется сравнить эти словари по количеству пар. Выведите тот словарь, где больше значений.\n",
        "\n",
        "## Задача 5\n",
        "Даны два списка чисел. Посчитайте, сколько чисел содержится одновременно как в первом списке, так и во втором.\n",
        "\n",
        "## Задача 6\n",
        "Даны два списка чисел. Найдите все числа, которые не входят одновнеменно в первый и во второй список и выведите их в порядке возрастания.\n"
      ],
      "metadata": {
        "id": "hlVqSDYi_Ki6"
      }
    }
  ]
}