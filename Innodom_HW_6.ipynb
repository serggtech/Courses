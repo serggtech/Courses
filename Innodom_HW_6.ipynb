{
  "nbformat": 4,
  "nbformat_minor": 0,
  "metadata": {
    "colab": {
      "provenance": [],
      "authorship_tag": "ABX9TyNpgTdRJ6WB9m2VBz3tQ9MP",
      "include_colab_link": true
    },
    "kernelspec": {
      "name": "python3",
      "display_name": "Python 3"
    },
    "language_info": {
      "name": "python"
    }
  },
  "cells": [
    {
      "cell_type": "markdown",
      "metadata": {
        "id": "view-in-github",
        "colab_type": "text"
      },
      "source": [
        "<a href=\"https://colab.research.google.com/github/serggtech/Courses/blob/main/Innodom_HW_6.ipynb\" target=\"_parent\"><img src=\"https://colab.research.google.com/assets/colab-badge.svg\" alt=\"Open In Colab\"/></a>"
      ]
    },
    {
      "cell_type": "markdown",
      "source": [
        "Задачи\n",
        "Задача 1\n",
        "Напишите программу, которая объединяет словари.\n",
        "\n",
        "dict1 = {1:2, 1:3}\n",
        "dict2 = {4:5, 3:12}\n",
        "\n",
        "Задача 2\n",
        "Добавьте в словарь\n",
        "\n",
        "dict1 = {\"text\":\"hello world\"}\n",
        "пару\n",
        "\n",
        "programming language: [python, java, c++]\n",
        "Задача 3\n",
        "Пользователь вводит строку, нужно создать словарь, в котором ключи - это длина слова от 1 до len(строки), а значения это буквы.\n",
        "\n",
        "Задача 4\n",
        "Есть два словаря, требуется сравнить эти словари по количеству пар. Выведите тот словарь, где больше значений.\n",
        "\n",
        "Задача 5\n",
        "Даны два списка чисел. Посчитайте, сколько чисел содержится одновременно как в первом списке, так и во втором.\n",
        "\n",
        "Задача 6\n",
        "Даны два списка чисел. Найдите все числа, которые не входят одновнеменно в первый и во второй список и выведите их в порядке возрастания."
      ],
      "metadata": {
        "id": "rr04r1P7IsCb"
      }
    },
    {
      "cell_type": "code",
      "source": [
        "dict1 = {1:2, 1:3}\n",
        "dict2 = {4:5, 3:12}\n",
        "\n",
        "dict_combined = dict1.copy()\n",
        "dict_combined.update(dict2)\n",
        "\n",
        "print(\"Объединенный словарь:\", dict_combined)\n"
      ],
      "metadata": {
        "colab": {
          "base_uri": "https://localhost:8080/"
        },
        "id": "MG_nsywTIuIb",
        "outputId": "c1e401e9-0c2a-4035-de98-16178bb7ab2c"
      },
      "execution_count": 3,
      "outputs": [
        {
          "output_type": "stream",
          "name": "stdout",
          "text": [
            "Объединенный словарь: {1: 3, 4: 5, 3: 12}\n"
          ]
        }
      ]
    },
    {
      "cell_type": "code",
      "source": [
        "dict1 = {\"text\": \"hello world\"}\n",
        "dict1[\"programming language\"] = [\"python\", \"java\", \"c++\"]\n",
        "\n",
        "print(\"Обновленный словарь:\", dict1)"
      ],
      "metadata": {
        "id": "MoENs9uQKtj3"
      },
      "execution_count": null,
      "outputs": []
    },
    {
      "cell_type": "code",
      "source": [],
      "metadata": {
        "id": "Wwhc9JIaLsGu"
      },
      "execution_count": null,
      "outputs": []
    },
    {
      "cell_type": "code",
      "source": [
        "dict1 = {1: \"one\", 2: \"two\", 3: \"three\"}\n",
        "dict2 = {4: \"four\", 5: \"five\", 6: \"six\", 7: \"seven\"}\n",
        "\n",
        "if len(dict1) > len(dict2):\n",
        "    print(\"Больше значений в словаре 1:\", dict1)\n",
        "elif len(dict1) < len(dict2):\n",
        "    print(\"Больше значений в словаре 2:\", dict2)\n",
        "else:\n",
        "    print(\"Количество значений в обоих словарях одинаково.\")"
      ],
      "metadata": {
        "colab": {
          "base_uri": "https://localhost:8080/"
        },
        "id": "S9qg_ZmvLsTb",
        "outputId": "50f8ca49-4c56-4102-bf8e-7eb070928a81"
      },
      "execution_count": 6,
      "outputs": [
        {
          "output_type": "stream",
          "name": "stdout",
          "text": [
            "Больше значений в словаре 2: {4: 'four', 5: 'five', 6: 'six', 7: 'seven'}\n"
          ]
        }
      ]
    },
    {
      "cell_type": "code",
      "source": [
        "list1 = [1, 2, 3, 4, 5]\n",
        "list2 = [4, 5, 6, 7, 8]\n",
        "\n",
        "set1 = set(list1)\n",
        "set2 = set(list2)\n",
        "\n",
        "common_numbers = set1.intersection(set2)\n",
        "count = len(common_numbers)\n",
        "\n",
        "print(\"Количество чисел, содержащихся и в первом и втором списке:\", count)"
      ],
      "metadata": {
        "colab": {
          "base_uri": "https://localhost:8080/"
        },
        "id": "N8DqUy8NMC5T",
        "outputId": "ff98e276-0b58-4a85-ae91-cbab5449b183"
      },
      "execution_count": 7,
      "outputs": [
        {
          "output_type": "stream",
          "name": "stdout",
          "text": [
            "Количество чисел, содержащихся и в первом и втором списке: 2\n"
          ]
        }
      ]
    },
    {
      "cell_type": "code",
      "source": [
        "list1 = [1, 2, 3, 4, 5]\n",
        "list2 = [4, 5, 6, 7, 8]\n",
        "\n",
        "set1 = set(list1)\n",
        "set2 = set(list2)\n",
        "\n",
        "unique_numbers = sorted(set1.symmetric_difference(set2))\n",
        "\n",
        "print(\"Числа, которые не входят одновременно в оба списка:\", unique_numbers)"
      ],
      "metadata": {
        "id": "zOlEZ_iJM_Bs"
      },
      "execution_count": null,
      "outputs": []
    }
  ]
}