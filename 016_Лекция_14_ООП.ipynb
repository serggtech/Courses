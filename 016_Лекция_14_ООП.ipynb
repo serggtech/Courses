{
  "nbformat": 4,
  "nbformat_minor": 0,
  "metadata": {
    "colab": {
      "provenance": [],
      "include_colab_link": true
    },
    "kernelspec": {
      "name": "python3",
      "display_name": "Python 3"
    },
    "language_info": {
      "name": "python"
    }
  },
  "cells": [
    {
      "cell_type": "markdown",
      "metadata": {
        "id": "view-in-github",
        "colab_type": "text"
      },
      "source": [
        "<a href=\"https://colab.research.google.com/github/serggtech/Courses/blob/main/016_%D0%9B%D0%B5%D0%BA%D1%86%D0%B8%D1%8F_14_%D0%9E%D0%9E%D0%9F.ipynb\" target=\"_parent\"><img src=\"https://colab.research.google.com/assets/colab-badge.svg\" alt=\"Open In Colab\"/></a>"
      ]
    },
    {
      "cell_type": "markdown",
      "source": [
        "### ООП"
      ],
      "metadata": {
        "id": "42DZcsyDCrwY"
      }
    },
    {
      "cell_type": "markdown",
      "source": [
        "ООП (Объектно-Ориентированное Программирование) - это методология программирования, основанная на представлении программы в виде взаимодействующих объектов. Объекты могут содержать данные в виде полей (также называемых атрибутами) и код в виде процедур (также называемых методами). ООП предполагает организацию программы вокруг объектов, которые являются экземплярами классов.\n",
        "\n",
        "Классы и Объекты:\n",
        "\n",
        "- Класс: Это шаблон, описание или прототип объекта. Класс определяет атрибуты (поля) и методы (процедуры), которые будут доступны объектам.\n",
        "- Объект: Это конкретный экземпляр класса, созданный на основе его определения. Объект обладает своим уникальным состоянием и поведением."
      ],
      "metadata": {
        "id": "OINxXTykCA3N"
      }
    },
    {
      "cell_type": "markdown",
      "source": [
        "## Основные концепции ООП:"
      ],
      "metadata": {
        "id": "F0QFiWP6CyGV"
      }
    },
    {
      "cell_type": "markdown",
      "source": [
        "1. `Наследование`:\n",
        "\n",
        "  Наследование позволяет создавать новый класс на основе существующего класса. Новый класс, называемый подклассом, наследует атрибуты и методы родительского класса. Это способствует повторному использованию кода и организации иерархии классов.\n",
        "\n",
        "2. `Полиморфизм`:\n",
        "\n",
        "  Полиморфизм позволяет объектам одного и того же класса вызывать одинаковые методы, но выполнять их в зависимости от конкретной реализации объекта. Это способствует универсальности кода и облегчает работу с различными типами данных.\n",
        "\n",
        "3. `Инкапсуляция`:\n",
        "\n",
        "  Инкапсуляция означает объединение данных и методов, работающих с этими данными, внутри объекта. Объект скрывает детали реализации от внешнего мира и предоставляет интерфейс для взаимодействия.\n",
        "\n",
        "4. `Абстракция`:\n",
        "  Абстракция в ООП означает выделение ключевых характеристик объекта, исключая детали, которые несущественны для текущего контекста. Это позволяет программистам сосредотачиваться на важных аспектах объекта и игнорировать ненужные детали реализации.\n",
        "  \n",
        "  Пример: Представим, что у нас есть класс \"Автомобиль\". При абстракции мы можем сконцентрироваться на его основных характеристиках, таких как \"скорость\", \"цвет\", \"модель\", игнорируя, например, технические детали работы двигателя."
      ],
      "metadata": {
        "id": "mQhtv3o1DSwL"
      }
    },
    {
      "cell_type": "markdown",
      "source": [
        "## Зачем использовать ООП:\n"
      ],
      "metadata": {
        "id": "QbSqD70TEozk"
      }
    },
    {
      "cell_type": "markdown",
      "source": [
        "- Модульность и Поддержка Кода:\n",
        "\n",
        "  Классы позволяют разделять код на логические блоки. Это упрощает управление кодом и обеспечивает поддержку, так как изменения в одном классе могут влиять только на связанный с ним код.\n",
        "\n",
        "- Повторное Использование Кода:\n",
        "\n",
        "  Использование наследования позволяет повторно использовать код, что способствует экономии времени и уменьшению вероятности ошибок.\n",
        "\n",
        "- Управление Сложностью:\n",
        "\n",
        "  ООП помогает управлять сложностью программы, разбивая ее на более простые и понятные компоненты.\n",
        "\n",
        "- Моделирование Реальных Объектов:\n",
        "\n",
        "  Подход ООП позволяет создавать программы, которые лучше отражают структуру и поведение реальных объектов в предметной области.\n",
        "\n",
        "- Сопровождение и Расширение:\n",
        "\n",
        "  Классы и объекты упрощают сопровождение программы и добавление нового функционала без изменения существующего кода."
      ],
      "metadata": {
        "id": "yBfq_MZeEl2q"
      }
    },
    {
      "cell_type": "code",
      "source": [
        "s = \"String\"\n",
        "print(s.upper())\n",
        "l = []\n",
        "# print(l.upper())"
      ],
      "metadata": {
        "id": "rra8JzKHHLWw",
        "colab": {
          "base_uri": "https://localhost:8080/"
        },
        "outputId": "cee649c4-b090-470c-b6d0-220720898b62"
      },
      "execution_count": null,
      "outputs": [
        {
          "output_type": "stream",
          "name": "stdout",
          "text": [
            "STRING\n"
          ]
        }
      ]
    },
    {
      "cell_type": "markdown",
      "source": [
        "# Классы и объекты"
      ],
      "metadata": {
        "id": "Q9XhDqQGQzV7"
      }
    },
    {
      "cell_type": "markdown",
      "source": [
        "Классы и объекты - это фундаментальные концепции объектно-ориентированного программирования (ООП). Давайте рассмотрим их более подробно:"
      ],
      "metadata": {
        "id": "m73qCLhLRmGl"
      }
    },
    {
      "cell_type": "markdown",
      "source": [
        "## Классы:"
      ],
      "metadata": {
        "id": "cGBNNMtHR2IJ"
      }
    },
    {
      "cell_type": "markdown",
      "source": [
        "Класс - это шаблон или чертёж, описывающий состояние и поведение объекта. Класс определяет атрибуты (переменные) и методы (функции), которые могут быть использованы объектами этого класса."
      ],
      "metadata": {
        "id": "0_7TAljQSlIA"
      }
    },
    {
      "cell_type": "markdown",
      "source": [
        "### 1. Определение Класса:"
      ],
      "metadata": {
        "id": "Di6HFJXpTgGL"
      }
    },
    {
      "cell_type": "markdown",
      "source": [
        "Для определения класса используется ключевое слово class, за которым следует имя класса:"
      ],
      "metadata": {
        "id": "ISumUiI9TkiC"
      }
    },
    {
      "cell_type": "code",
      "source": [
        "class Dog:\n",
        "    pass\n",
        "    # тело класса\n"
      ],
      "metadata": {
        "id": "xVM1PSWAR45N"
      },
      "execution_count": null,
      "outputs": []
    },
    {
      "cell_type": "markdown",
      "source": [
        "Пример класса:"
      ],
      "metadata": {
        "id": "GvmovC_kVPdC"
      }
    },
    {
      "cell_type": "code",
      "source": [
        "class Dog:\n",
        "\n",
        "    def __init__(self, name, age):\n",
        "        self.name = name\n",
        "        self.age = age\n",
        "\n",
        "    def bark(self):\n",
        "        print(\"Woof!\")\n"
      ],
      "metadata": {
        "id": "6zOmh6MSVSlk"
      },
      "execution_count": null,
      "outputs": []
    },
    {
      "cell_type": "markdown",
      "source": [
        "В этом примере Dog - это класс с атрибутами name и age, а также методом bark."
      ],
      "metadata": {
        "id": "LbnSUPT5SEhX"
      }
    },
    {
      "cell_type": "code",
      "source": [
        "class Cat:\n",
        "\n",
        "    def sound(self):\n",
        "        print(\"Meow!\")\n"
      ],
      "metadata": {
        "id": "I0V2HSTaLR7N"
      },
      "execution_count": null,
      "outputs": []
    },
    {
      "cell_type": "markdown",
      "source": [
        "Cat - это класс без атрибутов, но с методом sound."
      ],
      "metadata": {
        "id": "oXTiacFMs0Qn"
      }
    },
    {
      "cell_type": "markdown",
      "source": [
        "## Объекты:"
      ],
      "metadata": {
        "id": "gQCyG5P-Srac"
      }
    },
    {
      "cell_type": "markdown",
      "source": [
        "Объект - это конкретный экземпляр класса. Когда класс создан, вы можете создавать объекты этого класса, которые будут обладать уникальными значениями для своих атрибутов.\n",
        "\n",
        "Пример:"
      ],
      "metadata": {
        "id": "Oq8U-SW6SHwp"
      }
    },
    {
      "cell_type": "code",
      "source": [
        "my_dog = Dog(\"Buddy\", age=3)\n"
      ],
      "metadata": {
        "id": "1QfO6d9pSNYc"
      },
      "execution_count": null,
      "outputs": []
    },
    {
      "cell_type": "code",
      "source": [
        "lst = list()"
      ],
      "metadata": {
        "id": "yfv_KBk_-bIZ"
      },
      "execution_count": null,
      "outputs": []
    },
    {
      "cell_type": "code",
      "source": [
        "cat = Cat()"
      ],
      "metadata": {
        "id": "y_B5If9rLfqC"
      },
      "execution_count": null,
      "outputs": []
    },
    {
      "cell_type": "markdown",
      "source": [
        "# Основные аспекты классов:"
      ],
      "metadata": {
        "id": "JeCqj6eFWRC5"
      }
    },
    {
      "cell_type": "markdown",
      "source": [
        "## Инициализация или конструктор `(__init__)`:"
      ],
      "metadata": {
        "id": "PznHx6U_SxXH"
      }
    },
    {
      "cell_type": "markdown",
      "source": [
        "Метод `__init__` - это специальный метод класса, который вызывается при создании нового объекта. Этот метод используется для инициализации атрибутов объекта.\n",
        "\n",
        "Пример:"
      ],
      "metadata": {
        "id": "lOdlseurS3lm"
      }
    },
    {
      "cell_type": "code",
      "source": [
        "def __init__(self, name, age):\n",
        "    self.name = name\n",
        "    self.age = age\n"
      ],
      "metadata": {
        "id": "_tc3Fp8LS66E"
      },
      "execution_count": null,
      "outputs": []
    },
    {
      "cell_type": "code",
      "source": [
        "dog = Dog(\"Bunny\", 3)\n",
        "dog2 = Dog(\"Bunny\", 2)"
      ],
      "metadata": {
        "id": "GFEX_86AL0NT"
      },
      "execution_count": null,
      "outputs": []
    },
    {
      "cell_type": "markdown",
      "source": [
        "В конструкторе __init__ атрибуты name и age инициализируются значениями, переданными при создании объекта.\n"
      ],
      "metadata": {
        "id": "zklKRka-Wtj2"
      }
    },
    {
      "cell_type": "markdown",
      "source": [
        "## Атрибуты:"
      ],
      "metadata": {
        "id": "W9fJto8ETtr6"
      }
    },
    {
      "cell_type": "markdown",
      "source": [
        "Атрибуты в классах в Python - это переменные, которые хранят данные объекта. Они представляют собой характеристики объекта, описывающие его состояние."
      ],
      "metadata": {
        "id": "I8bxc5UfTwNj"
      }
    },
    {
      "cell_type": "code",
      "source": [
        "class Dog:\n",
        "    legs = 4 # Атрибут класса\n",
        "    def __init__(self, name, age):\n",
        "        self.name = name # Атрибут объекта\n",
        "        self.age = age\n"
      ],
      "metadata": {
        "id": "RwpCIaaRUfY9"
      },
      "execution_count": null,
      "outputs": []
    },
    {
      "cell_type": "markdown",
      "source": [
        "Рассмотрим основные аспекты атрибутов:\n",
        "\n"
      ],
      "metadata": {
        "id": "6CgqsTKQXhqI"
      }
    },
    {
      "cell_type": "markdown",
      "source": [
        "### 1. Определение атрибутов:"
      ],
      "metadata": {
        "id": "zYWAt3C8XlJ8"
      }
    },
    {
      "cell_type": "markdown",
      "source": [
        "Атрибуты определяются внутри тела класса и обычно инициализируются в конструкторе (`__init__` метод):\n"
      ],
      "metadata": {
        "id": "vpp9_WkBXnug"
      }
    },
    {
      "cell_type": "code",
      "source": [
        "class Dog:\n",
        "    def __init__(self, name, age):\n",
        "        self.name = name\n",
        "        self.age = age\n"
      ],
      "metadata": {
        "id": "JCau-DjVXrem"
      },
      "execution_count": null,
      "outputs": []
    },
    {
      "cell_type": "markdown",
      "source": [
        "В этом примере name и age - это атрибуты класса Dog.\n"
      ],
      "metadata": {
        "id": "q37y_bN5XuzE"
      }
    },
    {
      "cell_type": "markdown",
      "source": [
        "### 2. Обращение к атрибутам:\n"
      ],
      "metadata": {
        "id": "lRIRB_XfXxTZ"
      }
    },
    {
      "cell_type": "markdown",
      "source": [
        "Для доступа к атрибутам объекта используется точечная нотация:\n"
      ],
      "metadata": {
        "id": "GIE5H5btXyav"
      }
    },
    {
      "cell_type": "code",
      "source": [
        "my_dog = Dog(name=\"Buddy\", age=3)\n",
        "print(my_dog.name)\n",
        "print(my_dog.age)\n",
        "my_dog2 = Dog(name=\"Verdy\", age=2)\n",
        "print(my_dog2.name)\n",
        "print(my_dog2.age)"
      ],
      "metadata": {
        "id": "T2xccMkzX9Wn",
        "colab": {
          "base_uri": "https://localhost:8080/"
        },
        "outputId": "8b3471a1-0c71-4ca4-bf4a-63d55c8dd279"
      },
      "execution_count": null,
      "outputs": [
        {
          "output_type": "stream",
          "name": "stdout",
          "text": [
            "Buddy\n",
            "3\n",
            "Verdy\n",
            "2\n"
          ]
        }
      ]
    },
    {
      "cell_type": "markdown",
      "source": [
        "Здесь my_dog.name и my_dog.age - это обращения к атрибутам объекта my_dog."
      ],
      "metadata": {
        "id": "0CGLYFc5YLfJ"
      }
    },
    {
      "cell_type": "markdown",
      "source": [
        "### 3. Изменение значений атрибутов:\n"
      ],
      "metadata": {
        "id": "v8Z4TTVwYSGu"
      }
    },
    {
      "cell_type": "markdown",
      "source": [
        "Значения атрибутов можно изменять после создания объекта:\n"
      ],
      "metadata": {
        "id": "h-zuw9NdYYxV"
      }
    },
    {
      "cell_type": "code",
      "source": [
        "my_dog = Dog(name=\"Buddy\", age=3)\n",
        "print(my_dog.age)\n",
        "my_dog.age = 4\n",
        "print(my_dog.age)"
      ],
      "metadata": {
        "colab": {
          "base_uri": "https://localhost:8080/"
        },
        "id": "JKImVV0fYbgc",
        "outputId": "f6ee2a37-8187-443d-d632-4fb8a012812f"
      },
      "execution_count": null,
      "outputs": [
        {
          "output_type": "stream",
          "name": "stdout",
          "text": [
            "3\n",
            "4\n"
          ]
        }
      ]
    },
    {
      "cell_type": "code",
      "source": [
        "class Fish:\n",
        "  def __init__(self, name, age):\n",
        "      self.name = name\n",
        "      self.age = age\n",
        "fish = Fish(name=\"Fish\", age=3)\n",
        "print(fish.name)"
      ],
      "metadata": {
        "colab": {
          "base_uri": "https://localhost:8080/"
        },
        "id": "HANfg5OCOplI",
        "outputId": "bcb9b308-db6b-47b5-a4cf-b73316f9e2aa"
      },
      "execution_count": null,
      "outputs": [
        {
          "output_type": "stream",
          "name": "stdout",
          "text": [
            "Fish\n"
          ]
        }
      ]
    },
    {
      "cell_type": "markdown",
      "source": [
        "### 4. Динамические Атрибуты:\n"
      ],
      "metadata": {
        "id": "KFj0jrjPc9N8"
      }
    },
    {
      "cell_type": "markdown",
      "source": [
        "Python позволяет добавлять новые атрибуты к объекту во время выполнения:\n"
      ],
      "metadata": {
        "id": "Su0PDLDbc_Jc"
      }
    },
    {
      "cell_type": "code",
      "source": [
        "class Dog:\n",
        "    def __init__(self, name, age):\n",
        "        self.name = name\n",
        "        self.age = age\n",
        "\n",
        "my_dog = Dog(name=\"Buddy\", age=3)\n",
        "print(my_dog.name)\n",
        "print(my_dog.age)\n",
        "# print(my_dog.color)  # Вызовет ошибку, т.к. переменной ещё нет\n",
        "my_dog.color = \"Brown\"\n",
        "print(my_dog.color)\n",
        "\n",
        "my_dog2 = Dog(name=\"Buddy\", age=3)\n",
        "# print(my_dog2.color) # AttributeError"
      ],
      "metadata": {
        "id": "AmZ77rJOdVQa",
        "colab": {
          "base_uri": "https://localhost:8080/"
        },
        "outputId": "92cbd5c2-3fba-419c-ec97-5bd6a07cdb20"
      },
      "execution_count": null,
      "outputs": [
        {
          "output_type": "stream",
          "name": "stdout",
          "text": [
            "Buddy\n",
            "3\n",
            "Brown\n"
          ]
        }
      ]
    },
    {
      "cell_type": "markdown",
      "source": [
        "Был добавлен динамический атрибут color, которого не будет в других объектах."
      ],
      "metadata": {
        "id": "_ulB2Z9RdrDu"
      }
    },
    {
      "cell_type": "code",
      "source": [
        "class Dog:\n",
        "    def __init__(self, name, age):\n",
        "        self.name = name\n",
        "        self.age = age\n",
        "Dog.color = \"Brown\"\n",
        "print(Dog.color)"
      ],
      "metadata": {
        "id": "WhVajGnrFBU4"
      },
      "execution_count": null,
      "outputs": []
    },
    {
      "cell_type": "markdown",
      "source": [
        "### 5. Атрибуты класса и атрибуты объекта:\n"
      ],
      "metadata": {
        "id": "1w9tQ3gzUdlv"
      }
    },
    {
      "cell_type": "markdown",
      "source": [
        "Атрибуты могут быть ассоциированы с самим классом или с конкретным объектом:\n"
      ],
      "metadata": {
        "id": "zxWGAbMuVGhP"
      }
    },
    {
      "cell_type": "code",
      "source": [
        "class Dog:\n",
        "    class_attribute = \"I am a class attribute\"\n",
        "\n",
        "    def __init__(self, name):\n",
        "        self.name = name\n",
        "\n",
        "print(Dog.class_attribute)\n",
        "\n",
        "my_dog = Dog(name=\"Buddy\")\n",
        "print(my_dog.class_attribute)\n",
        "print(my_dog.name)\n"
      ],
      "metadata": {
        "colab": {
          "base_uri": "https://localhost:8080/"
        },
        "id": "a5lh82JaYruZ",
        "outputId": "d4587945-cd07-4a73-edc2-964d153a6ca5"
      },
      "execution_count": null,
      "outputs": [
        {
          "output_type": "stream",
          "name": "stdout",
          "text": [
            "I am a class attribute\n",
            "I am a class attribute\n",
            "Buddy\n"
          ]
        }
      ]
    },
    {
      "cell_type": "markdown",
      "source": [
        "class_attribute - это атрибут класса, а name - атрибут объекта.\n"
      ],
      "metadata": {
        "id": "erKBUMxDY1sB"
      }
    },
    {
      "cell_type": "code",
      "source": [
        "l = []\n",
        "l.append(1)"
      ],
      "metadata": {
        "id": "eiw2CQmgsgNb"
      },
      "execution_count": null,
      "outputs": []
    },
    {
      "cell_type": "markdown",
      "source": [
        "Подобные атрибуты являются общими для всех объектов класса:"
      ],
      "metadata": {
        "id": "TxCJaiembgK7"
      }
    },
    {
      "cell_type": "code",
      "source": [
        "class Dog:\n",
        "\n",
        "    class_attribute = \"Class attribute\"\n",
        "\n",
        "    def __init__(self, name):\n",
        "        self.name = name\n",
        "\n",
        "my_dog = Dog(name=\"Buddy\")\n",
        "print(my_dog.class_attribute)\n",
        "\n",
        "my_dog.class_attribute = \"New\"\n",
        "print(my_dog.class_attribute)\n",
        "print(Dog.class_attribute)\n",
        "\n",
        "print(\"---------------------------------\")\n",
        "my_dog2 = Dog(name=\"Verdy\")\n",
        "print(my_dog2.class_attribute)\n",
        "\n",
        "print(\"---------------------------------\")\n",
        "Dog.class_attribute = \"New for class\"\n",
        "print(my_dog.class_attribute)\n",
        "print(my_dog2.class_attribute)\n"
      ],
      "metadata": {
        "colab": {
          "base_uri": "https://localhost:8080/"
        },
        "id": "5MmPJgT_bh67",
        "outputId": "6cad1ce9-3677-4df9-be2a-270e7ee68fc6"
      },
      "execution_count": null,
      "outputs": [
        {
          "output_type": "stream",
          "name": "stdout",
          "text": [
            "Class attribute\n",
            "New\n",
            "Class attribute\n",
            "---------------------------------\n",
            "Class attribute\n",
            "---------------------------------\n",
            "New\n",
            "New for class\n"
          ]
        }
      ]
    },
    {
      "cell_type": "markdown",
      "source": [
        "## `self`"
      ],
      "metadata": {
        "id": "2mZTPGvKeeWf"
      }
    },
    {
      "cell_type": "markdown",
      "source": [
        "`self` - это общепринятое имя для первого параметра в определении методов класса в Python. Этот параметр представляет сам объект, для которого вызывается метод, и является обязательным в большинстве случаев. Имя self не является ключевым словом в Python, но оно традиционно используется по соглашению.\n",
        "\n"
      ],
      "metadata": {
        "id": "iimatnSuenJm"
      }
    },
    {
      "cell_type": "markdown",
      "source": [
        "### Роль `self` в Классах:\n"
      ],
      "metadata": {
        "id": "O9J2dMdgeyIq"
      }
    },
    {
      "cell_type": "markdown",
      "source": [
        "- Ссылка на Объект:\n",
        "\n",
        "  self представляет экземпляр объекта, для которого вызывается метод. Это обеспечивает доступ к атрибутам и методам этого объекта внутри метода.\n",
        "  При вызове метода экземпляр класса передается автоматически."
      ],
      "metadata": {
        "id": "0Tt4w9WyhVMk"
      }
    },
    {
      "cell_type": "markdown",
      "source": [
        "- Обеспечение Связности:\n",
        "\n",
        "  self обеспечивает связность между методами и атрибутами объекта. Это позволяет методам взаимодействовать с состоянием объекта."
      ],
      "metadata": {
        "id": "4B4Gy4MXib0I"
      }
    },
    {
      "cell_type": "code",
      "source": [
        "class MyClass:\n",
        "\n",
        "    name = \"MyClass name\"\n",
        "\n",
        "    def my_method(self):\n",
        "        print(\"This is a method\")\n",
        "        print(self.name)\n",
        "\n",
        "obj = MyClass()\n",
        "obj.my_method()  # self автоматически передается как obj"
      ],
      "metadata": {
        "id": "do2RM9lKhosZ",
        "colab": {
          "base_uri": "https://localhost:8080/"
        },
        "outputId": "1d004800-20b4-4714-a152-f2d7a1dea342"
      },
      "execution_count": null,
      "outputs": [
        {
          "output_type": "stream",
          "name": "stdout",
          "text": [
            "This is a method\n",
            "MyClass name\n"
          ]
        }
      ]
    },
    {
      "cell_type": "markdown",
      "source": [
        "Здесь с помощью self мы смогли достать атрибут экземпляра класса."
      ],
      "metadata": {
        "id": "Vmm4CEcNiJAD"
      }
    },
    {
      "cell_type": "markdown",
      "source": [
        "- Использование self в Конструкторе:\n",
        "\n",
        "  В конструкторе (__init__ методе) self используется для инициализации атрибутов объекта:"
      ],
      "metadata": {
        "id": "V8uzKPg_iupT"
      }
    },
    {
      "cell_type": "code",
      "source": [
        "class Dog:\n",
        "    def __init__(self, name, age):\n",
        "        self.dog_name = name\n",
        "        self.dog_age = age\n"
      ],
      "metadata": {
        "id": "Uegan_RQiw1G"
      },
      "execution_count": null,
      "outputs": []
    },
    {
      "cell_type": "markdown",
      "source": [
        "Пример использования self:"
      ],
      "metadata": {
        "id": "kDxwKxT6i5X6"
      }
    },
    {
      "cell_type": "code",
      "source": [
        "class MyClass:\n",
        "    def __init__(self, x):\n",
        "        self.x = x\n",
        "\n",
        "    def print_value(self):\n",
        "        print(f\"Value: {self.x}\")\n",
        "\n",
        "    def double_value(self):\n",
        "        self.x *= 2\n",
        "\n",
        "# Создание объекта\n",
        "obj = MyClass(x=5)\n",
        "print(obj.x)\n",
        "# Вызов методов объекта\n",
        "obj.print_value()\n",
        "obj.double_value()\n",
        "obj.print_value()\n",
        "obj.double_value()\n",
        "obj.print_value()\n",
        "\n",
        "obj2 = MyClass(x=4)\n",
        "obj2.print_value()\n"
      ],
      "metadata": {
        "colab": {
          "base_uri": "https://localhost:8080/"
        },
        "id": "QQ0XsQtTi8cg",
        "outputId": "fe4086ac-c8e4-4bb4-f763-d12f4a6c93ae"
      },
      "execution_count": null,
      "outputs": [
        {
          "output_type": "stream",
          "name": "stdout",
          "text": [
            "5\n",
            "Value: 5\n",
            "Value: 10\n",
            "Value: 20\n",
            "Value: 4\n"
          ]
        }
      ]
    },
    {
      "cell_type": "markdown",
      "source": [
        "В этом примере self используется для доступа к атрибуту x объекта obj и его модификации внутри методов класса. Обязательное использование self обеспечивает корректную передачу экземпляра объекта в методы класса и обеспечивает правильное взаимодействие с его состоянием."
      ],
      "metadata": {
        "id": "bbAytjTYjHC5"
      }
    },
    {
      "cell_type": "markdown",
      "source": [
        "## Методы в классе"
      ],
      "metadata": {
        "id": "nZFuD7z2jqC8"
      }
    },
    {
      "cell_type": "markdown",
      "source": [
        "Методы в классу в Python - это функции, определенные внутри класса, которые выполняют операции с атрибутами объекта или взаимодействуют с экземплярами класса. Они могут изменять состояние объекта или предоставлять информацию о нем. Методы класса почти всегда имеют первым параметром self, который представляет экземпляр объекта, для которого вызывается метод.\n",
        "\n"
      ],
      "metadata": {
        "id": "2MN8AKAzjzrM"
      }
    },
    {
      "cell_type": "markdown",
      "source": [
        "### Определение Метода Класса:\n"
      ],
      "metadata": {
        "id": "Sa8rlwL_j9Es"
      }
    },
    {
      "cell_type": "code",
      "source": [
        "class MyClass:\n",
        "    def my_method(self):\n",
        "        print(\"Inside method\")\n"
      ],
      "metadata": {
        "id": "CeSucDf8kA08"
      },
      "execution_count": null,
      "outputs": []
    },
    {
      "cell_type": "markdown",
      "source": [
        "В этом примере my_method - это метод класса, который принимает параметры arg1 и arg2 плюс self в качестве первого параметра.\n"
      ],
      "metadata": {
        "id": "lyC9EwnXkEsQ"
      }
    },
    {
      "cell_type": "markdown",
      "source": [
        "### Вызов Метода:\n"
      ],
      "metadata": {
        "id": "E4A8PmCUkPrn"
      }
    },
    {
      "cell_type": "code",
      "source": [
        "obj = MyClass()\n",
        "obj.my_method() # Обратите внимание что в метод ничего не передается, но он получает переменную 'self'\n",
        "# MyClass.my_method()  # TypeError: MyClass.my_method(), т.к. нет ссылки self\n",
        "MyClass.my_method(obj)"
      ],
      "metadata": {
        "colab": {
          "base_uri": "https://localhost:8080/"
        },
        "id": "yvdODBfRkSlp",
        "outputId": "b7dffac7-41fb-498e-9496-59bba0f54196"
      },
      "execution_count": null,
      "outputs": [
        {
          "output_type": "stream",
          "name": "stdout",
          "text": [
            "Inside method\n",
            "Inside method\n"
          ]
        }
      ]
    },
    {
      "cell_type": "markdown",
      "source": [
        "obj.my_method() - вызов метода my_method на объекте obj."
      ],
      "metadata": {
        "id": "caz9Lr7xkj58"
      }
    },
    {
      "cell_type": "markdown",
      "source": [
        "### Пример Методов Класса:\n"
      ],
      "metadata": {
        "id": "wwoYTIrwkqsJ"
      }
    },
    {
      "cell_type": "code",
      "source": [
        "class Dog:\n",
        "    def __init__(self, name, age):\n",
        "        self.name = name\n",
        "        self.age = age\n",
        "\n",
        "    def bark(self):\n",
        "        print(f\"{self.name} says Woof!\")\n",
        "\n",
        "    def celebrate_birthday(self):\n",
        "        self.age += 1\n",
        "        print(f\"{self.name} is now {self.age} years old!\")\n",
        "\n",
        "# Создание объекта\n",
        "my_dog = Dog(name=\"Buddy\", age=3)\n",
        "\n",
        "# Вызов методов объекта\n",
        "my_dog.bark()\n",
        "print(my_dog.age)\n",
        "my_dog.celebrate_birthday()\n"
      ],
      "metadata": {
        "id": "tHxMjMQ9kwZE"
      },
      "execution_count": null,
      "outputs": []
    },
    {
      "cell_type": "markdown",
      "source": [
        "В этом примере bark и celebrate_birthday - это методы класса Dog. bark выводит сообщение о том, как собака лает, а celebrate_birthday увеличивает возраст собаки и выводит сообщение о том, что она отмечает день рождения.\n"
      ],
      "metadata": {
        "id": "-FSuJvn8k82r"
      }
    },
    {
      "cell_type": "markdown",
      "source": [
        "### Пример использования атрибута класса:"
      ],
      "metadata": {
        "id": "LAgy8KXHl4OS"
      }
    },
    {
      "cell_type": "code",
      "source": [
        "class Person:\n",
        "  count = 0\n",
        "\n",
        "  def __init__(self, name, age):\n",
        "    self.name = name\n",
        "    self.age = age\n",
        "    Person.count += 1\n",
        "\n",
        "\n",
        "print(Person.count)\n",
        "person1 = Person(\"Anna\", 21)\n",
        "print(Person.count)\n",
        "person2 = Person(\"Denis\", 24)\n",
        "print(Person.count)\n"
      ],
      "metadata": {
        "id": "ki3_rfrsmUuJ"
      },
      "execution_count": null,
      "outputs": []
    },
    {
      "cell_type": "markdown",
      "source": [
        "# Задачи:"
      ],
      "metadata": {
        "id": "qwvfEfFcttmv"
      }
    },
    {
      "cell_type": "markdown",
      "source": [
        "## Задача 1: Создание Класса\n",
        "Создайте класс `Rectangle` для представления прямоугольника. Класс должен иметь атрибуты:\n",
        "- `width` (ширина)\n",
        "- `height` (высота)\n",
        "\n",
        "и методы:\n",
        "- `count_area` для вычисления площади прямоугольника и\n",
        "- `count_perimeter` для вычисления его периметра\n",
        "- `show_info` для печати информации о текущих размерах"
      ],
      "metadata": {
        "id": "UkkQounTtxfF"
      }
    },
    {
      "cell_type": "code",
      "source": [],
      "metadata": {
        "id": "ztiPwXiOU_LI"
      },
      "execution_count": null,
      "outputs": []
    },
    {
      "cell_type": "markdown",
      "source": [
        "## Задача 2 `*`: Метод с Параметрами\n",
        "Добавьте метод `resize` в класс Rectangle, который принимает два параметра (`new_width` и `new_height`) и изменяет размер прямоугольника соответственно.\n",
        "\n",
        "Добавьте метод `print_rectangle`, который печатает текущий прямоугольник в соответствии с примером:\n",
        "\n",
        "```\n",
        "width = 5\n",
        "height = 3\n",
        "\n",
        "* * * * *\n",
        "* * * * *\n",
        "* * * * *\n",
        "```\n",
        "\n"
      ],
      "metadata": {
        "id": "CAe0EDxbtz1_"
      }
    },
    {
      "cell_type": "markdown",
      "source": [
        "## Задача 3: Применение Классов\n",
        "1. Создайте пять объектов класса `Rectangle`\n",
        "2. Вызовите все их методы, кроме `resize`\n",
        "3. Вызовите методы `resize`\n",
        "4. Снова вызовите все их методы, кроме `resize`\n"
      ],
      "metadata": {
        "id": "8Gf4bu7Lt2RC"
      }
    }
  ]
}