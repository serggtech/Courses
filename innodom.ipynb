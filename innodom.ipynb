{
  "nbformat": 4,
  "nbformat_minor": 0,
  "metadata": {
    "colab": {
      "provenance": [],
      "authorship_tag": "ABX9TyMo4yXnzGgPMSj022rZHOxp",
      "include_colab_link": true
    },
    "kernelspec": {
      "name": "python3",
      "display_name": "Python 3"
    },
    "language_info": {
      "name": "python"
    }
  },
  "cells": [
    {
      "cell_type": "markdown",
      "metadata": {
        "id": "view-in-github",
        "colab_type": "text"
      },
      "source": [
        "<a href=\"https://colab.research.google.com/github/serggtech/Courses/blob/main/innodom.ipynb\" target=\"_parent\"><img src=\"https://colab.research.google.com/assets/colab-badge.svg\" alt=\"Open In Colab\"/></a>"
      ]
    },
    {
      "cell_type": "code",
      "execution_count": null,
      "metadata": {
        "colab": {
          "base_uri": "https://localhost:8080/"
        },
        "id": "N4v3AaMm3F6w",
        "outputId": "b94fefc3-c95d-450e-87bf-97e578de32a3"
      },
      "outputs": [
        {
          "output_type": "stream",
          "name": "stdout",
          "text": [
            "Вывести тип и результат выражения 3/2.: <class 'float'>\n"
          ]
        }
      ],
      "source": [
        "# Занятие 2\n",
        "## Задача 1\n",
        "print(\"Вывести тип и результат выражения 3/2.:\", type(3 / 2))"
      ]
    },
    {
      "cell_type": "code",
      "source": [
        "## Задача 2\n",
        "print(\"Пользователь вводит 2 числа. Нужно вывести на экран остаток от их деления.\")\n",
        "print()\n",
        "nubmer_one = int(input(\"Введите число 1: \"))\n",
        "number_two = int(input(\"Введите число 2: \"))\n",
        "print(\"Остаток от их деления:\", (nubmer_one % number_two))"
      ],
      "metadata": {
        "colab": {
          "base_uri": "https://localhost:8080/"
        },
        "id": "ipzwwSXG48Rf",
        "outputId": "2dc686b4-31f0-43f6-ff1f-1c34ce6e2537"
      },
      "execution_count": null,
      "outputs": [
        {
          "output_type": "stream",
          "name": "stdout",
          "text": [
            "Пользователь вводит 2 числа. Нужно вывести на экран остаток от их деления.\n",
            "\n"
          ]
        }
      ]
    },
    {
      "cell_type": "code",
      "source": [
        "## Задача 3\n",
        "print(\"Пользователь вводит трёхзначное число. Нужно вывести на экран сумму его цифр.\")\n",
        "print()\n",
        "num = int(input(\"Введите трёхзначное число: \"))\n",
        "digit_one = (num // 100)\n",
        "digit_two = (num - (digit_one * 100)) // 10\n",
        "digit_three = num - ((digit_two * 10) + (digit_one * 100))\n",
        "print('Сумма его цифр:', (digit_one + digit_two + digit_three))"
      ],
      "metadata": {
        "id": "L6XUxOlu67u2"
      },
      "execution_count": null,
      "outputs": []
    },
    {
      "cell_type": "code",
      "source": [
        "## Задача 4\n",
        "print(\n",
        "    \"Создайте четыре переменные a, b, c, d, присвойте им разные значения. Затем поменяйте их значения местами без \"\n",
        "    \"использования дополнительных переменной.\")\n",
        "print()\n",
        "a, b, c, d = \"a\", \"b\", \"c\", \"d\"\n",
        "print(\"До замены значений :\", a, b, c, d)\n",
        "a, b, c, d = d, c, b, a\n",
        "print(\"После замены хначений :\", a, b, c, d)"
      ],
      "metadata": {
        "id": "ifOxFWyUG2J6"
      },
      "execution_count": null,
      "outputs": []
    },
    {
      "cell_type": "code",
      "source": [
        "## Задача 5\n",
        "print(\n",
        "    'Создайте три переменные со строками. Используйте print(), чтобы вывести эти переменные на одной строке, '\n",
        "    'разделяя их конструкцией \" : \". Закончите вывод символом \".\".')\n",
        "string_a = 'string_a'\n",
        "string_b = 'string_b'\n",
        "string_c = 'string_b'\n",
        "print()\n",
        "print(string_a, string_b, string_c)\n",
        "print()\n",
        "print(string_a, string_b, string_c, sep=':', end='.')\n",
        "print()\n"
      ],
      "metadata": {
        "id": "nTk-Gl86ILNb"
      },
      "execution_count": null,
      "outputs": []
    }
  ]
}