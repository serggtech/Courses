{
  "nbformat": 4,
  "nbformat_minor": 0,
  "metadata": {
    "colab": {
      "provenance": [],
      "authorship_tag": "ABX9TyPO/Mi/C9D3pAN7QW2lT8pL",
      "include_colab_link": true
    },
    "kernelspec": {
      "name": "python3",
      "display_name": "Python 3"
    },
    "language_info": {
      "name": "python"
    }
  },
  "cells": [
    {
      "cell_type": "markdown",
      "metadata": {
        "id": "view-in-github",
        "colab_type": "text"
      },
      "source": [
        "<a href=\"https://colab.research.google.com/github/serggtech/Courses/blob/main/Innodom_HW_4.ipynb\" target=\"_parent\"><img src=\"https://colab.research.google.com/assets/colab-badge.svg\" alt=\"Open In Colab\"/></a>"
      ]
    },
    {
      "cell_type": "code",
      "source": [
        "# Задача 1\n",
        "# Переменные a, b, c - это числа, которые вводит пользователь. Нужно найти максимальное значение из 3.\n",
        "\n",
        "a = int(input(\"Введите число А: \"))\n",
        "b = int(input(\"Введите число B: \"))\n",
        "c = int(input(\"Введите число C: \"))\n",
        "\n",
        "var_max = 0\n",
        "\n",
        "if a > b:\n",
        "    var_max = a\n",
        "else:\n",
        "    var_max = b\n",
        "if c > var_max:\n",
        "    var_max = c\n",
        "\n",
        "print()\n",
        "print(f\"A; {a}\\nB: {b}\\nC: {c} \\nmax: {var_max}\")\n"
      ],
      "metadata": {
        "id": "YCHrhLpbUd82"
      },
      "execution_count": null,
      "outputs": []
    },
    {
      "cell_type": "code",
      "source": [
        "# Задача 2\n",
        "# Определить, является ли введенный символ буквой русского или английского алфавита. Вам поможет таблица ASCII.\n",
        "\n",
        "chars_ru_start = 1024\n",
        "chars_ru_end = 1279\n",
        "chars_eng_start = 65\n",
        "chars_eng_end = 122\n",
        "chars_user = input(\"Введите символ и мы узнаем он русский или английский: \")\n",
        "chars_user_ord = ord(chars_user)\n",
        "\n",
        "if chars_ru_end >= chars_user_ord >= chars_ru_start:\n",
        "    print(f'\"{chars_user}\" это русский символ')\n",
        "elif chars_eng_end >= chars_user_ord >= chars_eng_start:\n",
        "    print(f'\"{chars_user}\" это английский символ')\n",
        "else:\n",
        "    print(f'\"{chars_user}\" это нерусский и неанглийский символ')\n"
      ],
      "metadata": {
        "id": "J4_0ml4Ggdyj"
      },
      "execution_count": null,
      "outputs": []
    },
    {
      "cell_type": "code",
      "source": [
        "# Задача 3\n",
        "# Пользователь вводит два числа, проверить, делятся ли эти числа без остатка.\n",
        "# Если да - выводить это число, если нет - выводить сообщение: число не делится без остатка.\n",
        "\n",
        "a = input(\"a: \")\n",
        "b = input(\"b: \")\n",
        "\n",
        "a_int = int(a)\n",
        "b_int = int(b)\n",
        "\n",
        "div_rem_int = a_int % b_int\n",
        "\n",
        "if div_rem_int != 0:\n",
        "    print()\n",
        "    print(\"Число не делится без остатка\")\n",
        "else:\n",
        "    print()\n",
        "    print(a_int)\n"
      ],
      "metadata": {
        "id": "oI7hGv3a92Ck",
        "colab": {
          "base_uri": "https://localhost:8080/"
        },
        "outputId": "5d9e3d2c-6ce5-4a7b-e3b4-4fded300cd31"
      },
      "execution_count": 96,
      "outputs": [
        {
          "output_type": "stream",
          "name": "stdout",
          "text": [
            "a: 3\n",
            "b: 3\n",
            "\n",
            "3\n"
          ]
        }
      ]
    },
    {
      "cell_type": "code",
      "source": [
        "# Задача 4\n",
        "# Пользователь вводит русское слово, проверьте, является ли это слово палиндромом(одинаково читается с обеих\n",
        "# сторон). В случае успеха - выводить слово, иначе сообщение: эта строка не является палиндромом.\n",
        "\n",
        "word_user = input(\"Введите русское слово: \")\n",
        "word_user_temp = word_user.upper().lower()\n",
        "word_user_temp_len = len(word_user_temp)\n",
        "\n",
        "word_user_temp_palindrom = word_user_temp[::-1]\n",
        "\n",
        "if word_user_temp == word_user_temp_palindrom:\n",
        "    print(word_user_temp.capitalize())\n",
        "else:\n",
        "    print(\"эта строка не является палиндромом\".capitalize())\n"
      ],
      "metadata": {
        "colab": {
          "base_uri": "https://localhost:8080/"
        },
        "id": "Kuz2jgC7fFQy",
        "outputId": "dc3b6577-db7c-40f6-ff69-602f4d6fe10a"
      },
      "execution_count": 70,
      "outputs": [
        {
          "output_type": "stream",
          "name": "stdout",
          "text": [
            "Введите русское слово: йцй\n",
            "Йцй\n"
          ]
        }
      ]
    },
    {
      "cell_type": "code",
      "source": [
        "import math\n",
        "\n",
        "# Задача 5\n",
        "# Существует 3 фигуры.\n",
        "# В начале пользователь выбирает, с какой фигурой хочет работать.\n",
        "# Далее, в зависимости от расчёта площади, вводит величины.\n",
        "# На выходе пользователь должен получить площадь данной фигуры.\n",
        "\n",
        "print(\n",
        "    \"Список доступых фигур для работы: \\n 1. Круг \\n 2. Квадрат \\n 3. Прямоугольник \\n\"\n",
        ")\n",
        "shape_num = int(\n",
        "    input(\n",
        "        \"Выберите фигуру с которой хотите работать, введите её номер из предложенных выше: \"\n",
        "    )\n",
        ")\n",
        "print()\n",
        "match shape_num:\n",
        "    case 1:\n",
        "        print(\"Выбран расчёт площади круга.\")\n",
        "        r_circle = input(\"Введите радиус круга: \")\n",
        "        s_circle = math.pi * (float(r_circle) ** 2)\n",
        "        print(f\"Площадь круга равна: {s_circle}\")\n",
        "\n",
        "    case 2:\n",
        "        print(\"Выбран расчёт площади квадрата.\")\n",
        "        a_square = input(\"Введите ребро квадрата: \")\n",
        "        s_square = float(a_square) * float(a_square)\n",
        "        print(f\"Площадь квадрата равна: {s_square}\")\n",
        "\n",
        "    case 3:\n",
        "        print(\"Выбран расчёт площади прямоугольника.\")\n",
        "        a_rectangle = input(\"Введите ребро прямоугольника a : \")\n",
        "        b_rectangle = input(\"Введите ребро прямоугольника b : \")\n",
        "        s_rectangle = float(a_rectangle) * float(b_rectangle)\n",
        "        print(f\"Площадь прямоугольника равна: {s_rectangle}\")\n",
        "\n",
        "    case _:\n",
        "        print(\"Ответа с таким номером не существует.\")\n"
      ],
      "metadata": {
        "colab": {
          "base_uri": "https://localhost:8080/"
        },
        "id": "9mtjjFA2numw",
        "outputId": "12d2b8ec-c08a-4c47-e11b-74c0912091ce"
      },
      "execution_count": 75,
      "outputs": [
        {
          "output_type": "stream",
          "name": "stdout",
          "text": [
            "Список доступых фигур для работы: \n",
            " 1. Круг \n",
            " 2. Квадрат \n",
            " 3. Прямоугольник \n",
            "\n",
            "Выберите фигуру с которой хотите работать, введите её номер из предложенных выше: 5\n",
            "\n",
            "Ответа с таким номером не существует.\n"
          ]
        }
      ]
    },
    {
      "cell_type": "code",
      "source": [
        "# Задача 6\n",
        "# Пользователь вводит число. Напишите программу, которая выводит, чётное или нечётное это число.\n",
        "user_num = input(\"Введите число: \")\n",
        "user_num_temp = int(user_num) % 2\n",
        "if user_num_temp == 0:\n",
        "    print(f'\"{user_num}\" Чётное число')\n",
        "else:\n",
        "    print(f'\"{user_num}\" Нечётное число')\n"
      ],
      "metadata": {
        "colab": {
          "base_uri": "https://localhost:8080/"
        },
        "id": "oL8bQUPL1WC-",
        "outputId": "3d6e441d-6e13-4066-bf8d-a9dfd3acf5c5"
      },
      "execution_count": 91,
      "outputs": [
        {
          "output_type": "stream",
          "name": "stdout",
          "text": [
            "Введите число: 32\n",
            "\"32\" Чётное число\n"
          ]
        }
      ]
    },
    {
      "cell_type": "code",
      "source": [
        "# Задача 7\n",
        "\n",
        "# Пользователь вводит четырёхзначное число.\n",
        "# Нужно понять, является ли оно счастливым.\n",
        "# Счастливым называется четырёхзначное число, в котором сумма первых двух цифр равна сумме двух последних.\n",
        "\n",
        "user_num = input(\"Введите четырехзначное число: \")\n",
        "user_num_temp_l = int(user_num[0]) + int(user_num[1])\n",
        "user_num_temp_r = int(user_num[2]) + int(user_num[3])\n",
        "if user_num_temp_l == user_num_temp_r:\n",
        "    print(f\"{user_num}\" \" Число счастливое\")\n",
        "else:\n",
        "    print(f\"{user_num}\" \" Число несчастливое\")\n"
      ],
      "metadata": {
        "colab": {
          "base_uri": "https://localhost:8080/"
        },
        "id": "rqSVlKa430Yb",
        "outputId": "619e0542-5c42-4150-865b-2597cfd4852e"
      },
      "execution_count": 93,
      "outputs": [
        {
          "output_type": "stream",
          "name": "stdout",
          "text": [
            "Введите четырехзначное число: 3333\n",
            "3333 Число счастливое\n"
          ]
        }
      ]
    },
    {
      "cell_type": "code",
      "source": [
        "# Задача 8\n",
        "# Пользователь вводит координаты точек.\n",
        "# Нужно определить, в какой четверти находится данная точка в координатной плоскости.\n",
        "\n",
        "user_number_x = int(input(\"Введите координату x: \"))\n",
        "user_number_y = int(input(\"Введите координату y: \"))\n",
        "user_number_chet = 0\n",
        "\n",
        "if user_number_x == 0 and user_number_y == 0:\n",
        "    user_number_chet = 0\n",
        "\n",
        "elif user_number_x > 0 and user_number_y > 0:\n",
        "    user_number_chet = 1\n",
        "\n",
        "elif user_number_x < 0 and user_number_y > 0:\n",
        "    user_number_chet = 2\n",
        "\n",
        "elif user_number_x < 0 and user_number_y < 0:\n",
        "    user_number_chet = 3\n",
        "\n",
        "elif user_number_x > 0 and user_number_y < 0:\n",
        "    user_number_chet = 4\n",
        "\n",
        "print(f'Точка находится в \"{user_number_chet}\" четверти')\n"
      ],
      "metadata": {
        "colab": {
          "base_uri": "https://localhost:8080/"
        },
        "id": "eJ3dUQRQ51z8",
        "outputId": "b7c5e85e-f785-44b9-82cc-bee448546e6d"
      },
      "execution_count": 94,
      "outputs": [
        {
          "output_type": "stream",
          "name": "stdout",
          "text": [
            "Введите координату x: 1\n",
            "Введите координату y: 2\n",
            "Точка находится в \"1\" четверти\n"
          ]
        }
      ]
    }
  ]
}