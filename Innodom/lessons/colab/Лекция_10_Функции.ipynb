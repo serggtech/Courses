{
  "nbformat": 4,
  "nbformat_minor": 0,
  "metadata": {
    "colab": {
      "provenance": [],
      "include_colab_link": true
    },
    "kernelspec": {
      "name": "python3",
      "display_name": "Python 3"
    },
    "language_info": {
      "name": "python"
    }
  },
  "cells": [
    {
      "cell_type": "markdown",
      "metadata": {
        "id": "view-in-github",
        "colab_type": "text"
      },
      "source": [
        "<a href=\"https://colab.research.google.com/github/serggtech/Courses/blob/main/%D0%9B%D0%B5%D0%BA%D1%86%D0%B8%D1%8F_10_%D0%A4%D1%83%D0%BD%D0%BA%D1%86%D0%B8%D0%B8.ipynb\" target=\"_parent\"><img src=\"https://colab.research.google.com/assets/colab-badge.svg\" alt=\"Open In Colab\"/></a>"
      ]
    },
    {
      "cell_type": "markdown",
      "source": [
        "# Функциональное программирование"
      ],
      "metadata": {
        "id": "TKVTmGs6hd56"
      }
    },
    {
      "cell_type": "markdown",
      "source": [
        "Функциональное программирование - это парадигма программирования, которая сосредотачивается на использовании функций как основного строительного блока программ. Основные принципы функционального программирования включают:\n",
        "\n",
        "1. **Чистые функции (Pure functions)**: Функции, которые возвращают результат, зависящий только от своих входных аргументов и не имеют побочных эффектов. То есть при одинаковых входных данных функция всегда возвращает один и тот же результат.\n",
        "\n",
        "2. **Неизменяемость (Immutability)**: Данные, как правило, являются неизменяемыми, что означает, что они не могут быть изменены после создания. Вместо этого операции создают новые данные.\n",
        "\n",
        "3. **Функции высшего порядка (Higher-order functions)**: Функции, которые могут принимать другие функции в качестве аргументов или возвращать функции как результат.\n",
        "\n",
        "4. **Рекурсия (Recursion)**: Техника, при которой функция вызывает саму себя для решения задачи.\n",
        "\n",
        "Python поддерживает функциональное программирование, и в нем есть ряд инструментов и возможностей, которые позволяют писать код в функциональном стиле:\n",
        "\n",
        "- Встроенные функции, такие как `map()`, `filter()`, и `reduce()`, которые позволяют применять функции к коллекциям данных.\n",
        "- Лямбда-выражения, которые позволяют создавать анонимные функции.\n",
        "- Генераторы, которые позволяют создавать ленивые последовательности данных.\n",
        "- Декораторы, которые позволяют изменять поведение функций.\n"
      ],
      "metadata": {
        "id": "RNnIw1sTNjfM"
      }
    },
    {
      "cell_type": "markdown",
      "source": [
        "# Функция"
      ],
      "metadata": {
        "id": "rrQzURwMhj1M"
      }
    },
    {
      "cell_type": "markdown",
      "source": [
        "Функция в программировании представляет собой фрагмент кода, который выполняет определенную задачу или вычисляет определенное значение. Функции используются для организации и структурирования кода, повторного использования фрагментов кода и упрощения его понимания.\n",
        "\n",
        "Основные характеристики функций включают:\n",
        "\n",
        "- **Имя**: Функция обычно имеет уникальное имя, которое идентифицирует её в программе.\n",
        "\n",
        "- **Параметры (аргументы)**: Функция может принимать ноль или более параметров (иногда называемых аргументами), которые представляют значения, передаваемые в функцию для выполнения операций.\n",
        "\n",
        "- **Тело функции**: Тело функции содержит набор инструкций, которые определяют, что делает функция.\n",
        "\n",
        "- **Возвращаемое значение**: Функция может возвращать результат своей работы в вызывающую часть программы. Возвращаемое значение может быть любым типом данных, включая числа, строки, списки, объекты и т. д.\n"
      ],
      "metadata": {
        "id": "GdZMUcu6hZQ_"
      }
    },
    {
      "cell_type": "markdown",
      "source": [
        "## Именованная функция"
      ],
      "metadata": {
        "id": "oULAn0BclNRi"
      }
    },
    {
      "cell_type": "markdown",
      "source": [
        "Именованная функция (named function) - это функция, которая имеет имя и может быть вызвана по этому имени. В Python именованные функции создаются с помощью ключевого слова `def`, после которого следует имя функции и параметры, если они есть.\n",
        "\n",
        "Чтобы создать функцию в Python, вы используете ключевое слово `def`, за которым следует имя функции, список параметров в круглых скобках, и двоеточие. Затем идет блок кода, который выполняется, когда функция вызывается. Пример простой функции на Python:\n",
        "\n"
      ],
      "metadata": {
        "id": "ulqC3o-RlMQd"
      }
    },
    {
      "cell_type": "code",
      "source": [
        "# Создание функции\n",
        "def greet(name):\n",
        "    \"\"\"Функция, которая приветствует пользователя.\"\"\"\n",
        "    return f\"Привет, {name}\"\n",
        "\n",
        "# Вызов функции\n",
        "print(greet(\"Alex\"))\n",
        "print(greet(\"Anna\"))"
      ],
      "metadata": {
        "id": "1xNriZV4lxch",
        "colab": {
          "base_uri": "https://localhost:8080/"
        },
        "outputId": "b411069e-9856-41cf-ab31-831682f51d17"
      },
      "execution_count": null,
      "outputs": [
        {
          "output_type": "stream",
          "name": "stdout",
          "text": [
            "Привет, Alex\n",
            "Привет, Anna\n"
          ]
        }
      ]
    },
    {
      "cell_type": "markdown",
      "source": [
        "В этом примере функция greet() принимает один аргумент name, который является строкой, и выводит приветствие с этим именем. Комментарий в тройных кавычках (\"\"\") называется документационной строкой (docstring) и содержит описание функции.\n",
        "\n",
        "Функции являются важным инструментом в разработке программного обеспечения, поскольку позволяют разделять и абстрагировать логику программы, делая код более структурированным, читаемым и поддерживаемым."
      ],
      "metadata": {
        "id": "l-qlbLn3l_bv"
      }
    },
    {
      "cell_type": "markdown",
      "source": [
        "## Функции процедуры"
      ],
      "metadata": {
        "id": "9uS7JnEkmVIi"
      }
    },
    {
      "cell_type": "markdown",
      "source": [
        "Функция обычно возвращает результат своего выполнения, если она ничего\n",
        "не возвращает, то такие функции называют процедурами.\n",
        "\n",
        "Процедуры часто используются для организации кода и выполнения повторяющихся действий без необходимости возвращать какие-либо значения.\n",
        "\n",
        "Пример процедуры:"
      ],
      "metadata": {
        "id": "TaVaXQmQmYpB"
      }
    },
    {
      "cell_type": "code",
      "source": [
        "# Создание функции\n",
        "def greet(name):\n",
        "    \"\"\"Функция, которая приветствует пользователя.\"\"\"\n",
        "    print(\"Привет,\", name)\n",
        "\n",
        "# Вызов функции\n",
        "greet(\"Alex\")"
      ],
      "metadata": {
        "id": "pfLzuw81nNtf",
        "colab": {
          "base_uri": "https://localhost:8080/"
        },
        "outputId": "2cce3a87-f54a-4ef6-ae4c-df66e5d230a9"
      },
      "execution_count": null,
      "outputs": [
        {
          "output_type": "stream",
          "name": "stdout",
          "text": [
            "Привет, Alex\n"
          ]
        }
      ]
    },
    {
      "cell_type": "markdown",
      "source": [
        "# Аргументы функции"
      ],
      "metadata": {
        "id": "RPdsc-93n6FP"
      }
    },
    {
      "cell_type": "markdown",
      "source": [
        "В Python функции могут принимать аргументы, которые представляют собой значения, передаваемые функции при её вызове. Аргументы используются для передачи информации в функцию, чтобы она могла выполнить определенные действия.\n",
        "\n",
        "Существует несколько типов аргументов в Python:\n",
        "\n",
        "1.   Позиционные аргументы:\n",
        "Это самый обычный тип аргументов. Значения передаются в соответствии с их позицией в списке параметров функции.\n"
      ],
      "metadata": {
        "id": "twAsBK7c3iLV"
      }
    },
    {
      "cell_type": "code",
      "source": [
        "def delete_numbers(x, y):\n",
        "    return x / y\n",
        "\n",
        "result = delete_numbers(12, 3)\n",
        "print(result)\n",
        "result = delete_numbers(3, 12)\n",
        "print(result)"
      ],
      "metadata": {
        "colab": {
          "base_uri": "https://localhost:8080/"
        },
        "id": "RDFTn3tZ4N1n",
        "outputId": "ab2f8cbd-3d19-4e59-b140-669c59ed64cb"
      },
      "execution_count": null,
      "outputs": [
        {
          "output_type": "stream",
          "name": "stdout",
          "text": [
            "4.0\n",
            "0.25\n"
          ]
        }
      ]
    },
    {
      "cell_type": "markdown",
      "source": [
        "2. Именованные аргументы:\n",
        "Значения передаются с указанием имени параметра, что делает вызов функции более ясным и удобным."
      ],
      "metadata": {
        "id": "niexb5Or4w7r"
      }
    },
    {
      "cell_type": "code",
      "source": [
        "def greet(name, greeting):\n",
        "    return greeting + \", \" + name + \"!\"\n",
        "\n",
        "result = greet(greeting=\"Здравствуй\", name=\"Анна\")\n",
        "print(result)\n",
        "result = greet(name=\"Анна\", greeting=\"Здравствуй\")\n",
        "print(result)\n",
        "result = greet(\"Здравствуй\", \"Анна\")\n",
        "print(result)"
      ],
      "metadata": {
        "colab": {
          "base_uri": "https://localhost:8080/"
        },
        "id": "IDLHZQMk422H",
        "outputId": "f8fabe3c-3168-44b3-ad45-b0a1b2cd2653"
      },
      "execution_count": null,
      "outputs": [
        {
          "output_type": "stream",
          "name": "stdout",
          "text": [
            "Здравствуй, Анна!\n",
            "Здравствуй, Анна!\n",
            "Анна, Здравствуй!\n"
          ]
        }
      ]
    },
    {
      "cell_type": "markdown",
      "source": [
        "3. Аргументы по умолчанию:\n",
        "Параметры функции могут иметь значения по умолчанию, которые будут использоваться, если при вызове функции не переданы соответствующие значения."
      ],
      "metadata": {
        "id": "vj8ikgJC5DV_"
      }
    },
    {
      "cell_type": "code",
      "source": [
        "def greet(name, greeting=\"Привет\"):\n",
        "    return greeting + \", \" + name + \"!\"\n",
        "\n",
        "result = greet(\"Анна\")\n",
        "print(result)\n",
        "result = greet(\"Анна\", \"Здравствуй\")\n",
        "print(result)\n",
        "# result = greet()  # Вызовет ошибку\n",
        "# print(result)\n",
        "# result = greet(\"Анна\", \"Здравствуй\", \"Анна\")  # Вызовет ошибку\n",
        "# print(result)"
      ],
      "metadata": {
        "colab": {
          "base_uri": "https://localhost:8080/"
        },
        "id": "f-FaZysx5HE1",
        "outputId": "b7dffc5f-e3ab-4a9d-9062-8f1068080bb5"
      },
      "execution_count": null,
      "outputs": [
        {
          "output_type": "stream",
          "name": "stdout",
          "text": [
            "Привет, Анна!\n",
            "Здравствуй, Анна!\n"
          ]
        }
      ]
    },
    {
      "cell_type": "markdown",
      "source": [
        "4. Произвольное количество аргументов:\n",
        "Функции могут принимать произвольное количество аргументов, используя `*args` для позиционных аргументов или `**kwargs` для именованных аргументов."
      ],
      "metadata": {
        "id": "45TRv-uP6Cxn"
      }
    },
    {
      "cell_type": "code",
      "source": [
        "def print_arguments(*args, **kwargs):\n",
        "    print(\"Позиционные аргументы:\", args)\n",
        "    print(\"Именованные аргументы:\", kwargs)\n",
        "\n",
        "print_arguments(1, 2, [4, 5], name=\"John\", age=25, products=['apple', 'orange'])\n",
        "print()\n",
        "print_arguments(1, 2, [4, 5], \"John\", 25, ['apple', 'orange'])"
      ],
      "metadata": {
        "id": "BtQ2crQedPHX"
      },
      "execution_count": null,
      "outputs": []
    },
    {
      "cell_type": "code",
      "source": [
        "# def print_arguments(*args, **kwargs):\n",
        "def print_arguments(*position_agrs, **name_kwargs):\n",
        "    print(\"Позиционные аргументы:\", position_agrs)\n",
        "    print(\"Именованные аргументы:\", name_kwargs)\n",
        "\n",
        "print_arguments(1, 2, 3, name=\"John\", age=25)"
      ],
      "metadata": {
        "colab": {
          "base_uri": "https://localhost:8080/"
        },
        "id": "S2ypcGp_6FVV",
        "outputId": "3da8d7a4-65b5-476f-86e1-409e131c9cd3"
      },
      "execution_count": null,
      "outputs": [
        {
          "output_type": "stream",
          "name": "stdout",
          "text": [
            "Позиционные аргументы: (1, 2, 3)\n",
            "Именованные аргументы: {'name': 'John', 'age': 25}\n"
          ]
        }
      ]
    },
    {
      "cell_type": "code",
      "source": [
        "l = ['23', '45','78','3','6','7','8']\n",
        "s = \"-\".join(l)\n",
        "print(s)\n",
        "print(l, sep='-')\n",
        "print(*l, sep='-')\n",
        "print('23', '45','78','3','6','7','8', sep='-')"
      ],
      "metadata": {
        "colab": {
          "base_uri": "https://localhost:8080/"
        },
        "id": "unC1UAL3f4O2",
        "outputId": "1a7c9209-43ae-4841-a7da-8b34eaa737d9"
      },
      "execution_count": null,
      "outputs": [
        {
          "output_type": "stream",
          "name": "stdout",
          "text": [
            "23-45-78-3-6-7-8\n",
            "['23', '45', '78', '3', '6', '7', '8']\n",
            "23-45-78-3-6-7-8\n",
            "23-45-78-3-6-7-8\n"
          ]
        }
      ]
    },
    {
      "cell_type": "markdown",
      "source": [
        "Когда у вас есть и позиционные аргументы, и аргументы по умолчанию, а также вы хотите использовать `*args` и `**kwargs`, порядок следования аргументов в определении функции важен.\n",
        "\n",
        "Порядок аргументов при определении функции в Python следующий:\n",
        "\n",
        "- Позиционные аргументы: Это обычные аргументы, передаваемые в функцию по их позиции в списке параметров. Они идут в самом начале.\n",
        "\n",
        "- Аргументы по умолчанию: Параметры, у которых есть значения по умолчанию. Они идут после позиционных аргументов.\n",
        "\n",
        "- `*args`: Это специальный синтаксис для передачи произвольного числа позиционных аргументов в виде кортежа. Он идет после аргументов по умолчанию.\n",
        "\n",
        "- `**kwargs`: Еще один специальный синтаксис для передачи произвольного числа именованных аргументов в виде словаря. Он идет после `*args`.\n",
        "\n",
        "Вот пример функции, использующей все типы аргументов:"
      ],
      "metadata": {
        "id": "I7Um1zNB6eY8"
      }
    },
    {
      "cell_type": "code",
      "source": [
        "def example_function(positional_arg1, positional_arg2, default_arg=\"default_value\", *args, **kwargs):\n",
        "    \"\"\"\n",
        "    Пример функции с различными типами аргументов.\n",
        "\n",
        "    Args:\n",
        "        positional_arg1: Позиционный аргумент 1.\n",
        "        positional_arg2: Позиционный аргумент 2.\n",
        "        default_arg: Аргумент со значением по умолчанию (по умолчанию \"default_value\").\n",
        "        *args: Переменное число позиционных аргументов.\n",
        "        **kwargs: Переменное число именованных аргументов.\n",
        "    \"\"\"\n",
        "    print(\"Позиционный аргумент 1:\", positional_arg1)\n",
        "    print(\"Позиционный аргумент 2:\", positional_arg2)\n",
        "    print(\"Аргумент со значением по умолчанию:\", default_arg)\n",
        "    print(\"Дополнительные позиционные аргументы:\")\n",
        "    for arg in args:\n",
        "        print(\"-\", arg)\n",
        "    print(\"Дополнительные именованные аргументы:\")\n",
        "    for key, value in kwargs.items():\n",
        "        print(\"-\", key + \":\", value)\n",
        "\n",
        "# Вызов функции с разными типами аргументов\n",
        "example_function(\"Value1\", \"Value2\", \"Custom_default\", \"Extra_arg1\", \"Extra_arg2\", extra_kwarg1=\"Extra_value1\", extra_kwarg2=\"Extra_value2\")\n",
        "# example_function(\"Value1\", \"Value2\", \"Custom_default\", \"Extra_arg1\", extra_kwarg1=\"Extra_value1\", extra_kwarg2=\"Extra_value2\", \"Extra_arg2\")\n"
      ],
      "metadata": {
        "colab": {
          "base_uri": "https://localhost:8080/"
        },
        "id": "FtL0PLj21gm0",
        "outputId": "ac3d6ae6-ea76-4b09-b258-994b61f5257d"
      },
      "execution_count": null,
      "outputs": [
        {
          "output_type": "stream",
          "name": "stdout",
          "text": [
            "Позиционный аргумент 1: Value1\n",
            "Позиционный аргумент 2: Value2\n",
            "Аргумент со значением по умолчанию: Custom_default\n",
            "Дополнительные позиционные аргументы:\n",
            "- Extra_arg1\n",
            "- Extra_arg2\n",
            "Дополнительные именованные аргументы:\n",
            "- extra_kwarg1: Extra_value1\n",
            "- extra_kwarg2: Extra_value2\n"
          ]
        }
      ]
    },
    {
      "cell_type": "markdown",
      "source": [
        "# Запаковка и распаковка `*args`, `**kwargs`"
      ],
      "metadata": {
        "id": "kVVEq6sr9MuC"
      }
    },
    {
      "cell_type": "markdown",
      "source": [
        "## Запаковка и распаковка `*args`"
      ],
      "metadata": {
        "id": "Qas8BIgj45Kz"
      }
    },
    {
      "cell_type": "markdown",
      "source": [
        "Звездочка (*) в Python используется для упаковки (packing) и распаковки (unpacking) аргументов."
      ],
      "metadata": {
        "id": "-ztZzULe9PXd"
      }
    },
    {
      "cell_type": "markdown",
      "source": [
        "## Упаковка (*args):"
      ],
      "metadata": {
        "id": "0zyuj3lp9dyu"
      }
    },
    {
      "cell_type": "markdown",
      "source": [
        "Упаковка позволяет передавать произвольное количество позиционных аргументов в функцию. В определении функции звездочка (*) перед именем переменной создает кортеж из переданных значений.\n",
        "\n",
        "Пример упаковки:"
      ],
      "metadata": {
        "id": "Edrnu6Wr9fpW"
      }
    },
    {
      "cell_type": "code",
      "source": [
        "def print_arguments(*args):\n",
        "    for arg in args:\n",
        "        print(arg)\n",
        "\n",
        "print_arguments(1, 2, 3, \"four\", [5, 6])"
      ],
      "metadata": {
        "id": "_iuflemG9j2T"
      },
      "execution_count": null,
      "outputs": []
    },
    {
      "cell_type": "markdown",
      "source": [
        "В этом примере *args упаковывает переданные значения в кортеж args. Функция print_arguments выводит каждое значение."
      ],
      "metadata": {
        "id": "uIkGarik9qoX"
      }
    },
    {
      "cell_type": "markdown",
      "source": [
        "## Распаковка (*args):\n"
      ],
      "metadata": {
        "id": "2cKJmekc9sN-"
      }
    },
    {
      "cell_type": "markdown",
      "source": [
        "Распаковка позволяет передать элементы из списка или кортежа как отдельные аргументы в функцию.\n",
        "\n",
        "Пример распаковки:"
      ],
      "metadata": {
        "id": "oy2ShF4r9yVM"
      }
    },
    {
      "cell_type": "code",
      "source": [
        "def add_numbers(x, y, z):\n",
        "    return x + y + z\n",
        "\n",
        "numbers = [1, 2, 3]\n",
        "\n",
        "result = add_numbers(numbers[0], numbers[1], numbers[2])\n",
        "result = add_numbers(*numbers)\n",
        "print(result)"
      ],
      "metadata": {
        "id": "pbEMfixE94iZ"
      },
      "execution_count": null,
      "outputs": []
    },
    {
      "cell_type": "markdown",
      "source": [
        "Здесь *numbers распаковывает значения из списка numbers и передает их в функцию add_numbers как отдельные аргументы."
      ],
      "metadata": {
        "id": "BU4qoP9z-H2v"
      }
    },
    {
      "cell_type": "code",
      "source": [
        "numbers = [1, 2, 3]\n",
        "print(numbers)\n",
        "\n",
        "for i in numbers:\n",
        "  print(i, end=\" \")\n",
        "print()\n",
        "\n",
        "print(*numbers)"
      ],
      "metadata": {
        "id": "ZASKbsiIGiMt",
        "colab": {
          "base_uri": "https://localhost:8080/"
        },
        "outputId": "8eab6243-f2dd-44b5-ebd9-5528d502d5c1"
      },
      "execution_count": null,
      "outputs": [
        {
          "output_type": "stream",
          "name": "stdout",
          "text": [
            "[1, 2, 3]\n",
            "1 2 3 \n",
            "1 2 3\n"
          ]
        }
      ]
    },
    {
      "cell_type": "code",
      "source": [
        "def sum_five_numbers(x, y, z, a, b):\n",
        "    return x + y + z + a + b\n",
        "\n",
        "result = sum_five_numbers(*[1, 2, 3, 4, 5])\n",
        "print(result)"
      ],
      "metadata": {
        "id": "sLds22cu4BED"
      },
      "execution_count": null,
      "outputs": []
    },
    {
      "cell_type": "markdown",
      "source": [
        "Пример распаковки и упаковки обратно:"
      ],
      "metadata": {
        "id": "49vZZjdY4NoB"
      }
    },
    {
      "cell_type": "code",
      "source": [
        "def sum_numbers(*numbers):\n",
        "    print(numbers)\n",
        "    result = 0\n",
        "    for i in numbers:\n",
        "      result += i\n",
        "    return result\n",
        "\n",
        "result = sum_numbers(*[1, 2, 3, 4])\n",
        "print(result)"
      ],
      "metadata": {
        "id": "6FeCzyrL4NBv",
        "colab": {
          "base_uri": "https://localhost:8080/"
        },
        "outputId": "b8b671d9-8755-4da2-f4bc-da3d5bdafa6f"
      },
      "execution_count": null,
      "outputs": [
        {
          "output_type": "stream",
          "name": "stdout",
          "text": [
            "(1, 2, 3, 4)\n",
            "10\n"
          ]
        }
      ]
    },
    {
      "cell_type": "markdown",
      "source": [
        "Обратите внимание, что порядок упаковки и распаковки важен. При вызове функции порядок аргументов должен соответствовать ожидаемому порядку в определении функции.\n"
      ],
      "metadata": {
        "id": "IpvGnhlC40zt"
      }
    },
    {
      "cell_type": "markdown",
      "source": [
        "## Запаковка и распаковка `*kwargs`"
      ],
      "metadata": {
        "id": "QX4BFuG14-38"
      }
    },
    {
      "cell_type": "markdown",
      "source": [
        "## Упаковка (**kwargs):"
      ],
      "metadata": {
        "id": "ukhVHpad-MSG"
      }
    },
    {
      "cell_type": "markdown",
      "source": [
        "Упаковка именованных аргументов (**kwargs) позволяет передавать произвольное количество именованных аргументов в функцию. В определении функции звездочка с двумя символами (**) перед именем переменной создает словарь из переданных значений.\n",
        "\n",
        "Пример упаковки именованных аргументов:"
      ],
      "metadata": {
        "id": "2pLTPh5h-PNy"
      }
    },
    {
      "cell_type": "code",
      "source": [
        "def print_keyword_arguments(**kwargs):\n",
        "    print(kwargs)\n",
        "    for key, value in kwargs.items():\n",
        "        print(key, \":\", value)\n",
        "\n",
        "print_keyword_arguments(name=\"John\", age=25, city=\"New York\")"
      ],
      "metadata": {
        "id": "96LMN4AH-STy",
        "colab": {
          "base_uri": "https://localhost:8080/"
        },
        "outputId": "606d2dc5-950e-49e7-c34f-699f0d11d716"
      },
      "execution_count": null,
      "outputs": [
        {
          "output_type": "stream",
          "name": "stdout",
          "text": [
            "{'name': 'John', 'age': 25, 'city': 'New York'}\n",
            "name : John\n",
            "age : 25\n",
            "city : New York\n"
          ]
        }
      ]
    },
    {
      "cell_type": "markdown",
      "source": [
        "## Распаковка (**kwargs):"
      ],
      "metadata": {
        "id": "5s_DAE1W-X-p"
      }
    },
    {
      "cell_type": "markdown",
      "source": [
        "Распаковка именованных аргументов (**kwargs) позволяет передавать элементы из словаря как именованные аргументы в функцию.\n",
        "\n",
        "Пример распаковки именованных аргументов:"
      ],
      "metadata": {
        "id": "gBzbXfGn-cUJ"
      }
    },
    {
      "cell_type": "code",
      "source": [
        "def greet_person(name, age):\n",
        "    print(\"Привет,\", name + \"!\", \"Тебе\", age, \"лет.\")\n",
        "\n",
        "person_info = {\"age\": 30, \"name\": \"Анна\"}\n",
        "\n",
        "greet_person(**person_info)"
      ],
      "metadata": {
        "colab": {
          "base_uri": "https://localhost:8080/"
        },
        "id": "2nkX0qCc-dHv",
        "outputId": "e91ac166-8d34-46bc-a544-3f7933d946d7"
      },
      "execution_count": null,
      "outputs": [
        {
          "output_type": "stream",
          "name": "stdout",
          "text": [
            "Привет, Анна! Тебе 30 лет.\n"
          ]
        }
      ]
    },
    {
      "cell_type": "markdown",
      "source": [
        "Здесь **person_info распаковывает значения из словаря person_info и передает их в функцию greet_person как именованные аргументы.\n",
        "\n",
        "Обратите внимание, что порядок для kwargs не важен, т.к. они распаковываются на именованные аргументы."
      ],
      "metadata": {
        "id": "CTgrOj349mSX"
      }
    },
    {
      "cell_type": "code",
      "source": [
        "def greet_person(name, age, lst):\n",
        "    # print(\"Привет,\", name + \"!\", \"Тебе\", age, \"лет.\")\n",
        "    lst.append(1)\n",
        "    print(\"Inside\", lst)\n",
        "\n",
        "personal_age = 30\n",
        "personal_name = 'Анна'\n",
        "lst1 = []\n",
        "\n",
        "greet_person('Анна', personal_age, lst1)\n",
        "print(\"Outside\", lst1)"
      ],
      "metadata": {
        "colab": {
          "base_uri": "https://localhost:8080/"
        },
        "id": "xS3l4xvpmXrI",
        "outputId": "46f03a3b-5b53-4277-f453-ba4b66ba7a9a"
      },
      "execution_count": null,
      "outputs": [
        {
          "output_type": "stream",
          "name": "stdout",
          "text": [
            "Inside [1]\n",
            "Outside [1]\n"
          ]
        }
      ]
    },
    {
      "cell_type": "markdown",
      "source": [
        "# Локальные и глобальные переменные"
      ],
      "metadata": {
        "id": "XPv2vW67-8iq"
      }
    },
    {
      "cell_type": "markdown",
      "source": [
        "В Python существует два основных типа переменных в контексте области видимости: локальные (local) и глобальные (global)."
      ],
      "metadata": {
        "id": "6Fxvnzyb-9zC"
      }
    },
    {
      "cell_type": "markdown",
      "source": [
        "## Локальные переменные:"
      ],
      "metadata": {
        "id": "1IQDiiLX_coL"
      }
    },
    {
      "cell_type": "markdown",
      "source": [
        "Локальные переменные объявляются внутри функции и видны только в пределах этой функции. Они существуют только во время выполнения функции и уничтожаются после её завершения. Попытка доступа к локальной переменной за пределами функции вызовет ошибку.\n",
        "\n",
        "Пример:"
      ],
      "metadata": {
        "id": "TfCjazh__fBi"
      }
    },
    {
      "cell_type": "code",
      "source": [
        "def example_function():\n",
        "    local_variable = 10\n",
        "    print(local_variable)\n",
        "\n",
        "example_function()\n",
        "# print(local_variable)  # Это вызовет ошибку, так как local_variable не видна за пределами функции"
      ],
      "metadata": {
        "colab": {
          "base_uri": "https://localhost:8080/"
        },
        "id": "6vy-aD44_J1s",
        "outputId": "3a685423-37de-4ee0-db13-bb16a4f82b53"
      },
      "execution_count": null,
      "outputs": [
        {
          "output_type": "stream",
          "name": "stdout",
          "text": [
            "10\n"
          ]
        }
      ]
    },
    {
      "cell_type": "code",
      "source": [
        "def example_function(*numbers):\n",
        "    summa1 = 0\n",
        "    for i in numbers:\n",
        "       summa1 += i\n",
        "    print(summa1)\n",
        "\n",
        "example_function(1, 2, 3, 4, 5)\n",
        "example_function(3, 4, 5)\n",
        "# print(summa1)  # Это вызовет ошибку, так как s не видна за пределами функции"
      ],
      "metadata": {
        "colab": {
          "base_uri": "https://localhost:8080/"
        },
        "id": "miNoByXMqEYY",
        "outputId": "2783a9c8-3d57-4d19-e057-442ebc3fa485"
      },
      "execution_count": null,
      "outputs": [
        {
          "output_type": "stream",
          "name": "stdout",
          "text": [
            "15\n",
            "12\n"
          ]
        }
      ]
    },
    {
      "cell_type": "markdown",
      "source": [
        "## Глобальные переменные:"
      ],
      "metadata": {
        "id": "OTCW3gFN_igw"
      }
    },
    {
      "cell_type": "markdown",
      "source": [
        "Глобальные переменные объявляются вне функций и доступны во всей программе, включая все функции. Они могут быть изменены и использованы в любом месте программы. Глобальные переменные лучше использовать в случае, когда значение переменной нужно использовать в нескольких частях программы, но обычно их следует использовать осторожно, чтобы избежать неожиданных изменений в программе.\n",
        "\n",
        "Однако, если вы хотите изменить значение глобальной переменной внутри функции или создать внутри нее глобальную переменную, вам нужно использовать ключевое слово `global`.\n",
        "\n",
        "Пример:"
      ],
      "metadata": {
        "id": "SePEid1O_XyH"
      }
    },
    {
      "cell_type": "code",
      "source": [
        "y = 20  # глобальная переменная\n",
        "\n",
        "def example_function():\n",
        "    print(\"Inside function:\", y)\n",
        "\n",
        "example_function()\n",
        "print(\"Outside function:\", y)  # доступ к глобальной переменной"
      ],
      "metadata": {
        "id": "N-epg1Oy7GmF",
        "colab": {
          "base_uri": "https://localhost:8080/"
        },
        "outputId": "f4ffd639-102b-413b-c04a-6903bf094ea9"
      },
      "execution_count": null,
      "outputs": [
        {
          "output_type": "stream",
          "name": "stdout",
          "text": [
            "Inside function: 20\n",
            "Outside function: 20\n"
          ]
        }
      ]
    },
    {
      "cell_type": "code",
      "source": [
        "global_variable = 20\n",
        "\n",
        "def example_function(variable):\n",
        "    variable += 5\n",
        "    print(\"Inside function:\", variable)\n",
        "\n",
        "example_function(global_variable)\n",
        "print(\"Outside function:\", global_variable)  # global_variable не изменена (объясните почему?)"
      ],
      "metadata": {
        "id": "5M2o6D8CK9e2",
        "colab": {
          "base_uri": "https://localhost:8080/"
        },
        "outputId": "d3b39adf-6742-49b1-dc3b-8c40c6363680"
      },
      "execution_count": null,
      "outputs": [
        {
          "output_type": "stream",
          "name": "stdout",
          "text": [
            "Inside function: 25\n",
            "Outside function: 20\n"
          ]
        }
      ]
    },
    {
      "cell_type": "code",
      "source": [
        "# global_variable = 20\n",
        "\n",
        "def example_function():\n",
        "    global global_variable\n",
        "    global_variable += 5\n",
        "    print(\"Inside function:\", global_variable)\n",
        "\n",
        "example_function()\n",
        "print(\"Outside function:\", global_variable)  # Теперь global_variable изменена"
      ],
      "metadata": {
        "id": "CWqPDXTB_jm-",
        "colab": {
          "base_uri": "https://localhost:8080/"
        },
        "outputId": "bbac92a2-2b44-402a-9ad6-efae5d23fec2"
      },
      "execution_count": null,
      "outputs": [
        {
          "output_type": "stream",
          "name": "stdout",
          "text": [
            "Inside function: 25\n",
            "Outside function: 25\n"
          ]
        }
      ]
    },
    {
      "cell_type": "markdown",
      "source": [
        "Если не указать ключевое слово global вы не сможете обратиться к глобальной переменной."
      ],
      "metadata": {
        "id": "P8EdacRNABOe"
      }
    },
    {
      "cell_type": "code",
      "source": [
        "global_variable = 20\n",
        "\n",
        "def example_function():\n",
        "    global_variable = 0\n",
        "    print(global_variable)\n",
        "\n",
        "example_function()\n",
        "print(global_variable)  # глобальная global_variable осталась прежней"
      ],
      "metadata": {
        "id": "UEfmGHIK_7jx",
        "colab": {
          "base_uri": "https://localhost:8080/"
        },
        "outputId": "52577293-c7c6-4959-e1c6-ffff4ae44b82"
      },
      "execution_count": null,
      "outputs": [
        {
          "output_type": "stream",
          "name": "stdout",
          "text": [
            "0\n",
            "20\n"
          ]
        }
      ]
    },
    {
      "cell_type": "markdown",
      "source": [
        "## Нелокальные переменные:"
      ],
      "metadata": {
        "id": "qSftAI4K7_8u"
      }
    },
    {
      "cell_type": "markdown",
      "source": [
        "Помимо глобальных и локальных переменных, существует ещё один тип переменных, называемый переменными в объемлющей области видимости (nonlocal variables). Этот тип переменных используется во вложенных функциях, когда внутренняя функция изменяет переменную, определенную в объемлющей функции.\n",
        "\n",
        "Переменные в объемлющей области видимости (nonlocal variables):\n",
        "- Эти переменные определены во внутренней функции, но изменяются внутри вложенной функции, которая находится внутри внешней функции.\n",
        "- Они не являются ни локальными, ни глобальными. Они принадлежат к области видимости объемлющей функции.\n",
        "- Переменные в объемлющей области видимости объявляются с помощью ключевого слова nonlocal.\n",
        "\n",
        "Пример переменных в объемлющей области видимости в Python:"
      ],
      "metadata": {
        "id": "Bg-0UMuk8JGf"
      }
    },
    {
      "cell_type": "code",
      "source": [
        "def outer_function():\n",
        "    x = 10  # локальная переменная внешней функции\n",
        "\n",
        "    def inner_function():\n",
        "        nonlocal x  # объявляем x как переменную в объемлющей области видимости\n",
        "        x += 5  # изменяем значение переменной x, определенной во внешней функции\n",
        "        print(\"Inside inner_function:\", x)\n",
        "\n",
        "    inner_function()\n",
        "    print(\"Outside inner_function:\", x)  # доступ к измененному значению x из внешней функции\n",
        "\n",
        "outer_function()"
      ],
      "metadata": {
        "colab": {
          "base_uri": "https://localhost:8080/"
        },
        "id": "B9tt3_4y8279",
        "outputId": "0cf71003-23c6-430b-fabe-b740060eecfb"
      },
      "execution_count": null,
      "outputs": [
        {
          "output_type": "stream",
          "name": "stdout",
          "text": [
            "Inside inner_function: 15\n",
            "Outside inner_function: 15\n"
          ]
        }
      ]
    },
    {
      "cell_type": "markdown",
      "source": [
        "## Передача значений в функцию и возвращение результатов:\n"
      ],
      "metadata": {
        "id": "ijhSoHy3B5Ro"
      }
    },
    {
      "cell_type": "markdown",
      "source": [
        "Вместо использования глобальных переменных, часто лучше передавать значения в функцию в качестве аргументов и возвращать результаты. Это делает код более читаемым и обеспечивает изоляцию переменных внутри функций.\n",
        "\n",
        "Пример:"
      ],
      "metadata": {
        "id": "gnYaPphtB7a0"
      }
    },
    {
      "cell_type": "code",
      "source": [
        "x = 3\n",
        "y = 4\n",
        "\n",
        "def add_numbers(a, b):\n",
        "    result = a + b\n",
        "    return result\n",
        "\n",
        "sum_result = add_numbers(x, y)\n",
        "print(sum_result)"
      ],
      "metadata": {
        "id": "cJuXSFsaB-4u"
      },
      "execution_count": null,
      "outputs": []
    },
    {
      "cell_type": "markdown",
      "source": [
        "В этом примере переменные a и b передаются в функцию add_numbers в качестве аргументов, а результат возвращается из функции и присваивается переменной sum_result.\n",
        "\n",
        "Выбор между локальными и глобальными переменными зависит от конкретных потребностей вашего кода. В целом, старайтесь минимизировать использование глобальных переменных, так как они могут усложнить отладку и поддержку кода."
      ],
      "metadata": {
        "id": "vdddKXW9CQtx"
      }
    },
    {
      "cell_type": "markdown",
      "source": [
        "# Оператор `return`"
      ],
      "metadata": {
        "id": "iGOxKqHcCYPW"
      }
    },
    {
      "cell_type": "markdown",
      "source": [
        "В Python оператор return используется для возвращения значения из функции. Когда функция встречает оператор return, выполнение функции завершается, и управление передается обратно к месту вызова функции. Значение, указанное после return, становится результатом вызова функции.\n",
        "\n",
        "Пример:"
      ],
      "metadata": {
        "id": "lUuv78XMCc-Y"
      }
    },
    {
      "cell_type": "code",
      "source": [
        "def add_numbers(x, y):\n",
        "    result = x + y\n",
        "    return result\n",
        "    # print(\"hi\")  # Код не достижим\n",
        "\n",
        "# Вызов функции и присвоение результата переменной\n",
        "sum_result = add_numbers(3, 4)\n",
        "\n",
        "print(sum_result)"
      ],
      "metadata": {
        "id": "e5LlCNb5Ck4y",
        "colab": {
          "base_uri": "https://localhost:8080/"
        },
        "outputId": "ff8e9b77-ec8a-470a-e400-1b6c09836b4f"
      },
      "execution_count": null,
      "outputs": [
        {
          "output_type": "stream",
          "name": "stdout",
          "text": [
            "7\n"
          ]
        }
      ]
    },
    {
      "cell_type": "markdown",
      "source": [
        "В этом примере, когда функция add_numbers вызывается с аргументами 3 и 4, она выполняет сложение и возвращает результат с помощью оператора return. Затем результат присваивается переменной sum_result, и мы выводим его на экран.\n",
        "\n",
        "Функция также может завершиться без оператора return, в таком случае она вернет None. Пример:"
      ],
      "metadata": {
        "id": "vDLna0ENCqEs"
      }
    },
    {
      "cell_type": "code",
      "source": [
        "def greet(name):\n",
        "    # return None\n",
        "    print(\"Привет, \" + name + \"!\")\n",
        "\n",
        "result = greet(\"Анна\")\n",
        "# result = None\n",
        "print(result)"
      ],
      "metadata": {
        "id": "xKQb5b9hC2WT",
        "colab": {
          "base_uri": "https://localhost:8080/"
        },
        "outputId": "a00b82b7-4bed-465e-aa17-6600615fc01e"
      },
      "execution_count": null,
      "outputs": [
        {
          "output_type": "stream",
          "name": "stdout",
          "text": [
            "Привет, Анна!\n",
            "None\n"
          ]
        }
      ]
    },
    {
      "cell_type": "code",
      "source": [
        "def greet(name):\n",
        "    print(\"Привет, \" + name + \"!\")\n",
        "    return None\n",
        "\n",
        "greet(\"Анна\")\n"
      ],
      "metadata": {
        "colab": {
          "base_uri": "https://localhost:8080/"
        },
        "id": "w2bVwNgdwKiI",
        "outputId": "03143fbe-0474-4949-d0d9-01c5a0eee8c8"
      },
      "execution_count": null,
      "outputs": [
        {
          "output_type": "stream",
          "name": "stdout",
          "text": [
            "Привет, Анна!\n"
          ]
        }
      ]
    },
    {
      "cell_type": "markdown",
      "source": [
        "Здесь функция greet просто выводит приветствие, но не содержит оператор return. По умолчанию, она возвращает None.\n",
        "\n",
        "Иногда оператор return может использоваться и без значения, чтобы преждевременно завершить выполнение функции:"
      ],
      "metadata": {
        "id": "l0dps2cSDK4m"
      }
    },
    {
      "cell_type": "code",
      "source": [
        "def process_data(data):\n",
        "    if not data:\n",
        "        print(\"Ошибка: Пустые данные!\")\n",
        "        return  # преждевременное завершение функции\n",
        "\n",
        "    # Обработка данных, которая выполняется только если данные не пустые\n",
        "    processed_data = perform_processing(data)\n",
        "\n",
        "    # Возврат обработанных данных\n",
        "    return processed_data\n",
        "\n",
        "def perform_processing(data):\n",
        "    # Здесь происходит какая-то обработка данных\n",
        "    processed_data = []\n",
        "    for i in data:\n",
        "      processed_data.append(i ** 2)\n",
        "    # Возвращаем обработанные данные\n",
        "    return processed_data\n",
        "\n",
        "# Пример использования\n",
        "# input_data = [1, 2, 3, 4]\n",
        "input_data = None\n",
        "result = process_data(input_data)\n",
        "\n",
        "if result is not None:\n",
        "    print(\"Результат обработки данных:\", result)\n",
        "else:\n",
        "    print(\"Ошибка в обработке данных.\")"
      ],
      "metadata": {
        "id": "x6LrRF_0DNJM",
        "colab": {
          "base_uri": "https://localhost:8080/"
        },
        "outputId": "b64674e9-c087-4982-86d5-10bf3cce752d"
      },
      "execution_count": null,
      "outputs": [
        {
          "output_type": "stream",
          "name": "stdout",
          "text": [
            "Результат обработки данных: [1, 4, 9, 16]\n"
          ]
        }
      ]
    },
    {
      "cell_type": "markdown",
      "source": [
        "В этом примере, если данные, переданные функции process_data, оказываются пустыми, функция выводит сообщение об ошибке и использует оператор return без значения для преждевременного завершения функции. В этом случае выполнение не дойдет до части функции, где происходит сложная обработка данных.\n",
        "\n",
        "Это может улучшить читаемость кода и сделать его более эффективным, избегая выполнения ненужных операций при некоторых условиях."
      ],
      "metadata": {
        "id": "IWH33NbgELti"
      }
    },
    {
      "cell_type": "markdown",
      "source": [
        "## `return` в if/else"
      ],
      "metadata": {
        "id": "J_oAfx_kFLm3"
      }
    },
    {
      "cell_type": "markdown",
      "source": [
        "Оператор return может использоваться внутри условных конструкций типа if-else для возврата различных значений в зависимости от условий. Вот пример:"
      ],
      "metadata": {
        "id": "x3TCaREOFR-4"
      }
    },
    {
      "cell_type": "code",
      "source": [
        "def check_even_odd(number):\n",
        "    if number % 2 == 0:\n",
        "        return \"Число {} - четное.\".format(number)\n",
        "    else:\n",
        "        return \"Число {} - нечетное.\".format(number)\n",
        "\n",
        "# Пример использования\n",
        "result1 = check_even_odd(4)\n",
        "result2 = check_even_odd(7)\n",
        "\n",
        "print(result1)\n",
        "print(result2)"
      ],
      "metadata": {
        "id": "oP2gsd2eFZUi",
        "colab": {
          "base_uri": "https://localhost:8080/"
        },
        "outputId": "a0f6a4cf-cc92-4f9e-b6f9-000da198d65e"
      },
      "execution_count": null,
      "outputs": [
        {
          "output_type": "stream",
          "name": "stdout",
          "text": [
            "Число 4 - четное.\n",
            "Число 7 - нечетное.\n"
          ]
        }
      ]
    },
    {
      "cell_type": "markdown",
      "source": [
        "В этом примере функция check_even_odd принимает число в качестве аргумента и возвращает разные строки в зависимости от того, является ли число четным или нечетным. Оператор return используется внутри каждой ветви условия if-else для возврата соответствующего значения.\n",
        "\n",
        "Вы также можете использовать return без значения в ветках if и else, если вам не нужно возвращать результат в обеих ситуациях. В таком случае, функция вернет None по умолчанию."
      ],
      "metadata": {
        "id": "ji8-eOdXFl77"
      }
    },
    {
      "cell_type": "code",
      "source": [
        "def check_positive_negative(number):\n",
        "    if number > 0:\n",
        "        print(\"Число {} - положительное.\".format(number))\n",
        "        return \"positive\"\n",
        "    elif number < 0:\n",
        "        print(\"Число {} - отрицательное.\".format(number))\n",
        "        return \"negative\"\n",
        "    else:\n",
        "        print(\"Число {} - ноль.\".format(number))\n",
        "\n",
        "# Пример использования\n",
        "result1 = check_positive_negative(7)\n",
        "result2 = check_positive_negative(-5)\n",
        "result3 = check_positive_negative(0)\n",
        "\n",
        "print(result1)\n",
        "print(result2)\n",
        "print(result3)"
      ],
      "metadata": {
        "colab": {
          "base_uri": "https://localhost:8080/"
        },
        "id": "oJqkEB3vFouN",
        "outputId": "4d0281d1-3c31-4e3a-e6e9-900ec10a0b64"
      },
      "execution_count": null,
      "outputs": [
        {
          "output_type": "stream",
          "name": "stdout",
          "text": [
            "Число 7 - положительное.\n",
            "Число -5 - отрицательное.\n",
            "Число 0 - ноль.\n",
            "positive\n",
            "negative\n",
            "None\n"
          ]
        }
      ]
    },
    {
      "cell_type": "markdown",
      "source": [
        "Также можно не указывать конструкцию if/else, а просто указать return после if."
      ],
      "metadata": {
        "id": "WkNYZ7IsGseh"
      }
    },
    {
      "cell_type": "code",
      "source": [
        "def check_even_odd_short(number):\n",
        "    if number % 2 == 0:\n",
        "        return \"Четное число.\"\n",
        "    return \"Нечетное число.\"\n",
        "\n",
        "# Пример использования\n",
        "result1 = check_even_odd_short(4)\n",
        "result2 = check_even_odd_short(7)\n",
        "\n",
        "print(result1)\n",
        "print(result2)"
      ],
      "metadata": {
        "colab": {
          "base_uri": "https://localhost:8080/"
        },
        "id": "rCi2DXjmG66p",
        "outputId": "1f51c59e-b6d4-4e87-e141-d649798fdc92"
      },
      "execution_count": null,
      "outputs": [
        {
          "output_type": "stream",
          "name": "stdout",
          "text": [
            "Четное число.\n",
            "Нечетное число.\n"
          ]
        }
      ]
    },
    {
      "cell_type": "markdown",
      "source": [
        "## Возврат нескольких значений в return"
      ],
      "metadata": {
        "id": "UGhC1t8yHR1_"
      }
    },
    {
      "cell_type": "markdown",
      "source": [
        "В Python оператор return может возвращать несколько значений в виде кортежа. Это позволяет функции возвращать более одного значения, и при вызове функции, эти значения могут быть присвоены нескольким переменным.\n",
        "\n",
        "Пример:"
      ],
      "metadata": {
        "id": "Xhrq0ZLWHNrl"
      }
    },
    {
      "cell_type": "code",
      "source": [
        "def calculate_rectangle_properties(length, width):\n",
        "    area = length * width\n",
        "    perimeter = 2 * (length + width)\n",
        "    return area, perimeter\n",
        "\n",
        "# Пример использования\n",
        "print(calculate_rectangle_properties(5, 3))\n",
        "rectangle_area, rectangle_perimeter = calculate_rectangle_properties(5, 3)\n",
        "\n",
        "print(\"Площадь прямоугольника:\", rectangle_area)\n",
        "print(\"Периметр прямоугольника:\", rectangle_perimeter)"
      ],
      "metadata": {
        "colab": {
          "base_uri": "https://localhost:8080/"
        },
        "id": "mScYJJs5HYhD",
        "outputId": "b1a1152d-a34f-4375-cff6-d90f98736fc3"
      },
      "execution_count": null,
      "outputs": [
        {
          "output_type": "stream",
          "name": "stdout",
          "text": [
            "(15, 16)\n",
            "Площадь прямоугольника: 15\n",
            "Периметр прямоугольника: 16\n"
          ]
        }
      ]
    },
    {
      "cell_type": "markdown",
      "source": [
        "В этом примере функция calculate_rectangle_properties принимает длину и ширину прямоугольника, вычисляет его площадь и периметр, а затем возвращает эти два значения в виде кортежа (area, perimeter). При вызове функции результат присваивается двум переменным rectangle_area и rectangle_perimeter.\n",
        "\n",
        "Важно помнить, что когда функция возвращает несколько значений, они фактически упаковываются в кортеж. При присвоении, можно использовать множественное присваивание для извлечения значений из кортежа."
      ],
      "metadata": {
        "id": "ibAA3SBiHjgf"
      }
    },
    {
      "cell_type": "markdown",
      "source": [
        "# Задачи"
      ],
      "metadata": {
        "id": "AaHO_xNcBvsf"
      }
    },
    {
      "cell_type": "markdown",
      "source": [
        "## Задача 1\n",
        "Напишите функцию, которая принимает список и возвращает список только с четными элементами.\n",
        "\n",
        "## Задача 2\n",
        "Напишите функцию, которая принимаем строку и возвращает количество символов верхнем регистре и количество символов в нижнем регистре\n",
        "\n",
        "## Задача 3\n",
        "Напишите функцию, которая принимает два числа - это диапазон и число для проверки. Проверьте, есть ли число в заданном диапазоне.\n",
        "\n",
        "## Задача 4\n",
        "Напишите функцию, которая принимает список и возвращает список с уникальными элементами первого.\n",
        "\n",
        "## Задача 5\n",
        "Напишите функцию для проверки слов или предложений на панграммы. Панграммы — это слова или предложения, содержащие каждую букву алфавита хотя бы один раз.\n",
        "\n",
        "## Задача 6\n",
        "Напишите калькулятор, который производит базовые арифметические операции с 2 числами.\n",
        "\n"
      ],
      "metadata": {
        "id": "sdhKyNVoBxi2"
      }
    },
    {
      "cell_type": "markdown",
      "source": [
        "Задача 4\n",
        "Напишите функцию, которая принимает список и возвращает список с уникальными элементами первого."
      ],
      "metadata": {
        "id": "fNxWFIdO3kqZ"
      }
    },
    {
      "cell_type": "code",
      "source": [
        "elem = [1, 5, 1, 2, 2, 3]\n",
        "\n",
        "def get_unique_elements(lst1):\n",
        "    return list(set(lst1))\n",
        "\n",
        "elem2 = get_unique_elements(elem)\n",
        "print(elem2)"
      ],
      "metadata": {
        "colab": {
          "base_uri": "https://localhost:8080/"
        },
        "id": "qT0kIpAH3lVG",
        "outputId": "7645c629-6d70-4a9d-fc3f-c5b3f48290ce"
      },
      "execution_count": null,
      "outputs": [
        {
          "output_type": "stream",
          "name": "stdout",
          "text": [
            "[1, 2, 3, 5]\n"
          ]
        }
      ]
    }
  ]
}