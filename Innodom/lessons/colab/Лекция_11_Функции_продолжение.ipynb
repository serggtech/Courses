{
  "nbformat": 4,
  "nbformat_minor": 0,
  "metadata": {
    "colab": {
      "provenance": [],
      "include_colab_link": true
    },
    "kernelspec": {
      "name": "python3",
      "display_name": "Python 3"
    },
    "language_info": {
      "name": "python"
    }
  },
  "cells": [
    {
      "cell_type": "markdown",
      "metadata": {
        "id": "view-in-github",
        "colab_type": "text"
      },
      "source": [
        "<a href=\"https://colab.research.google.com/github/serggtech/Courses/blob/main/%D0%9B%D0%B5%D0%BA%D1%86%D0%B8%D1%8F_11_%D0%A4%D1%83%D0%BD%D0%BA%D1%86%D0%B8%D0%B8_%D0%BF%D1%80%D0%BE%D0%B4%D0%BE%D0%BB%D0%B6%D0%B5%D0%BD%D0%B8%D0%B5.ipynb\" target=\"_parent\"><img src=\"https://colab.research.google.com/assets/colab-badge.svg\" alt=\"Open In Colab\"/></a>"
      ]
    },
    {
      "cell_type": "markdown",
      "source": [
        "# Практика:"
      ],
      "metadata": {
        "id": "FuWJ0EKdwDk-"
      }
    },
    {
      "cell_type": "code",
      "source": [
        "def modify_list(my_list):\n",
        "    my_list.append(100)\n",
        "\n",
        "original_list = [1, 2, 3]\n",
        "print(\"До вызова функции:\", original_list)\n",
        "modify_list(original_list)\n",
        "print(\"После 1 вызова функции:\", original_list)\n",
        "modify_list(original_list)\n",
        "print(\"После 2 вызова функции:\", original_list)"
      ],
      "metadata": {
        "id": "IAcG1xDGRHQn",
        "colab": {
          "base_uri": "https://localhost:8080/"
        },
        "outputId": "8b00f1cf-1450-40e0-b48d-52697e81e694"
      },
      "execution_count": null,
      "outputs": [
        {
          "output_type": "stream",
          "name": "stdout",
          "text": [
            "До вызова функции: [1, 2, 3]\n",
            "После 1 вызова функции: [1, 2, 3, 100]\n",
            "После 2 вызова функции: [1, 2, 3, 100, 100]\n"
          ]
        }
      ]
    },
    {
      "cell_type": "code",
      "source": [
        "def modify_list(my_list=[1, 2, 3]):\n",
        "    my_list.append(100)\n",
        "    print(\"Внутри функции:\", my_list)\n",
        "\n",
        "original_list = [1, 2, 3]\n",
        "print(\"До вызова функции:\", original_list)\n",
        "modify_list(original_list)\n",
        "print(\"После 1 вызова функции:\", original_list)\n",
        "modify_list(original_list)\n",
        "print(\"После 2 вызова функции:\", original_list)\n",
        "modify_list()\n",
        "print(\"После 3 вызова функции:\", original_list)\n",
        "modify_list(original_list)\n",
        "print(\"После 4 вызова функции:\", original_list)\n",
        "modify_list()\n",
        "print(\"После 5 вызова функции:\", original_list)"
      ],
      "metadata": {
        "id": "egHftTmrRJnf",
        "colab": {
          "base_uri": "https://localhost:8080/"
        },
        "outputId": "8b36b724-284f-4d60-df09-d1b5da0ce8e1"
      },
      "execution_count": null,
      "outputs": [
        {
          "output_type": "stream",
          "name": "stdout",
          "text": [
            "До вызова функции: [1, 2, 3]\n",
            "Внутри функции: [1, 2, 3, 100]\n",
            "После 1 вызова функции: [1, 2, 3, 100]\n",
            "Внутри функции: [1, 2, 3, 100, 100]\n",
            "После 2 вызова функции: [1, 2, 3, 100, 100]\n",
            "Внутри функции: [1, 2, 3, 100]\n",
            "После 3 вызова функции: [1, 2, 3, 100, 100]\n",
            "Внутри функции: [1, 2, 3, 100, 100, 100]\n",
            "После 4 вызова функции: [1, 2, 3, 100, 100, 100]\n",
            "Внутри функции: [1, 2, 3, 100, 100]\n",
            "После 5 вызова функции: [1, 2, 3, 100, 100, 100]\n"
          ]
        }
      ]
    },
    {
      "cell_type": "markdown",
      "source": [
        "# Документирование функций"
      ],
      "metadata": {
        "id": "gYmk9LOeHzza"
      }
    },
    {
      "cell_type": "markdown",
      "source": [
        "Документирование функций в Python обычно осуществляется с использованием строк документации (docstring). Документирование помогает другим разработчикам (и вам самим) лучше понять, как использовать функцию, какие аргументы она принимает, что возвращает, и другие важные детали.\n",
        "\n",
        "Строка документации должна быть расположена в верхней части тела функции, сразу после её определения. Для создания docstring используются тройные кавычки (три одинарные или три двойные) для описания функции. Вот пример:"
      ],
      "metadata": {
        "id": "bfJyMyu1H1l1"
      }
    },
    {
      "cell_type": "code",
      "source": [
        "def calculate_rectangle_properties(length, width):\n",
        "    \"\"\"\n",
        "    Вычисляет площадь и периметр прямоугольника.\n",
        "\n",
        "    :param length: Длина прямоугольника.\n",
        "    :param width: Ширина прямоугольника.\n",
        "    :return: Кортеж с двумя значениями - площадью и периметром.\n",
        "    \"\"\"\n",
        "    area = length * width\n",
        "    perimeter = 2 * (length + width)\n",
        "    return area, perimeter"
      ],
      "metadata": {
        "id": "rKlajzUmH6hC"
      },
      "execution_count": null,
      "outputs": []
    },
    {
      "cell_type": "markdown",
      "source": [
        "В этом примере:\n",
        "\n",
        "Строка документации начинается с тройных кавычек и завершается тройными кавычками. Она описывает назначение функции, параметры и результат.\n",
        "- `:param` используется для описания каждого параметра функции.\n",
        "- `:return` используется для описания возвращаемого значения.\n",
        "\n",
        "После написания docstring, другие разработчики или инструменты документации (например, Sphinx) могут использовать эту информацию для создания автоматической документации.\n",
        "\n",
        "Вы также можете использовать различные стили docstring, такие как Google-style или reStructuredText, в зависимости от предпочтений или стандартов вашего проекта. Например:"
      ],
      "metadata": {
        "id": "u1gOlLXkIF1k"
      }
    },
    {
      "cell_type": "code",
      "source": [
        "def calculate_rectangle_properties(length, width):\n",
        "    \"\"\"\n",
        "    Calculate the area and perimeter of a rectangle.\n",
        "\n",
        "    Args:\n",
        "        length (float): The length of the rectangle.\n",
        "        width (float): The width of the rectangle.\n",
        "\n",
        "    Returns:\n",
        "        tuple: A tuple containing two values - the area and the perimeter.\n",
        "    \"\"\"\n",
        "    area = length * width\n",
        "    perimeter = 2 * (length + width)\n",
        "    return area, perimeter"
      ],
      "metadata": {
        "id": "IzZRma4RIPKm"
      },
      "execution_count": null,
      "outputs": []
    },
    {
      "cell_type": "markdown",
      "source": [
        "Важно следовать стандартам документирования в вашем проекте или сообществе, чтобы обеспечить единообразие и понятность в документации кода."
      ],
      "metadata": {
        "id": "noWmzcCSIVMc"
      }
    },
    {
      "cell_type": "markdown",
      "source": [
        "# Рекурсия"
      ],
      "metadata": {
        "id": "mHKetMrGCgfF"
      }
    },
    {
      "cell_type": "markdown",
      "source": [
        "\n",
        "Рекурсия - это концепция, при которой функция вызывает саму себя в процессе своего выполнения. В Python рекурсия является мощным инструментом, который позволяет решать различные задачи более элегантно и компактно.\n",
        "\n",
        "## Основные понятия\n",
        "\n",
        "### Базовый случай\n",
        "\n",
        "Базовый случай - это условие, при котором рекурсивная функция прекращает свою работу и возвращает некоторое значение без дальнейших рекурсивных вызовов. Это необходимо для того, чтобы избежать бесконечной рекурсии.\n",
        "\n",
        "### Рекурсивный случай\n",
        "\n",
        "Рекурсивный случай - это условие, при котором рекурсивная функция вызывает саму себя для решения подзадачи. Это позволяет уменьшить задачу до более простой, что приводит к ее решению.\n",
        "\n",
        "## Пример вычисления факториала\n",
        "\n",
        "Факториал числа n (обозначается как n!) - это произведение всех натуральных чисел от 1 до n.\n",
        "\n",
        "\n"
      ],
      "metadata": {
        "id": "MHHHvg0ZY21h"
      }
    },
    {
      "cell_type": "code",
      "source": [
        "def factorial(n):\n",
        "    # Базовый случай: если n равно 0, возвращаем 1\n",
        "    if n == 1:\n",
        "        return 1\n",
        "    # Рекурсивный случай: возвращаем произведение n и факториала (n-1)\n",
        "    return n * factorial(n - 1)\n",
        "\n",
        "# Вычисляем факториал числа 5\n",
        "print(factorial(5))\n",
        "# 1*2*3*4*5"
      ],
      "metadata": {
        "colab": {
          "base_uri": "https://localhost:8080/"
        },
        "id": "W60at1oAb1lM",
        "outputId": "bbeef0b5-b957-424f-aa1d-737754499f4f"
      },
      "execution_count": null,
      "outputs": [
        {
          "output_type": "stream",
          "name": "stdout",
          "text": [
            "120\n"
          ]
        }
      ]
    },
    {
      "cell_type": "markdown",
      "source": [
        "### Преимущества рекурсии:\n",
        "\n",
        "1. **Простота и ясность кода:** В некоторых случаях использование рекурсии делает код более понятным и лаконичным, особенно при работе с задачами, связанными с древовидной структурой данных.\n",
        "\n",
        "2. **Решение сложных задач:** Рекурсия может быть эффективным инструментом для решения сложных задач, таких как поиск в глубоко вложенных структурах данных или вычисление комбинаторных функций.\n",
        "\n",
        "3. **Возможность избежать повторяющегося кода:** Рекурсивные функции позволяют избежать повторения одного и того же кода для обработки различных уровней вложенности или глубины структуры данных.\n",
        "\n",
        "### Недостатки рекурсии:\n",
        "\n",
        "1. **Потребление памяти:** Каждый рекурсивный вызов занимает определенное количество памяти стека. Если количество вызовов становится слишком большим, это может привести к переполнению стека вызовов.\n",
        "\n",
        "2. **Сложность отладки:** Рекурсивные функции могут быть сложными для отладки из-за их вложенной природы. Неправильное использование рекурсии может привести к бесконечным циклам или неверным результатам.\n",
        "\n",
        "3. **Производительность:** В некоторых случаях рекурсивное решение может быть менее эффективным по сравнению с итеративным аналогом из-за дополнительных затрат на управление вызовами функций.\n",
        "\n",
        "4. **Сложность понимания:** Для тех, кто не знаком с рекурсией, код, использующий этот подход, может быть сложным для понимания и поддержки.\n",
        "\n",
        "Хотя рекурсия предоставляет мощный инструмент для решения определенных задач, важно использовать ее с умом и учитывать ее ограничения и недостатки.\n",
        "\n",
        "Давайте также рассмотрим код для создания глубокой копии списка с помощью рекурсивной функции:\n",
        "\n"
      ],
      "metadata": {
        "id": "gQ8NWRA-bx1S"
      }
    },
    {
      "cell_type": "code",
      "source": [
        "def deep_copy(lst):\n",
        "    if not isinstance(lst, list):  # Базовый случай: если элемент не является списком, возвращаем его же\n",
        "      return lst\n",
        "    copied_list = []  # Создаем новый список для копии\n",
        "    for item in lst:\n",
        "        copied_list.append(deep_copy(item))  # Рекурсивно копируем каждый элемент\n",
        "    return copied_list\n",
        "\n",
        "# Пример использования\n",
        "original_list = [1, [2, 3], [4, [5, 6]]]\n",
        "copied_list = deep_copy(original_list)\n",
        "print(copied_list)\n",
        "print(original_list[2][1] is copied_list[2][1])"
      ],
      "metadata": {
        "colab": {
          "base_uri": "https://localhost:8080/"
        },
        "id": "Vxk0HcHGctFj",
        "outputId": "49840ae1-d3b8-4295-83a1-961c36d2b1b4"
      },
      "execution_count": null,
      "outputs": [
        {
          "output_type": "stream",
          "name": "stdout",
          "text": [
            "[1, [2, 3], [4, [5, 6]]]\n",
            "False\n"
          ]
        }
      ]
    },
    {
      "cell_type": "markdown",
      "source": [
        "# Lambda-функции"
      ],
      "metadata": {
        "id": "p6z1zdGCCnJh"
      }
    },
    {
      "cell_type": "markdown",
      "source": [
        "Lambda-функции (также известные как анонимные функции) - это способ определения небольших функций в Python без использования ключевого слова `def`. Они часто используются там, где требуется краткость кода или функция используется в качестве аргумента другой функции.\n",
        "\n",
        "## Синтаксис\n",
        "\n",
        "Синтаксис lambda-функции в Python:\n",
        "\n",
        "```python\n",
        "lambda arguments: expression\n",
        "```\n",
        "- `arguments`: аргументы функции.\n",
        "- `expression`: выражение, которое выполняется при вызове функции.\n",
        "\n"
      ],
      "metadata": {
        "id": "WqxT_jFqeKpi"
      }
    },
    {
      "cell_type": "code",
      "source": [
        "# Пример 1: Простая lambda-функция\n",
        "add_lambda = lambda x, y: x + y\n",
        "print(add_lambda(3, 5))\n",
        "\n",
        "# Эквивалентная обычная функция\n",
        "def add(x, y):\n",
        "    return x + y\n",
        "print(add(3, 5))"
      ],
      "metadata": {
        "id": "YbjHS_w6fAam",
        "colab": {
          "base_uri": "https://localhost:8080/"
        },
        "outputId": "21b3b3f1-8601-48d0-c408-1c46775047a6"
      },
      "execution_count": null,
      "outputs": [
        {
          "output_type": "stream",
          "name": "stdout",
          "text": [
            "8\n",
            "8\n"
          ]
        }
      ]
    },
    {
      "cell_type": "code",
      "source": [
        "# Пример 2: Использование lambda-функции в качестве аргумента\n",
        "numbers = [1, 2, 3, 4, 5]\n",
        "squared = map(lambda x: x ** 2, numbers)\n",
        "print(squared)\n",
        "squared = list(map(lambda x: x ** 2, numbers))\n",
        "print(squared)"
      ],
      "metadata": {
        "id": "Xi93GZcgfNOh",
        "colab": {
          "base_uri": "https://localhost:8080/"
        },
        "outputId": "24bbd27d-6807-42f0-c334-abd4a613f72b"
      },
      "execution_count": null,
      "outputs": [
        {
          "output_type": "stream",
          "name": "stdout",
          "text": [
            "<map object at 0x7c01defac400>\n",
            "[1, 4, 9, 16, 25]\n"
          ]
        }
      ]
    },
    {
      "cell_type": "markdown",
      "source": [
        "Преимущества lambda-функций\n",
        "- Краткость: lambda-функции позволяют определить функцию в одной строке кода.\n",
        "- Использование встроенных функций: они удобны в использовании с встроенными функциями Python, такими как `map()`, `filter()` и `reduce()`.\n",
        "\n",
        "Недостатки lambda-функций\n",
        "- Ограничения: lambda-функции могут содержать только одно выражение, что делает их не подходящими для более сложных операций.\n",
        "- Уменьшение читаемости: использование lambda-функций в некоторых случаях может уменьшить читаемость кода из-за их краткости и отсутствия имен.\n",
        "\n",
        "Lambda-функции представляют собой мощный инструмент, который может быть очень полезным в определенных ситуациях, но их следует использовать осторожно, чтобы не ухудшить читаемость и обслуживаемость кода.\n"
      ],
      "metadata": {
        "id": "o0Ek7DdkgKaa"
      }
    },
    {
      "cell_type": "markdown",
      "source": [
        "# Функции высшего порядка"
      ],
      "metadata": {
        "id": "sHj8EjqwCoXT"
      }
    },
    {
      "cell_type": "markdown",
      "source": [
        "# Функции высшего порядка в Python\n",
        "\n",
        "Функции высшего порядка - это функции, которые могут принимать другие функции в качестве аргументов или возвращать их как результат. В Python функции высшего порядка широко используются в функциональном программировании и могут значительно упростить код.\n",
        "\n"
      ],
      "metadata": {
        "id": "br8bGz0ehspH"
      }
    },
    {
      "cell_type": "markdown",
      "source": [
        "## map()"
      ],
      "metadata": {
        "id": "-gyrlDT1QeEL"
      }
    },
    {
      "cell_type": "markdown",
      "source": [
        "Функция map() в Python используется для применения указанной функции к каждому элементу последовательности (списку, кортежу, или другой итерируемой структуре данных) и возвращает новый объект map, содержащий результаты этого применения.\n",
        "\n",
        "Синтаксис функции `map()`:\n",
        "```\n",
        "map(function, iterable)\n",
        "```\n",
        "- function: Функция, которую нужно применить к каждому элементу итерируемой последовательности.\n",
        "- iterable: Итерируемая последовательность (например, список, кортеж, строка и т.д.), элементы которой будут передаваться в функцию.\n",
        "\n",
        "Пример использования map():\n"
      ],
      "metadata": {
        "id": "_ClA_7_UQhIn"
      }
    },
    {
      "cell_type": "code",
      "source": [
        "# Пример 1: Удвоение каждого элемента списка\n",
        "numbers = [1, 2, 3, 4, 5]\n",
        "doubled_numbers = map(lambda x: x * 2, numbers)\n",
        "print(list(doubled_numbers))\n",
        "\n",
        "# Пример 2: Преобразование слов в их длины\n",
        "words = [\"apple\", \"banana\", \"kiwi\", \"orange\", \"grape\"]\n",
        "word_lengths = map(len, words)\n",
        "print(word_lengths)\n",
        "print(list(word_lengths))"
      ],
      "metadata": {
        "id": "ZXlzjtdZRV7D",
        "colab": {
          "base_uri": "https://localhost:8080/"
        },
        "outputId": "97502c05-91a9-458b-de2e-379c23682385"
      },
      "execution_count": null,
      "outputs": [
        {
          "output_type": "stream",
          "name": "stdout",
          "text": [
            "[2, 4, 6, 8, 10]\n",
            "<map object at 0x7c01defad870>\n",
            "[5, 6, 4, 6, 5]\n"
          ]
        }
      ]
    },
    {
      "cell_type": "markdown",
      "source": [
        "В первом примере используется map() с lambda-функцией для удвоения каждого элемента в списке numbers. Во втором примере используется map() с функцией len() для получения длины каждого слова в списке words.\n",
        "\n",
        "Важно отметить, что map() возвращает итератор, поэтому результат нужно обернуть в список (или другую итерируемую структуру данных), чтобы увидеть конечные результаты. В Python 3, результат map() можно преобразовать в список с помощью list(), как показано в примерах."
      ],
      "metadata": {
        "id": "7mZE8itBRdNW"
      }
    },
    {
      "cell_type": "markdown",
      "source": [
        "Если результат map() не преобразовать в список или другую итерируемую структуру данных, он останется объектом-итератором. Объект-итератор создается для ленивого выполнения операций, и это означает, что значения будут извлекаться по мере необходимости, а не создаваться сразу.\n",
        "\n",
        "Пример:"
      ],
      "metadata": {
        "id": "mVEN7uVUST7N"
      }
    },
    {
      "cell_type": "code",
      "source": [
        "numbers = [1, 2, 3, 4, 5]\n",
        "doubled_numbers = map(lambda x: x * 2, numbers)\n",
        "\n",
        "# Без преобразования в список\n",
        "print(doubled_numbers)\n",
        "\n",
        "# С преобразованием в список\n",
        "# print(list(doubled_numbers))\n",
        "\n",
        "# Извлекаем значения из итератора по мере необходимости\n",
        "for value in doubled_numbers:\n",
        "    print(value)"
      ],
      "metadata": {
        "colab": {
          "base_uri": "https://localhost:8080/"
        },
        "id": "-IMgi9gRSVLz",
        "outputId": "193a1e54-9905-45f0-95b1-88fa88f4f296"
      },
      "execution_count": null,
      "outputs": [
        {
          "output_type": "stream",
          "name": "stdout",
          "text": [
            "<map object at 0x7c01defaf940>\n",
            "2\n",
            "4\n",
            "6\n",
            "8\n",
            "10\n"
          ]
        }
      ]
    },
    {
      "cell_type": "markdown",
      "source": [
        "## filter()"
      ],
      "metadata": {
        "id": "wLAQWazAXefT"
      }
    },
    {
      "cell_type": "markdown",
      "source": [
        "Функция filter() в Python используется для фильтрации элементов последовательности (списка, кортежа, или другой итерируемой структуры данных) на основе заданного условия. Она принимает функцию и итерируемый объект и возвращает новый объект filter, содержащий только те элементы, для которых функция вернула True.\n",
        "\n",
        "Синтаксис функции filter():\n",
        "\n",
        "```\n",
        "filter(function, iterable)\n",
        "```\n",
        "- function: Функция, которая принимает элемент и возвращает True или False в зависимости от условия фильтрации.\n",
        "- iterable: Итерируемая последовательность, которую нужно отфильтровать.\n",
        "\n",
        "Пример использования filter():"
      ],
      "metadata": {
        "id": "0v_nAlmcXhxZ"
      }
    },
    {
      "cell_type": "code",
      "source": [
        "# Пример: Фильтрация четных чисел\n",
        "numbers = [1, 2, 3, 4, 5, 6, 7, 8, 9]\n",
        "filtered_numbers = filter(lambda x: x % 2 == 0, numbers)\n",
        "print(list(filtered_numbers))"
      ],
      "metadata": {
        "id": "UZalyzDZXy6h",
        "colab": {
          "base_uri": "https://localhost:8080/"
        },
        "outputId": "f81a54f0-7049-4177-c200-6c9efef8f9b2"
      },
      "execution_count": null,
      "outputs": [
        {
          "output_type": "stream",
          "name": "stdout",
          "text": [
            "[2, 4, 6, 8]\n"
          ]
        }
      ]
    },
    {
      "cell_type": "markdown",
      "source": [
        "В этом примере filter() используется с lambda-функцией для фильтрации четных чисел из списка numbers. Результат фильтрации преобразуется в список с помощью list().\n",
        "\n",
        "Как и в случае с map(), результат filter() также является объектом-итератором. Мы можем использовать его напрямую или преобразовать в список для удобства использования. Например:"
      ],
      "metadata": {
        "id": "irLeP4UbXsdE"
      }
    },
    {
      "cell_type": "code",
      "source": [
        "# Пример: Использование filter без преобразования в список\n",
        "odd_numbers = filter(lambda x: x % 2 != 0, numbers)\n",
        "\n",
        "print(odd_numbers)\n",
        "# Извлекаем значения из итератора\n",
        "for value in odd_numbers:\n",
        "    print(value)"
      ],
      "metadata": {
        "id": "U718veF3X252"
      },
      "execution_count": null,
      "outputs": []
    },
    {
      "cell_type": "markdown",
      "source": [
        "Здесь odd_numbers - это объект-итератор, и мы можем использовать его в цикле for для извлечения значений. В зависимости от ситуации, выбор между использованием filter() и других подходов (например, списковых включений) может зависеть от удобства и читаемости кода."
      ],
      "metadata": {
        "id": "rk3uMVpUX6tq"
      }
    },
    {
      "cell_type": "markdown",
      "source": [
        "## sorted()"
      ],
      "metadata": {
        "id": "soVsCgYfX9-h"
      }
    },
    {
      "cell_type": "markdown",
      "source": [
        "Функция sorted() в Python используется для сортировки элементов последовательности (списка, кортежа, строки или другой итерируемой структуры данных) и возвращает новый отсортированный список.\n",
        "\n",
        "Синтаксис функции sorted():\n",
        "\n",
        "```\n",
        "sorted(iterable, key=None, reverse=False)\n",
        "```\n",
        "- iterable: Итерируемая последовательность (список, кортеж, строка и т.д.), элементы которой нужно отсортировать.\n",
        "- key (необязательный): Функция, которая принимает элемент и возвращает значение, по которому будет производиться сортировка. По умолчанию сортировка выполняется по значениям элементов.\n",
        "- reverse (необязательный): Булево значение, определяющее порядок сортировки. Если True, то сортировка будет в обратном порядке (по убыванию).\n",
        "Пример использования sorted():\n"
      ],
      "metadata": {
        "id": "-UbrVQueYAha"
      }
    },
    {
      "cell_type": "code",
      "source": [
        "# Пример 1: Сортировка чисел в порядке возрастания\n",
        "numbers = [3, 1, 4, 1, 5, 9, 2, 6, 5, 3, 5]\n",
        "sorted_numbers = sorted(numbers)\n",
        "print(sorted_numbers)\n",
        "\n",
        "# Пример 2: Сортировка строк по длине\n",
        "words = [\"apple\", \"kiwi\", \"orange\", \"grape\", \"banana\"]\n",
        "sorted_words = sorted(words, key=len)\n",
        "print(sorted_words)\n",
        "\n",
        "# Пример 3: Сортировка в обратном порядке\n",
        "numbers_desc = sorted(numbers, reverse=True)\n",
        "print(numbers_desc)"
      ],
      "metadata": {
        "colab": {
          "base_uri": "https://localhost:8080/"
        },
        "id": "uZvDZB2pY0Aw",
        "outputId": "e2613ef2-2e83-4aab-bee2-9c8865138d03"
      },
      "execution_count": null,
      "outputs": [
        {
          "output_type": "stream",
          "name": "stdout",
          "text": [
            "[1, 1, 2, 3, 3, 4, 5, 5, 5, 6, 9]\n",
            "['kiwi', 'apple', 'grape', 'orange', 'banana']\n",
            "[9, 6, 5, 5, 5, 4, 3, 3, 2, 1, 1]\n"
          ]
        }
      ]
    },
    {
      "cell_type": "markdown",
      "source": [
        "В примерах выше функция sorted() используется для сортировки чисел и строк в различных порядках. В примере 2, аргумент key=len указывает, что сортировка должна происходить по длине строк.\n",
        "\n",
        "Функция sorted() не изменяет оригинальный список, а создает новый отсортированный список. Если необходимо изменить оригинальный список, можно использовать метод списка sort():"
      ],
      "metadata": {
        "id": "uwHpAHrZY-Kp"
      }
    },
    {
      "cell_type": "code",
      "source": [
        "print(numbers)  # Изначальный список\n",
        "numbers.sort()  # Сортировка оригинального списка по возрастанию\n",
        "print(numbers)"
      ],
      "metadata": {
        "id": "4nQ36inXZC3P"
      },
      "execution_count": null,
      "outputs": []
    },
    {
      "cell_type": "markdown",
      "source": [
        "## reduce()"
      ],
      "metadata": {
        "id": "sxW_ha2DcRCJ"
      }
    },
    {
      "cell_type": "markdown",
      "source": [
        "Функция reduce() в Python входит в стандартный модуль functools и используется для последовательного применения функции к элементам итерируемой последовательности с целью получения единственного значения. Она сводит (reduce) последовательность к единственному результату путем выполнения указанной функции на каждом этапе с участием двух аргументов.\n",
        "\n",
        "Синтаксис функции reduce():\n",
        "\n",
        "```\n",
        "functools.reduce(function, iterable[, initializer])\n",
        "```\n",
        "- function: Функция, которая принимает два аргумента и возвращает результат. Эта функция будет последовательно применяться к элементам последовательности.\n",
        "- iterable: Итерируемая последовательность, которую нужно свести.\n",
        "- initializer (необязательный): Начальное значение. Если указано, то оно будет использоваться в качестве первого аргумента при первом вызове функции.\n",
        "\n",
        "Пример использования reduce():\n",
        "\n"
      ],
      "metadata": {
        "id": "VN-Hy0kYcSlA"
      }
    },
    {
      "cell_type": "code",
      "source": [
        "from functools import reduce\n",
        "\n",
        "# Пример: Вычисление суммы элементов списка\n",
        "numbers = [1, 2, 3, 4, 5]\n",
        "sum_result = reduce(lambda x, y: x + y, numbers)\n",
        "print(sum_result)\n",
        "\n",
        "# Пример: Вычисление произведения элементов списка с начальным значением\n",
        "numbers = [2, 3, 4, 5]\n",
        "product_result = reduce(lambda x, y: x * y, numbers, 1)\n",
        "print(product_result)"
      ],
      "metadata": {
        "colab": {
          "base_uri": "https://localhost:8080/"
        },
        "id": "Tjh9znp0ciS_",
        "outputId": "adc5db25-533c-4120-c950-6b7eefafa099"
      },
      "execution_count": null,
      "outputs": [
        {
          "output_type": "stream",
          "name": "stdout",
          "text": [
            "15\n",
            "120\n"
          ]
        }
      ]
    },
    {
      "cell_type": "markdown",
      "source": [
        "В первом примере reduce() используется для вычисления суммы элементов списка. Во втором примере, кроме указания функции и итерируемой последовательности, также указано начальное значение в виде третьего аргумента."
      ],
      "metadata": {
        "id": "JMs6SS5LcrX4"
      }
    },
    {
      "cell_type": "markdown",
      "source": [
        "## any()\n"
      ],
      "metadata": {
        "id": "BnyTdZoSdCWb"
      }
    },
    {
      "cell_type": "markdown",
      "source": [
        "Функция any() в Python используется для проверки, является ли хотя бы один элемент итерируемой последовательности истинным (имеет значение True). Возвращает True, если хотя бы один элемент итерируемой последовательности равен True. Если все элементы False или итерируемая последовательность пуста, возвращает False.\n",
        "\n",
        "Синтаксис функции any():\n",
        "\n",
        "```\n",
        "any(iterable)\n",
        "```\n",
        "- iterable: Итерируемая последовательность (список, кортеж, строка и т.д.), элементы которой нужно проверить.\n",
        "\n",
        "Пример использования any():\n"
      ],
      "metadata": {
        "id": "uhxKFPCLdD4O"
      }
    },
    {
      "cell_type": "code",
      "source": [
        "# Пример 1: Проверка, есть ли хотя бы одно положительное число\n",
        "# numbers1 = [-2, 0, 4, -6]\n",
        "numbers1 = [False, False, True, False]\n",
        "\n",
        "result1 = any(numbers1)\n",
        "# result1 = any(num > 0 for num in numbers1)\n",
        "print(result1)\n",
        "\n",
        "# Пример 2: Проверка, есть ли хотя бы одна буква 'a' в строке\n",
        "string = \"Hello World\"\n",
        "result2 = any(char == 'a' for char in string)\n",
        "print(result2)\n",
        "\n",
        "# Пример 3: Все элементы списка являются False\n",
        "numbers2 = [0, False, None, \"\", []]\n",
        "result3 = any(numbers2)\n",
        "print(result3)"
      ],
      "metadata": {
        "colab": {
          "base_uri": "https://localhost:8080/"
        },
        "id": "6Ww7xQAsdQQA",
        "outputId": "72686035-058d-4623-acf3-76ec3f13c82c"
      },
      "execution_count": null,
      "outputs": [
        {
          "output_type": "stream",
          "name": "stdout",
          "text": [
            "True\n",
            "False\n",
            "False\n"
          ]
        }
      ]
    },
    {
      "cell_type": "markdown",
      "source": [
        "В первом примере any() используется для проверки, есть ли хотя бы одно положительное число в списке. Во втором примере проверяется, есть ли хотя бы одна буква 'a' в строке. В третьем примере any() используется непосредственно на итерируемой последовательности, состоящей из элементов, которые являются False-подобными значениями.\n",
        "\n",
        "Функция any() удобна, когда нужно быстро проверить, есть ли хотя бы один элемент в последовательности, удовлетворяющий условию."
      ],
      "metadata": {
        "id": "_J-dPfvqdgXJ"
      }
    },
    {
      "cell_type": "markdown",
      "source": [
        "## all()"
      ],
      "metadata": {
        "id": "8R3Xm5t4dkgD"
      }
    },
    {
      "cell_type": "markdown",
      "source": [
        "Функция all() в Python используется для проверки, являются ли все элементы итерируемой последовательности истинными (имеют значение True). Возвращает True, если все элементы итерируемой последовательности равны True. Если хотя бы один элемент False или итерируемая последовательность пуста, возвращает False.\n",
        "\n",
        "Синтаксис функции all():\n",
        "\n",
        "```\n",
        "all(iterable)\n",
        "```\n",
        "- iterable: Итерируемая последовательность (список, кортеж, строка и т.д.), элементы которой нужно проверить.\n",
        "\n",
        "Пример использования all():\n",
        "\n"
      ],
      "metadata": {
        "id": "GU-N-BLbdmQD"
      }
    },
    {
      "cell_type": "code",
      "source": [
        "# Пример 1: Проверка, все ли числа положительные\n",
        "# numbers1 = [2, 4, 6, 8]\n",
        "numbers1 = [True, True, True, True]\n",
        "result1 = all(numbers1)\n",
        "# result1 = all(num > 0 for num in numbers1)\n",
        "print(result1)\n",
        "\n",
        "# Пример 2: Проверка, все ли буквы 'a' в строке\n",
        "string = \"banana\"\n",
        "result2 = all(char == 'a' for char in string)\n",
        "print(result2)\n",
        "\n",
        "# Пример 3: Все элементы списка не являются True\n",
        "values = [True, 1, \"hello\", [1, 2], (3, 4)]\n",
        "result3 = all(values)\n",
        "print(result3)"
      ],
      "metadata": {
        "colab": {
          "base_uri": "https://localhost:8080/"
        },
        "id": "lWbrBfBxdwoX",
        "outputId": "5afe5398-b3c2-4ae4-880a-ed344c093ce0"
      },
      "execution_count": null,
      "outputs": [
        {
          "output_type": "stream",
          "name": "stdout",
          "text": [
            "True\n",
            "False\n",
            "True\n"
          ]
        }
      ]
    },
    {
      "cell_type": "markdown",
      "source": [
        "В первом примере all() используется для проверки, все ли числа положительные в списке. Во втором примере проверяется, все ли буквы 'a' в строке. В третьем примере all() используется непосредственно на итерируемой последовательности, состоящей из различных типов значений, которые считаются True-подобными.\n",
        "\n",
        "Функция all() удобна, когда нужно быстро проверить, являются ли все элементы в последовательности True согласно определенному условию."
      ],
      "metadata": {
        "id": "kb5-USkGd95t"
      }
    },
    {
      "cell_type": "markdown",
      "source": [
        "## zip()"
      ],
      "metadata": {
        "id": "4Sa9FrYQeIeB"
      }
    },
    {
      "cell_type": "markdown",
      "source": [
        "Функция zip() в Python используется для объединения элементов нескольких итерируемых последовательностей в одну последовательность кортежей. Она создает итератор, который генерирует кортежи, содержащие элементы из входных последовательностей, параллельно расположенные по позициям.\n",
        "\n",
        "Синтаксис функции zip():\n",
        "\n",
        "```\n",
        "zip(iterable1, iterable2, ...)\n",
        "```\n",
        "- iterable1, iterable2, ...: Итерируемые последовательности (списки, кортежи, строки и т.д.), которые нужно объединить.\n",
        "Пример использования zip():\n",
        "\n"
      ],
      "metadata": {
        "id": "GsYWABOleOnS"
      }
    },
    {
      "cell_type": "code",
      "source": [
        "# Пример 1: Зипование двух списков\n",
        "numbers = [1, 2, 3]\n",
        "letters = ['a', 'b', 'c']\n",
        "zipped = zip(numbers, letters)\n",
        "print(list(zipped))\n",
        "\n",
        "# Пример 2: Зипование трех списков\n",
        "names = ['Alice', 'Bob', 'Charlie']\n",
        "ages = [25, 30, 35]\n",
        "# scores = [95, 85, 90]\n",
        "scores = [95, 85]\n",
        "zipped_data = zip(names, ages, scores)\n",
        "print(list(zipped_data))"
      ],
      "metadata": {
        "colab": {
          "base_uri": "https://localhost:8080/"
        },
        "id": "ZDBM0JuzeaMu",
        "outputId": "876716d8-9445-4266-81e1-98b5fbc14acb"
      },
      "execution_count": null,
      "outputs": [
        {
          "output_type": "stream",
          "name": "stdout",
          "text": [
            "[(1, 'a'), (2, 'b'), (3, 'c')]\n",
            "[('Alice', 25, 95), ('Bob', 30, 85)]\n"
          ]
        }
      ]
    },
    {
      "cell_type": "markdown",
      "source": [
        "В обоих примерах zip() используется для объединения элементов нескольких списков в кортежи. Обратите внимание, что если длины входных последовательностей не совпадают, результат будет иметь длину, равную длине самой короткой последовательности.\n",
        "\n",
        "Кроме этого, можно использовать распаковку кортежей при зиповании:"
      ],
      "metadata": {
        "id": "vNRDxeKPewuw"
      }
    },
    {
      "cell_type": "code",
      "source": [
        "# Пример с распаковкой кортежей\n",
        "names = ['Alice', 'Bob', 'Charlie']\n",
        "ages = [25, 30, 35]\n",
        "scores = [95, 85, 90]\n",
        "\n",
        "zipped_data = zip(names, ages, scores)\n",
        "# print(list(zipped_data))\n",
        "\n",
        "for name, age, score in zipped_data:\n",
        "    print(f\"Name: {name}, Age: {age}, Score: {score}\")"
      ],
      "metadata": {
        "id": "Ze5Oz6AZexhf",
        "colab": {
          "base_uri": "https://localhost:8080/"
        },
        "outputId": "cce936e9-f9f5-4d79-bec8-414fe6321162"
      },
      "execution_count": null,
      "outputs": [
        {
          "output_type": "stream",
          "name": "stdout",
          "text": [
            "Name: Alice, Age: 25, Score: 95\n",
            "Name: Bob, Age: 30, Score: 85\n",
            "Name: Charlie, Age: 35, Score: 90\n"
          ]
        }
      ]
    },
    {
      "cell_type": "code",
      "source": [
        "scores = {1: \"a\", 2: \"b\", 3: \"c\"}\n",
        "ages = {4: \"aaa\", 5: \"bbb\", 6: \"ccc\"}\n",
        "zipped_data = zip(ages, scores)\n",
        "print(zipped_data)\n",
        "for i in zipped_data:\n",
        "  print(i)"
      ],
      "metadata": {
        "colab": {
          "base_uri": "https://localhost:8080/"
        },
        "id": "t3L5RGalJerM",
        "outputId": "08fd80f3-f408-4a84-9384-dddd16a960d0"
      },
      "execution_count": null,
      "outputs": [
        {
          "output_type": "stream",
          "name": "stdout",
          "text": [
            "<zip object at 0x7c01defc6dc0>\n",
            "(4, 1)\n",
            "(5, 2)\n",
            "(6, 3)\n"
          ]
        }
      ]
    },
    {
      "cell_type": "markdown",
      "source": [
        "Здесь мы использовали распаковку кортежей в цикле for, чтобы удобно работать с каждым элементом."
      ],
      "metadata": {
        "id": "Gmb5QA-9fDmC"
      }
    },
    {
      "cell_type": "markdown",
      "source": [
        "## enumerate()"
      ],
      "metadata": {
        "id": "MBu3aQDxfGy1"
      }
    },
    {
      "cell_type": "markdown",
      "source": [
        "Функция enumerate() в Python используется для добавления счетчика к итерируемой последовательности (например, списку) и возвращает объект, который генерирует кортежи вида (индекс, значение). Таким образом, она обеспечивает удобный способ получения и индекса, и значения элементов в цикле.\n",
        "\n",
        "Синтаксис функции enumerate():\n",
        "\n",
        "```\n",
        "enumerate(iterable, start=0)\n",
        "```\n",
        "- iterable: Итерируемая последовательность (список, кортеж, строка и т.д.), к которой нужно добавить счетчик.\n",
        "- start (необязательный): Начальное значение для счетчика. По умолчанию равно 0.\n",
        "Пример использования enumerate():\n"
      ],
      "metadata": {
        "id": "n00BBpYpfIzd"
      }
    },
    {
      "cell_type": "code",
      "source": [
        "# Пример 1: Простое использование\n",
        "numbers = [10, 20, 30, 40, 50]\n",
        "for index, value in enumerate(numbers):\n",
        "    print(f\"Index: {index}, Value: {value}\")\n",
        "\n",
        "# Пример 2: Использование начального значения счетчика\n",
        "fruits = ['apple', 'banana', 'kiwi', 'orange']\n",
        "for index, fruit in enumerate(fruits, start=1):\n",
        "    print(f\"Index: {index}, Fruit: {fruit}\")"
      ],
      "metadata": {
        "colab": {
          "base_uri": "https://localhost:8080/"
        },
        "id": "IxFKJnNQfSlk",
        "outputId": "6143aec2-a03c-4737-9286-d80856a834b6"
      },
      "execution_count": null,
      "outputs": [
        {
          "output_type": "stream",
          "name": "stdout",
          "text": [
            "Index: 0, Value: 10\n",
            "Index: 1, Value: 20\n",
            "Index: 2, Value: 30\n",
            "Index: 3, Value: 40\n",
            "Index: 4, Value: 50\n",
            "Index: 1, Fruit: apple\n",
            "Index: 2, Fruit: banana\n",
            "Index: 3, Fruit: kiwi\n",
            "Index: 4, Fruit: orange\n"
          ]
        }
      ]
    },
    {
      "cell_type": "markdown",
      "source": [
        "В примере 1 enumerate() используется для итерации по списку чисел и вывода индекса и значения каждого элемента. В примере 2 добавлено начальное значение счетчика, чтобы индексы начинались с 1.\n",
        "\n",
        "Функция enumerate() часто применяется в циклах for, когда необходимо работать с индексами и значениями элементов одновременно."
      ],
      "metadata": {
        "id": "D-sH-LETfaTy"
      }
    },
    {
      "cell_type": "markdown",
      "source": [
        "# Итеративные и генеративные выражения"
      ],
      "metadata": {
        "id": "e-GpwbEJDCnU"
      }
    },
    {
      "cell_type": "markdown",
      "source": [
        "# Итеративные и генеративные выражения в Python\n",
        "\n",
        "Итеративные и генеративные выражения - это мощные инструменты в Python для создания итерируемых объектов с использованием синтаксиса, более компактного и эффективного, чем обычные циклы.\n",
        "\n",
        "## Итеративные выражения\n",
        "\n",
        "Итеративные выражения - это способ создания итерируемых объектов, похожих на списки, кортежи или множества. Они позволяют создавать итерируемые объекты на основе других итерируемых объектов, применяя к ним выражение или функцию.\n",
        "\n",
        "Пример использования итеративного выражения:\n",
        "\n",
        "\n"
      ],
      "metadata": {
        "id": "9_f90AkqkMPq"
      }
    },
    {
      "cell_type": "code",
      "source": [
        "# \"list comprehension\" или \"списковое включение\"\n",
        "numbers = [1, 2, 3, 4, 5]\n",
        "# squared_numbers = [x ** 2 for x in numbers]\n",
        "print([x ** 2 for x in numbers])\n",
        "# list.append(x ** 2) для каждого x в numbers"
      ],
      "metadata": {
        "colab": {
          "base_uri": "https://localhost:8080/"
        },
        "id": "xipo9cNTkkWt",
        "outputId": "bb822697-ba83-43cf-fc7f-10239f20af0a"
      },
      "execution_count": null,
      "outputs": [
        {
          "output_type": "stream",
          "name": "stdout",
          "text": [
            "[1, 4, 9, 16, 25]\n"
          ]
        }
      ]
    },
    {
      "cell_type": "code",
      "source": [
        "numbers = [1, 2, 3, 4, 5]\n",
        "squared_numbers = []\n",
        "for x in numbers:\n",
        "  squared_numbers.append(x ** 2)\n",
        "print(squared_numbers)"
      ],
      "metadata": {
        "colab": {
          "base_uri": "https://localhost:8080/"
        },
        "id": "5RmKU4_MK2VK",
        "outputId": "97b23a01-f89a-47a2-e040-56b03ce0ac3c"
      },
      "execution_count": null,
      "outputs": [
        {
          "output_type": "stream",
          "name": "stdout",
          "text": [
            "[1, 4, 9, 16, 25]\n"
          ]
        }
      ]
    },
    {
      "cell_type": "code",
      "source": [
        "lst = [x for x in range(10)]\n",
        "print(lst)"
      ],
      "metadata": {
        "colab": {
          "base_uri": "https://localhost:8080/"
        },
        "id": "VzTovHw5MZQs",
        "outputId": "f1f2656c-9190-4b12-9e19-c31b0443dd3b"
      },
      "execution_count": null,
      "outputs": [
        {
          "output_type": "stream",
          "name": "stdout",
          "text": [
            "[0, 1, 2, 3, 4, 5, 6, 7, 8, 9]\n"
          ]
        }
      ]
    },
    {
      "cell_type": "code",
      "source": [
        "# \"set comprehension\" или \"множественное включение\"\n",
        "numbers = [1, 2, 3, 4, 5]\n",
        "numbers2 = {x for x in numbers}\n",
        "print(numbers2)"
      ],
      "metadata": {
        "colab": {
          "base_uri": "https://localhost:8080/"
        },
        "id": "wGVir9ofoXNQ",
        "outputId": "af548773-efa8-45ad-af2b-daa23b1ede46"
      },
      "execution_count": null,
      "outputs": [
        {
          "output_type": "stream",
          "name": "stdout",
          "text": [
            "{1, 2, 3, 4, 5}\n"
          ]
        }
      ]
    },
    {
      "cell_type": "code",
      "source": [
        "# \"dictionary comprehension\" или \"словарное включение\"\n",
        "numbers = [1, 2, 3, 4, 5]\n",
        "squared_numbers = {x: x ** 2 for x in numbers}\n",
        "print(squared_numbers)"
      ],
      "metadata": {
        "colab": {
          "base_uri": "https://localhost:8080/"
        },
        "id": "5K6T5exGoLJ6",
        "outputId": "89c93d8e-300d-4882-bb4d-98e7f2517a32"
      },
      "execution_count": null,
      "outputs": [
        {
          "output_type": "stream",
          "name": "stdout",
          "text": [
            "{1: 1, 2: 4, 3: 9, 4: 16, 5: 25}\n"
          ]
        }
      ]
    },
    {
      "cell_type": "markdown",
      "source": [
        "## Генеративные выражения\n",
        "\n",
        "Генеративные выражения - это способ создания итераторов, которые генерируют значения по требованию. Они используются для создания итерируемых объектов, которые не хранят все значения в памяти сразу, что позволяет экономить память и увеличивать производительность.\n",
        "\n",
        "Пример использования генеративного выражения:"
      ],
      "metadata": {
        "id": "7-uTGDFIlUEx"
      }
    },
    {
      "cell_type": "code",
      "source": [
        "numbers = [1, 2, 3, 4, 5]\n",
        "squared_numbers = (x ** 2 for x in range(10000))\n",
        "print(squared_numbers)\n",
        "# print(tuple(squared_numbers))"
      ],
      "metadata": {
        "colab": {
          "base_uri": "https://localhost:8080/"
        },
        "id": "f0sOauyFlvwR",
        "outputId": "9e2c5260-7eb5-498e-bc26-a6c67ded6cca"
      },
      "execution_count": null,
      "outputs": [
        {
          "output_type": "stream",
          "name": "stdout",
          "text": [
            "<generator object <genexpr> at 0x7c01c28abdf0>\n"
          ]
        }
      ]
    },
    {
      "cell_type": "markdown",
      "source": [
        "Итеративные и генеративные выражения в Python имеют некоторые сходства, но также и отличия. Вот их основные отличия:\n",
        "\n",
        "### Итеративные выражения:\n",
        "\n",
        "- **Возвращают итерируемый объект:**\n",
        "  - Итеративные выражения возвращают итерируемый объект, такой как список, множество, словарь.\n",
        "  - Эти объекты хранят все значения в памяти сразу.\n",
        "\n",
        "- **Заменяют цикл for:**\n",
        "  - Они позволяют создать итерируемый объект на основе существующей коллекции с использованием синтаксиса, аналогичного циклу for.\n",
        "\n",
        "### Генеративные выражения:\n",
        "\n",
        "- **Возвращают итератор:**\n",
        "  - Генеративные выражения возвращают итератор, который генерирует значения по требованию.\n",
        "  - Они не хранят все значения в памяти сразу, что экономит память и увеличивает производительность.\n",
        "\n",
        "- **Неявно используются в цикле for:**\n",
        "  - Генеративные выражения обычно используются неявно в цикле for, чтобы итерироваться по элементам.\n",
        "\n",
        "- **Могут быть использованы в функциях и методах:**\n",
        "  - Генеративные выражения могут быть использованы в функциях и методах, которые ожидают итератор в качестве входных данных.\n",
        "\n",
        "- **Подходят для работы с потоковыми данными:**\n",
        "  - Они особенно полезны при обработке больших коллекций данных или при работе с потоковыми данными, так как не требуют загрузки всех значений в память сразу.\n",
        "\n",
        "Таким образом, основное различие между итеративными и генеративными выражениями заключается в том, что первые возвращают итерируемый объект сразу, а вторые - итератор, который генерирует значения по требованию.\n"
      ],
      "metadata": {
        "id": "GPlYm6PimaQq"
      }
    },
    {
      "cell_type": "markdown",
      "source": [
        "## Итеративные и генеративные выражения с условием"
      ],
      "metadata": {
        "id": "b0t68b1Frm3l"
      }
    },
    {
      "cell_type": "markdown",
      "source": [
        "### С условием `if`"
      ],
      "metadata": {
        "id": "XpaJCJu5sm-O"
      }
    },
    {
      "cell_type": "markdown",
      "source": [
        "Итеративные и генеративные выражения с условием позволяют фильтровать элементы итерируемого объекта с использованием условия.\n",
        "Они создают новую коллекцию, оставляя только те элементы исходного итерируемого объекта, которые удовлетворяют определенному условию.\n",
        "\n",
        "\n",
        "Синтаксис:\n",
        "\n",
        "```python\n",
        "[выражение_if for элемент in итерируемый_объект if условие]\n",
        "```\n",
        "- `выражение_if`: значение, которое будет использоваться, если условие истинно.\n",
        "- `условие`: логическое условие, проверяемое для каждого элемента итерируемого объекта.\n",
        "- `элемент`: переменная, которая будет принимать значение каждого элемента итерируемого объекта.\n",
        "- `итерируемый_объект`: объект по которому будут проходить итерации\n",
        "\n",
        "Пример:\n",
        "\n"
      ],
      "metadata": {
        "id": "64D2851RrzsQ"
      }
    },
    {
      "cell_type": "code",
      "source": [
        "# Пример итеративного выражения с условием для создания списка\n",
        "numbers = [1, 2, 3, 4, 5, 6, 7, 8, 9, 10]\n",
        "even_numbers = [num for num in numbers if num % 2 == 0]\n",
        "print(even_numbers)"
      ],
      "metadata": {
        "id": "YWKfJEl8sDT0",
        "colab": {
          "base_uri": "https://localhost:8080/"
        },
        "outputId": "47640114-dddc-4446-8046-f7b28bb78767"
      },
      "execution_count": null,
      "outputs": [
        {
          "output_type": "stream",
          "name": "stdout",
          "text": [
            "[2, 4, 6, 8, 10]\n"
          ]
        }
      ]
    },
    {
      "cell_type": "code",
      "source": [
        "# Пример с циклом\n",
        "numbers = [1, 2, 3, 4, 5, 6, 7, 8, 9, 10]\n",
        "even_numbers = []\n",
        "for num in numbers:\n",
        "    if num % 2 == 0:\n",
        "        even_numbers.append(num)\n",
        "print(even_numbers)"
      ],
      "metadata": {
        "colab": {
          "base_uri": "https://localhost:8080/"
        },
        "id": "PB9xvsspP-U0",
        "outputId": "c735fb42-e80e-48d7-c4ed-917d5b52beb9"
      },
      "execution_count": null,
      "outputs": [
        {
          "output_type": "stream",
          "name": "stdout",
          "text": [
            "[2, 4, 6, 8, 10]\n"
          ]
        }
      ]
    },
    {
      "cell_type": "markdown",
      "source": [
        "### С условием `if/else`"
      ],
      "metadata": {
        "id": "WA8pM_U9srjt"
      }
    },
    {
      "cell_type": "markdown",
      "source": [
        "Итеративные выражения с условием if-else представляют собой способ создания коллекций на основе итерации по другим объектам с применением условных операторов if-else.\n",
        "\n",
        "Синтаксис:\n",
        "\n",
        "```python\n",
        "[выражение_if if условие else выражение_else for элемент in итерируемый_объект]\n",
        "```\n",
        "- `выражение_if`: значение, которое будет использоваться, если условие истинно.\n",
        "- `выражение_else`: значение, которое будет использоваться, если условие ложно.\n",
        "- `условие`: логическое условие, проверяемое для каждого элемента итерируемого объекта.\n",
        "- `элемент`: переменная, которая будет принимать значение каждого элемента итерируемого объекта.\n",
        "- `итерируемый_объект`: объект по которому будут проходить итерации\n",
        "\n",
        "Примеры:\n"
      ],
      "metadata": {
        "id": "rfL9I3CbsvC5"
      }
    },
    {
      "cell_type": "code",
      "source": [
        "# Создание списка, где четные числа заменяются на их квадраты, а нечетные - на их кубы\n",
        "numbers = [1, 2, 3, 4, 5]\n",
        "modified_numbers = [x**2 if x % 2 == 0 else x**3 for x in numbers]\n",
        "print(modified_numbers)"
      ],
      "metadata": {
        "colab": {
          "base_uri": "https://localhost:8080/"
        },
        "id": "qxVFK-Y1tGWe",
        "outputId": "5f9d05f6-8766-4f64-b296-fde199336a63"
      },
      "execution_count": null,
      "outputs": [
        {
          "output_type": "stream",
          "name": "stdout",
          "text": [
            "[1, 4, 27, 16, 125]\n"
          ]
        }
      ]
    },
    {
      "cell_type": "code",
      "source": [
        "# Создание списка, где четные числа заменяются на их квадраты, а нечетные - на их кубы\n",
        "print([x**2 if x % 2 == 0 else x**3 for x in [1, 2, 3, 4, 5]])"
      ],
      "metadata": {
        "colab": {
          "base_uri": "https://localhost:8080/"
        },
        "id": "m4WlCzS8Sbyc",
        "outputId": "20abf34b-e3e4-4461-a6e9-ed0c29b2e9bf"
      },
      "execution_count": null,
      "outputs": [
        {
          "output_type": "stream",
          "name": "stdout",
          "text": [
            "[1, 4, 27, 16, 125]\n"
          ]
        }
      ]
    },
    {
      "cell_type": "code",
      "source": [
        "# Создание циклом\n",
        "numbers = [1, 2, 3, 4, 5]\n",
        "modified_numbers = []\n",
        "for x in numbers:\n",
        "  if x % 2 == 0:\n",
        "    modified_numbers.append(x**2)\n",
        "  else:\n",
        "    modified_numbers.append(x**3)\n",
        "\n",
        "print(modified_numbers)"
      ],
      "metadata": {
        "colab": {
          "base_uri": "https://localhost:8080/"
        },
        "id": "cORS-qkRR5kv",
        "outputId": "c0942ab3-adce-4184-cb51-dfcd4ccbd341"
      },
      "execution_count": null,
      "outputs": [
        {
          "output_type": "stream",
          "name": "stdout",
          "text": [
            "[1, 4, 27, 16, 125]\n"
          ]
        }
      ]
    },
    {
      "cell_type": "code",
      "source": [
        "# Создание списка, где гласные буквы заменяются на заглавные, а согласные остаются прежними:\n",
        "word = \"hello\"\n",
        "modified_letters = [letter.upper() if letter in 'aeiou' else letter for letter in word]\n",
        "print(modified_letters)\n"
      ],
      "metadata": {
        "colab": {
          "base_uri": "https://localhost:8080/"
        },
        "id": "Eb0py4RHuBF1",
        "outputId": "cee46250-d244-47c7-f2da-d441a419e3a6"
      },
      "execution_count": null,
      "outputs": [
        {
          "output_type": "stream",
          "name": "stdout",
          "text": [
            "['h', 'E', 'l', 'l', 'O']\n"
          ]
        }
      ]
    },
    {
      "cell_type": "code",
      "source": [
        "time = []\n",
        "for h in range(24):\n",
        "  for m in range(60):\n",
        "    time.append(f\"Час: {h}, минута: {m}\")\n",
        "print(time)"
      ],
      "metadata": {
        "id": "tKuiZ6W6S-lQ"
      },
      "execution_count": null,
      "outputs": []
    },
    {
      "cell_type": "code",
      "source": [
        "print([f\"Час: {h}, минута: {m}\" for h in range(24) for m in range(60)])"
      ],
      "metadata": {
        "id": "6XwgziBpT1dU"
      },
      "execution_count": null,
      "outputs": []
    },
    {
      "cell_type": "code",
      "source": [
        "print([f\"Час: {h}, минута: {m}, секунда: {s}\" for h in range(1) for m in range(60) for s in range(60)])"
      ],
      "metadata": {
        "id": "T4NqKMzkUamP"
      },
      "execution_count": null,
      "outputs": []
    },
    {
      "cell_type": "markdown",
      "source": [
        "# Задачи"
      ],
      "metadata": {
        "id": "BUX0iA2_F3K3"
      }
    },
    {
      "cell_type": "markdown",
      "source": [
        "## Задача 1:\n",
        "Напишите функцию, которая принимает произвольное количество аргументов и возвращает список из уникальных значений.\n",
        "\n",
        "## Задача 2:\n",
        "Напишите функцию, которая принимает произвольное количество именованных аргументов (**kwargs) и возвращает словарь,\n",
        "в котором ключами являются имена аргументов, а значениями — их длины (если аргумент строка) или None.\n",
        "\n",
        "## Задача 3:\n",
        "Создайте глобальную переменную и напишите функцию(без аргументов), которая увеличивает ее значение на 1\n",
        "при каждом вызове. Сделайте это, используя ключевое слово global.\n",
        "\n",
        "## Задача 4:\n",
        "Создайте функцию, которая принимает список чисел и возвращает сумму, среднее значение и максимальное число.\n",
        "\n",
        "## Задача 5:\n",
        "Напишите функцию, которая принимает два числа и возвращает большее из них.\n",
        "\n",
        "## Задача 6:\n",
        "С использованием lambda-функции отсортируйте список строк по их длине.\n",
        "\n",
        "## Задача 7:\n",
        "С использованием lambda-функции отсортируйте список кортежей по второму элементу каждого кортежа.\n",
        "\n",
        "## Задача 8:\n",
        "Создайте список кортежей, где каждый кортеж содержит имя и возраст.\n",
        "Отсортируйте список по возрасту, используя sorted() и lambda-функцию.\n",
        "\n",
        "## Задача 9:\n",
        "Используйте map() и lambda-функцию для конвертации списка строк чтобы каждая строка начиналась с заглавной буквы,\n",
        "а остальные буквы были маленькие (стРОкА -> Строка).\n",
        "\n",
        "## Задача 10:\n",
        "Используйте reduce() и lambda-функцию для нахождения суммы длин строк в списке строк.\n",
        "\n",
        "## Задача 11:\n",
        "Создайте множество строк и используйте any(), чтобы проверить, есть ли в множестве хотя бы одна строка\n",
        "с длиной менее 3 символов.\n",
        "\n",
        "## Задача 12:\n",
        "Используйте all(), чтобы проверить, все ли значения в словаре больше нуля(все значения числовые).\n",
        "\n",
        "## Задача 13:\n",
        "Создайте два списка чисел и используйте zip() и lambda-функцию, чтобы создать список,\n",
        "содержащий суммы соответствующих элементов.\n",
        "\n",
        "## Задача 14:\n",
        "Реализуйте функцию, которая принимает несколько списков и возвращает список кортежей, используя zip().\n",
        "\n",
        "## Задача 15:\n",
        "Создайте список строк и используйте enumerate(), чтобы создать словарь (где ключи - индексы, а значения - строки),\n",
        "содержащий строки с длиной более 5 символов вместе с их индексами.\n",
        "\n",
        "## Задача 16:\n",
        "Даны четыре переменные, например (проверить с разными данными):\n",
        "```\n",
        "a = 15\n",
        "b = 35\n",
        "c = 10\n",
        "d = 25\n",
        "```\n",
        "\n",
        "Напишите условное выражение, которое проверяет следующие условия:\n",
        "\n",
        "a больше c.\n",
        "b меньше или равно d.\n",
        "Либо первое условие, либо второе должно быть истинным, но если оба истинны, результат должен быть ложным.\n",
        "Выведите True, если условие выполнено, и False в противном случае."
      ],
      "metadata": {
        "id": "mKmnz7LsFRpp"
      }
    }
  ]
}