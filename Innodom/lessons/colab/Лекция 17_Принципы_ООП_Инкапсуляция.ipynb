{
  "nbformat": 4,
  "nbformat_minor": 0,
  "metadata": {
    "colab": {
      "provenance": [],
      "include_colab_link": true
    },
    "kernelspec": {
      "name": "python3",
      "display_name": "Python 3"
    },
    "language_info": {
      "name": "python"
    }
  },
  "cells": [
    {
      "cell_type": "markdown",
      "metadata": {
        "id": "view-in-github",
        "colab_type": "text"
      },
      "source": [
        "<a href=\"https://colab.research.google.com/github/serggtech/Courses/blob/main/016_%D0%9B%D0%B5%D0%BA%D1%86%D0%B8%D1%8F_17_%D0%9F%D1%80%D0%B8%D0%BD%D1%86%D0%B8%D0%BF%D1%8B_%D0%9E%D0%9E%D0%9F_%D0%98%D0%BD%D0%BA%D0%B0%D0%BF%D1%81%D1%83%D0%BB%D1%8F%D1%86%D0%B8%D1%8F.ipynb\" target=\"_parent\"><img src=\"https://colab.research.google.com/assets/colab-badge.svg\" alt=\"Open In Colab\"/></a>"
      ]
    },
    {
      "cell_type": "markdown",
      "source": [
        "# Инкапсуляция"
      ],
      "metadata": {
        "id": "issubWhDgv73"
      }
    },
    {
      "cell_type": "markdown",
      "source": [
        "Инкапсуляция в объектно-ориентированном программировании (ООП) означает упаковку данных (полей) и методов, работающих с ними, внутри одного объекта и предоставление контроля над доступом к этим данным."
      ],
      "metadata": {
        "id": "TernjFRJgyMl"
      }
    },
    {
      "cell_type": "markdown",
      "source": [
        "В Python существует три основных типа доступа к членам класса:\n",
        "## 1. Публичный доступ (public):\n",
        "\n",
        "Публичные члены класса (атрибуты и методы) доступны извне класса. К ним можно обращаться напрямую без ограничений.\n",
        "\n",
        "Пример:"
      ],
      "metadata": {
        "id": "66B0TwIAj9mC"
      }
    },
    {
      "cell_type": "code",
      "source": [
        "class MyClass:\n",
        "    def __init__(self, name):\n",
        "        self.name = name  # Публичный атрибут\n",
        "\n",
        "    def public_method(self):\n",
        "        return f\"Hello, {self.name}!\"  # Публичный метод\n",
        "\n",
        "obj = MyClass(\"John\")\n",
        "print(obj.name)\n",
        "print(obj.public_method())"
      ],
      "metadata": {
        "id": "p7N1hn7-kLDe",
        "colab": {
          "base_uri": "https://localhost:8080/"
        },
        "outputId": "8fed8618-b49d-445c-8297-4aa548933dd0"
      },
      "execution_count": null,
      "outputs": [
        {
          "output_type": "stream",
          "name": "stdout",
          "text": [
            "John\n",
            "Hello, John!\n"
          ]
        }
      ]
    },
    {
      "cell_type": "markdown",
      "source": [
        "## 2. Защищенный доступ (protected):\n",
        "\n",
        "Защищенный доступ (члены класса, начинающиеся с одного подчеркивания) в Python используется для того, чтобы обозначить, что эти члены не предназначены для использования извне класса, но к ним можно обращаться напрямую.\n",
        "\n",
        "Пример:"
      ],
      "metadata": {
        "id": "TAbRQW3WkVp2"
      }
    },
    {
      "cell_type": "code",
      "source": [
        "class MyClass:\n",
        "    def __init__(self, name):\n",
        "        self._protected_variable = name  # Защищенный атрибут\n",
        "        self.name = name  # Публичный атрибут\n",
        "\n",
        "    def _protected_method(self):\n",
        "        return f\"Hello, {self._protected_variable}!\"  # Защищенный метод\n",
        "\n",
        "obj = MyClass(\"Alice\")\n",
        "print(obj._protected_variable)\n",
        "print(obj._protected_method())"
      ],
      "metadata": {
        "id": "QDg8ph5ykhw8",
        "colab": {
          "base_uri": "https://localhost:8080/"
        },
        "outputId": "01b82a5f-8bea-4ed5-ccf0-79e87697e8ad"
      },
      "execution_count": null,
      "outputs": [
        {
          "output_type": "stream",
          "name": "stdout",
          "text": [
            "Alice\n",
            "Hello, Alice!\n"
          ]
        }
      ]
    },
    {
      "cell_type": "markdown",
      "source": [
        "Использование защищенного доступа имеет несколько основных сценариев:\n",
        "\n",
        "### Внутренние Реализации:\n",
        "\n",
        "  Часто защищенные атрибуты и методы используются для внутренних реализаций класса. Это могут быть вспомогательные методы или переменные, которые не являются частью общего интерфейса класса."
      ],
      "metadata": {
        "id": "utjM4uNVn15c"
      }
    },
    {
      "cell_type": "code",
      "source": [
        "class Car:\n",
        "    def __init__(self, make, model):\n",
        "        self._make = make  # Защищенный атрибут\n",
        "        self._model = model  # Защищенный атрибут\n",
        "\n",
        "    def _start_engine(self):\n",
        "        print(\"Engine started\")\n",
        "\n",
        "    def drive(self):\n",
        "        self._start_engine()\n",
        "        print(f\"{self._make} {self._model} is driving\")\n",
        "\n",
        "my_car = Car(\"Toyota\", \"Camry\")\n",
        "my_car.drive()\n"
      ],
      "metadata": {
        "id": "UpaLtMSUn8NF",
        "colab": {
          "base_uri": "https://localhost:8080/"
        },
        "outputId": "ad4ae406-dab1-422d-dcb5-6adb550eb531"
      },
      "execution_count": null,
      "outputs": [
        {
          "output_type": "stream",
          "name": "stdout",
          "text": [
            "Engine started\n",
            "Toyota Camry is driving\n",
            "Camry\n"
          ]
        }
      ]
    },
    {
      "cell_type": "markdown",
      "source": [
        "### Расширение Класса:\n",
        "\n",
        "  Если класс предназначен для наследования, защищенные члены могут быть использованы в подклассах для расширения функциональности без прямого вмешательства в публичные интерфейсы.\n",
        "\n",
        "  Предположим, у нас есть базовый класс Vehicle, который имеет защищенный метод _start_engine(). Этот метод может быть использован в подклассах (например, Car или Motorcycle) для предоставления дополнительной функциональности, связанной с запуском двигателя, без необходимости предоставления этого метода в публичном интерфейсе базового класса. Т.к. он не будет отображаться в списке допустимых методов для этого класса.\n",
        "\n",
        "  Пример:\n"
      ],
      "metadata": {
        "id": "LXZ9PqzMpxip"
      }
    },
    {
      "cell_type": "code",
      "source": [
        "class Vehicle:\n",
        "    def start(self):\n",
        "        print(\"Vehicle is starting\")\n",
        "\n",
        "    def _start_engine(self):  # Защищенный метод\n",
        "        print(\"Engine started\")\n",
        "\n",
        "class Car(Vehicle):\n",
        "    def start(self):\n",
        "        super().start()  # Вызов метода из базового класса\n",
        "        self._start_engine()  # Использование защищенного метода\n",
        "\n",
        "my_car = Car()\n",
        "my_car.start()\n",
        "# my_car.  # попытка найти метод _start_engine\n"
      ],
      "metadata": {
        "id": "CmUlxvjVqOPl"
      },
      "execution_count": null,
      "outputs": []
    },
    {
      "cell_type": "markdown",
      "source": [
        "### Соглашение об именовании:\n",
        "\n",
        "  Защищенные члены также используются в качестве соглашения об именовании, чтобы подчеркнуть, что эти члены не предназначены для использования извне класса. Это помогает другим программистам понять, какие части класса являются частью интерфейса, а какие служат внутренними нуждами."
      ],
      "metadata": {
        "id": "0KbPTnEzpZHF"
      }
    },
    {
      "cell_type": "markdown",
      "source": [
        "## 3. Приватный доступ:\n",
        "\n",
        "Приватные члены класса в Python (члены, начинающиеся с двух подчеркиваний) предназначены для ограничения доступа к ним извне класса. Однако, следует отметить, что в Python приватность не является строгим ограничителем доступа, а скорее предостережением.\n"
      ],
      "metadata": {
        "id": "FztrGK0nkvPD"
      }
    },
    {
      "cell_type": "code",
      "source": [
        "class MyClass:\n",
        "    def __init__(self, name):\n",
        "        self.__private_variable = name  # Приватный атрибут\n",
        "\n",
        "    def __private_method(self):\n",
        "        return f\"Hello, {self.__private_variable}!\"  # Приватный метод\n",
        "\n",
        "obj = MyClass(\"Bob\")\n",
        "# print(obj.__private_variable)      # Это вызовет ошибку\n",
        "# print(obj.__private_method())       # Это вызовет ошибку\n"
      ],
      "metadata": {
        "id": "0WO2nkm-k0UI"
      },
      "execution_count": null,
      "outputs": []
    },
    {
      "cell_type": "markdown",
      "source": [
        "Обратите внимание, что в Python существует соглашение об именовании, которое регламентирует, какие члены следует считать публичными, защищенными и приватными. Однако, это всего лишь соглашение, и сам Python не делает строгого разделения на уровни доступа.\n",
        "\n",
        "На самом деле сокрытие в Python не настоящее и доступ к атрибуту мы получить все же можем. Но для этого надо написать `Класс_или_объект._Класс__атрибут/метод`:\n",
        "\n"
      ],
      "metadata": {
        "id": "mjJbmMPCl4Jp"
      }
    },
    {
      "cell_type": "code",
      "source": [
        "class MyClass:\n",
        "    def __init__(self, name):\n",
        "        self.__private_variable = name  # Приватный атрибут\n",
        "\n",
        "    def __private_method(self):\n",
        "        return f\"Hello, {self.__private_variable}!\"  # Приватный метод\n",
        "\n",
        "obj = MyClass(\"Bob\")\n",
        "print(obj._MyClass__private_variable)\n",
        "print(obj._MyClass__private_method())\n"
      ],
      "metadata": {
        "id": "d_x83SVDmQdH",
        "colab": {
          "base_uri": "https://localhost:8080/"
        },
        "outputId": "9d0bd8cf-678e-4bbe-91d3-2b654b98cf62"
      },
      "execution_count": null,
      "outputs": [
        {
          "output_type": "stream",
          "name": "stdout",
          "text": [
            "Bob\n",
            "Hello, Bob!\n"
          ]
        }
      ]
    },
    {
      "cell_type": "markdown",
      "source": [
        "Приватные атрибуты и методы часто используются для:\n",
        "\n",
        "### Скрытия Реализации:\n",
        "Приватные члены могут использоваться для скрытия деталей реализации класса. Это позволяет изменять внутреннюю структуру класса, не затрагивая внешний интерфейс."
      ],
      "metadata": {
        "id": "gE89BRoxr5Ez"
      }
    },
    {
      "cell_type": "code",
      "source": [
        "class BankAccount:\n",
        "    def __init__(self, balance):\n",
        "        self.__balance = balance  # Приватный атрибут\n",
        "\n",
        "    def deposit(self, amount):\n",
        "        self.__balance += amount\n",
        "\n",
        "    def withdraw(self, amount):\n",
        "        if amount <= self.__balance:\n",
        "            self.__balance -= amount\n",
        "            print(f\"Withdraw: {amount}\")\n",
        "            return amount\n",
        "        else:\n",
        "            print(f\"Insufficient funds, can't take {amount}, your balance is {self.__balance}\")\n",
        "            # return self.__balance\n",
        "\n",
        "    def get_balance(self):\n",
        "        return f\"Current balance: {self.__balance}\"\n",
        "\n",
        "account = BankAccount(1000)\n",
        "# print(account.balance)\n",
        "print(account._BankAccount__balance)\n",
        "account.withdraw(500)\n",
        "print(account.get_balance())\n",
        "account.withdraw(600)\n",
        "account.deposit(200)\n",
        "account.withdraw(600)\n",
        "print(account.get_balance())\n"
      ],
      "metadata": {
        "id": "KsJv55Xrr8eq",
        "colab": {
          "base_uri": "https://localhost:8080/"
        },
        "outputId": "e5bcca0e-39b8-4cfc-b357-dcc478f23114"
      },
      "execution_count": null,
      "outputs": [
        {
          "output_type": "stream",
          "name": "stdout",
          "text": [
            "1000\n",
            "Withdraw: 500\n",
            "Current balance: 500\n",
            "Insufficient funds, can't take 600, your balance is 500\n",
            "Withdraw: 600\n",
            "Current balance: 100\n"
          ]
        }
      ]
    },
    {
      "cell_type": "markdown",
      "source": [
        "### Избежание Конфликтов Имен:\n",
        "\n",
        "Приватные имена (манглированные имена с добавленным префиксом _ИмяКласса) могут помочь избежать конфликтов имен в больших программных проектах."
      ],
      "metadata": {
        "id": "KeD145jcsKBg"
      }
    },
    {
      "cell_type": "code",
      "source": [
        "class MyClass:\n",
        "    def __init__(self):\n",
        "        self.__private_variable = 42  # Приватный атрибут\n",
        "        self.private_variable = 40  # Приватный атрибут\n",
        "\n",
        "obj = MyClass()\n",
        "# print(obj.__private_variable)  # Это вызовет ошибку\n",
        "print(obj._MyClass__private_variable)\n",
        "print(obj.private_variable)"
      ],
      "metadata": {
        "id": "yumqn8ZBsOx9"
      },
      "execution_count": null,
      "outputs": []
    },
    {
      "cell_type": "markdown",
      "source": [
        "### Безопасности Данных:\n",
        "\n",
        "Приватные члены могут служить для обеспечения безопасности данных, ограничивая возможность изменения данных извне класса."
      ],
      "metadata": {
        "id": "Ply_GCaqsXKB"
      }
    },
    {
      "cell_type": "code",
      "source": [
        "class User:\n",
        "    def __init__(self, username, password):\n",
        "        self.__username = username  # Приватный атрибут\n",
        "        self.__password = password  # Приватный атрибут\n",
        "\n",
        "    def change_password(self, new_password, old_password):\n",
        "        # Реализация проверок безопасности\n",
        "        if old_password == self.__password:\n",
        "          self.__password = new_password\n",
        "        else:\n",
        "          print(\"old_password is not correct\")\n",
        "\n",
        "user = User(\"john_doe\", \"secure_password\")\n",
        "# print(user.__password)  # Это вызовет ошибку\n",
        "user.change_password(\"new_secure_password\", \"old_secure_password\")\n",
        "print(user._User__password)\n",
        "\n",
        "user.change_password(\"new_secure_password\", \"secure_password\")\n",
        "print(user._User__password)"
      ],
      "metadata": {
        "id": "s6GTpCl1sYZB",
        "colab": {
          "base_uri": "https://localhost:8080/"
        },
        "outputId": "169f691a-0b60-427d-dfda-835bfbea341b"
      },
      "execution_count": null,
      "outputs": [
        {
          "output_type": "stream",
          "name": "stdout",
          "text": [
            "old_password is not correct\n",
            "secure_password\n",
            "new_secure_password\n"
          ]
        }
      ]
    },
    {
      "cell_type": "markdown",
      "source": [
        "Приватные члены предоставляют определенный уровень изоляции, но важно помнить, что в Python это не является строгим средством ограничения доступа, и программисты ожидают соблюдения соглашения об именовании.\n"
      ],
      "metadata": {
        "id": "CZ-kolaPswj6"
      }
    },
    {
      "cell_type": "markdown",
      "source": [
        "## Шпаргалка по использованию инкапсуляции:"
      ],
      "metadata": {
        "id": "qtgbuicRVqEm"
      }
    },
    {
      "cell_type": "markdown",
      "source": [
        "- Public (Открытый):\n",
        "\n",
        "  Используйте открытые атрибуты (без подчеркиваний) для тех членов класса, которые должны быть доступны извне. Это может быть необходимо, например, для взаимодействия с экземпляром класса после его создания.\n",
        "\n",
        "- Protected (Защищенный):\n",
        "\n",
        "  Используйте защищенные атрибуты (с одним подчеркиванием) для тех, которые предназначены для использования внутри самого класса и его подклассов. Это предоставляет некоторый уровень инкапсуляции и говорит другим разработчикам, что эти атрибуты не должны быть использованы напрямую извне.\n",
        "\n",
        "- Private (Приватный):\n",
        "\n",
        "  Используйте приватные атрибуты (с двумя подчеркиваниями) для атрибутов, которые предназначены исключительно для внутреннего использования внутри класса. Подчеркивается, что эти атрибуты не предназначены для использования извне класса, и изменения в их структуре могут произойти без предупреждения.\n",
        "\n",
        "Решение о том, какие атрибуты использовать, зависит от конкретных требований вашего проекта и уровня защиты данных, который вам необходим. Если инкапсуляция и скрытие внутренних деталей класса не являются критически важными, можно использовать более открытые формы. Однако при разработке библиотек и больших проектов, где инкапсуляция важна, использование защищенных и приватных атрибутов может сделать код более устойчивым к изменениям и обеспечить лучшую абстракцию.\n",
        "\n"
      ],
      "metadata": {
        "id": "xkkaP_gAVudl"
      }
    },
    {
      "cell_type": "markdown",
      "source": [
        "## Доступ к приватным атрибутам"
      ],
      "metadata": {
        "id": "8GskD6ROVZxk"
      }
    },
    {
      "cell_type": "markdown",
      "source": [
        "В Python существует несколько способов доступа к приватным атрибутам, хотя приватность в языке не является строгим ограничителем доступа. Ниже приведены некоторые из этих способов:\n",
        "\n",
        "### 1. Прямой доступ:\n",
        "\n",
        "Приватные атрибуты могут быть доступны напрямую извне класса, используя манглированные имена. Манглированные имена создаются путем добавления префикса _ИмяКласса к приватному имени атрибута."
      ],
      "metadata": {
        "id": "dbkmkrXpAeUw"
      }
    },
    {
      "cell_type": "code",
      "source": [
        "class MyClass:\n",
        "    def __init__(self):\n",
        "        self.__private_variable = 42  # Приватный атрибут\n",
        "\n",
        "obj = MyClass()\n",
        "print(obj._MyClass__private_variable)\n"
      ],
      "metadata": {
        "id": "iW05uOBQFFym",
        "colab": {
          "base_uri": "https://localhost:8080/"
        },
        "outputId": "90403c12-68f7-4644-cc96-9c1a8690918c"
      },
      "execution_count": null,
      "outputs": [
        {
          "output_type": "stream",
          "name": "stdout",
          "text": [
            "42\n"
          ]
        }
      ]
    },
    {
      "cell_type": "markdown",
      "source": [
        "Этот способ доступа не рекомендуется, так как он нарушает принцип инкапсуляции и считается плохой практикой.\n"
      ],
      "metadata": {
        "id": "DttIZch1FOwP"
      }
    },
    {
      "cell_type": "markdown",
      "source": [
        "### 2. Создание методов-геттеров и методов-сеттеров:\n",
        "\n",
        "Можно создать методы-геттеры и методы-сеттеры для доступа к приватным атрибутам. Эти методы позволяют читать и изменять значения атрибутов, предоставляя контроль над доступом."
      ],
      "metadata": {
        "id": "p5aMzTzRFPx5"
      }
    },
    {
      "cell_type": "code",
      "source": [
        "class MyClass:\n",
        "    def __init__(self):\n",
        "        self.__private_variable = 42  # Приватный атрибут\n",
        "\n",
        "    def get_private_variable(self):\n",
        "        return self.__private_variable\n",
        "\n",
        "    def set_private_variable(self, value):\n",
        "        self.__private_variable = value\n",
        "\n",
        "obj = MyClass()\n",
        "print(obj.get_private_variable())\n",
        "obj.set_private_variable(100)\n",
        "print(obj.get_private_variable())"
      ],
      "metadata": {
        "id": "2MZDt1XfFaiE"
      },
      "execution_count": null,
      "outputs": []
    },
    {
      "cell_type": "markdown",
      "source": [
        "### 3. Использование свойств (property):\n",
        "\n",
        "Можно использовать свойства (property) для создания геттеров и сеттеров для приватных атрибутов. Это делает код более читаемым и позволяет использовать синтаксис, похожий на работу с обычными атрибутами."
      ],
      "metadata": {
        "id": "S5pEox4rFskG"
      }
    },
    {
      "cell_type": "code",
      "source": [
        "class MyClass:\n",
        "    def __init__(self):\n",
        "        self.__private_variable = 42  # Приватный атрибут\n",
        "\n",
        "    @property\n",
        "    def private_variable(self):\n",
        "        return self.__private_variable\n",
        "\n",
        "    @private_variable.setter\n",
        "    def private_variable(self, value):\n",
        "        self.__private_variable = value\n",
        "\n",
        "obj = MyClass()\n",
        "print(obj.private_variable)\n",
        "obj.private_variable = 100\n",
        "print(obj.private_variable)\n"
      ],
      "metadata": {
        "id": "GK7z-dSfF0xo"
      },
      "execution_count": null,
      "outputs": []
    },
    {
      "cell_type": "markdown",
      "source": [
        "Важно отметить, что использование приватных атрибутов подразумевает соблюдение соглашения об именовании и не является строгим средством ограничения доступа. Основной механизм безопасности в Python основан на соглашении и доверии программистов к использованию правильных методов доступа.\n",
        "\n",
        "\n"
      ],
      "metadata": {
        "id": "uvWkxhfLGFrd"
      }
    },
    {
      "cell_type": "markdown",
      "source": [
        "## Декоратор `property`"
      ],
      "metadata": {
        "id": "ICU16IStGV-Q"
      }
    },
    {
      "cell_type": "markdown",
      "source": [
        "В Python, property - это встроенная функция, которая позволяет создавать управляемые атрибуты (managed attributes) в классах. Управляемые атрибуты в классе позволяют использовать методы getter, setter и deleter для работы с атрибутом, при этом использование их выглядит как обращение к обычному атрибуту.\n",
        "\n",
        "Основные компоненты property:\n",
        "\n",
        "1. Getter:\n",
        "\n",
        "  Это метод, который возвращает значение управляемого атрибута.\n",
        "\n",
        "2. Setter:\n",
        "\n",
        "  Это метод, который устанавливает значение управляемого атрибута.\n",
        "\n",
        "3. Deleter:\n",
        "\n",
        "  Это метод, который удаляет управляемый атрибут.\n",
        "\n",
        "Пример использования property:\n"
      ],
      "metadata": {
        "id": "ayi5jCYiGeZr"
      }
    },
    {
      "cell_type": "code",
      "source": [
        "class Rectangle:\n",
        "    def __init__(self, width, height):\n",
        "        self._width = width\n",
        "        self._height = height\n",
        "        self._pi = 3.14\n",
        "\n",
        "    @property\n",
        "    def width(self):\n",
        "        return self._width\n",
        "\n",
        "    @width.setter\n",
        "    def width(self, value):\n",
        "        if value > 0:\n",
        "            self._width = value\n",
        "        else:\n",
        "            print(\"Width must be greater than zero\")\n",
        "\n",
        "    @property\n",
        "    def height(self):\n",
        "        return self._height\n",
        "\n",
        "    @height.setter\n",
        "    def height(self, value):\n",
        "        if value > 0:\n",
        "            self._height = value\n",
        "        else:\n",
        "            print(\"Height must be greater than zero\")\n",
        "\n",
        "    @property\n",
        "    def area(self):\n",
        "        return self._width * self._height\n",
        "\n",
        "    @property\n",
        "    def pi(self):\n",
        "        return self._pi\n",
        "\n",
        "    @pi.deleter\n",
        "    def pi(self):\n",
        "        del self._pi\n",
        "\n",
        "# Создаем объект класса Rectangle\n",
        "rectangle = Rectangle(width=10, height=5)\n",
        "\n",
        "# Используем управляемые атрибуты\n",
        "print(rectangle.width)\n",
        "print(rectangle.height)\n",
        "print(rectangle.area)\n",
        "\n",
        "# Используем setter для изменения значений\n",
        "rectangle.width = 12\n",
        "rectangle.height = 6\n",
        "\n",
        "print(\"\\nUpdated: \")\n",
        "print(rectangle.width)\n",
        "print(rectangle.height)\n",
        "print(rectangle.area)\n",
        "\n",
        "print(\"\\nDeleter: \")\n",
        "\n",
        "print(rectangle.pi)\n",
        "del rectangle.pi\n",
        "# print(rectangle.pi)  # этот код вызовет ошибку, т.к. атрибут больше не существует\n"
      ],
      "metadata": {
        "id": "PVviWaBsGy53"
      },
      "execution_count": null,
      "outputs": []
    },
    {
      "cell_type": "markdown",
      "source": [
        "Здесь width и height являются управляемыми атрибутами с использованием @property, @width.setter и @height.setter. Это позволяет использовать методы width и height как обычные атрибуты, а при их изменении вызываются соответствующие методы setter.\n",
        "\n",
        "\n",
        "\n",
        "\n"
      ],
      "metadata": {
        "id": "DkuyIM8NKmWe"
      }
    },
    {
      "cell_type": "markdown",
      "source": [
        "Пример зачем использовать property:\n",
        "1. Создаем класс пользователя с публичными атрибутами login, password и воспользуемся его атрибутами:"
      ],
      "metadata": {
        "id": "z7tVGsrKLQzM"
      }
    },
    {
      "cell_type": "code",
      "source": [
        "class User:\n",
        "    def __init__(self, login, password):\n",
        "        self.login = login  # Публичный атрибут\n",
        "        self.password = password  # Публичный атрибут\n",
        "\n",
        "\n",
        "# Создаем объект класса User\n",
        "user = User(login=\"John\", password=\"Secure password\")\n",
        "\n",
        "# Используем публичный атрибут\n",
        "print(\"Login:\", user.login)\n",
        "print(\"Password:\", user.password)\n",
        "\n",
        "# Меняем публичный атрибут\n",
        "user.login = \"New login\"\n",
        "user.password = \"New password\"\n",
        "\n",
        "# Используем публичный атрибут\n",
        "print(\"Login:\", user.login)\n",
        "print(\"Password:\", user.password)\n"
      ],
      "metadata": {
        "id": "8_mi-cbTLZDV",
        "colab": {
          "base_uri": "https://localhost:8080/"
        },
        "outputId": "af6c3355-3d36-42f4-98d3-9af5ea82a2e9"
      },
      "execution_count": null,
      "outputs": [
        {
          "output_type": "stream",
          "name": "stdout",
          "text": [
            "Login: John\n",
            "Password: Secure password\n",
            "Login: New login\n",
            "Password: New password\n"
          ]
        }
      ]
    },
    {
      "cell_type": "markdown",
      "source": [
        "2. Далее мы понимаем что сделать атрибуты публичными было ошибкой и делаем их приватными. Но при этом возникает проблема что перестает работать весь код, который где эти атрибуты использовались:\n",
        "\n"
      ],
      "metadata": {
        "id": "C9BjEab5MvMq"
      }
    },
    {
      "cell_type": "code",
      "source": [
        "class User:\n",
        "    def __init__(self, login, password):\n",
        "        self.__login = login  # Приватный атрибут\n",
        "        self.__password = password  # Приватный атрибут\n",
        "\n",
        "\n",
        "# Создаем объект класса User\n",
        "user = User(login=\"John\", password=\"Secure password\")\n",
        "\n",
        "# # Используем публичный атрибут\n",
        "# print(\"Login:\", user.login)\n",
        "# print(\"Password:\", user.password)\n",
        "\n",
        "# # Меняем публичный атрибут\n",
        "# user.login = \"New login\"\n",
        "# user.password = \"New password\"\n",
        "\n",
        "# # Используем публичный атрибут\n",
        "# print(\"Login:\", user.login)\n",
        "# print(\"Password:\", user.password)\n"
      ],
      "metadata": {
        "id": "i2VW_HKhQwfM"
      },
      "execution_count": null,
      "outputs": []
    },
    {
      "cell_type": "markdown",
      "source": [
        " 3. Добавляем методы геттеров и сеттеров для доступа к атрибутам. Но предыдущий код с использованием атрибутов всё ещё не работает в том не виде, его нужно менять:"
      ],
      "metadata": {
        "id": "nAqtcaH4kU9P"
      }
    },
    {
      "cell_type": "code",
      "source": [
        "class User:\n",
        "    def __init__(self, login, password):\n",
        "        self.__login = login  # Приватный атрибут\n",
        "        self.__password = password  # Приватный атрибут\n",
        "\n",
        "    def get_login(self):\n",
        "        return self.__login\n",
        "\n",
        "    def set_login(self, new_login):\n",
        "        self.__login = new_login\n",
        "\n",
        "    def get_password(self):\n",
        "        return self.__password\n",
        "\n",
        "    def set_password(self, new_password):\n",
        "        self.__password = new_password\n",
        "\n",
        "# Создаем объект класса User\n",
        "user = User(login=\"John\", password=\"Secure password\")\n",
        "\n",
        "# # Используем публичный атрибут\n",
        "# print(\"Login:\", user.login)\n",
        "# print(\"Password:\", user.password)\n",
        "\n",
        "# # Меняем публичный атрибут\n",
        "# user.login = \"New login\"\n",
        "# user.password = \"New password\"\n",
        "\n",
        "# # Используем публичный атрибут\n",
        "# print(\"Login:\", user.login)\n",
        "# print(\"Password:\", user.password)\n",
        "\n",
        "\n",
        "# Используем методы геттеров\n",
        "print(\"Login:\", user.get_login())\n",
        "print(\"Password:\", user.get_password())\n",
        "\n",
        "# Используем методы сеттеров\n",
        "user.set_login(\"New login\")\n",
        "user.set_password(\"New password\")\n",
        "\n",
        "# Используем методы геттеров после изменения значений\n",
        "print(\"Login:\", user.get_login())\n",
        "print(\"Password:\", user.get_password())\n",
        "\n"
      ],
      "metadata": {
        "id": "8qa8I6srRrOo",
        "colab": {
          "base_uri": "https://localhost:8080/"
        },
        "outputId": "d4347c2c-a939-42b8-9737-0f2b361fa92f"
      },
      "execution_count": null,
      "outputs": [
        {
          "output_type": "stream",
          "name": "stdout",
          "text": [
            "Login: John\n",
            "Password: Secure password\n",
            "Login: New login\n",
            "Password: New password\n"
          ]
        }
      ]
    },
    {
      "cell_type": "markdown",
      "source": [
        "А теперь вместо методов геттеров и сеттеров используем `property`. Обратите внимание что код взаимодействующий с атрибутами находится без изменений:\n",
        "\n"
      ],
      "metadata": {
        "id": "2mN-pxw3ShuT"
      }
    },
    {
      "cell_type": "code",
      "source": [
        "class User:\n",
        "    def __init__(self, login, password):\n",
        "        self.__login = login  # Приватный атрибут\n",
        "        self.__password = password  # Приватный атрибут\n",
        "\n",
        "    @property\n",
        "    def login(self):\n",
        "        return self.__login\n",
        "\n",
        "    @login.setter\n",
        "    def login(self, new_login):\n",
        "        self.__login = new_login\n",
        "\n",
        "    @property\n",
        "    def password(self):\n",
        "        return self.__password\n",
        "\n",
        "    @password.setter\n",
        "    def password(self, new_password):\n",
        "        # TODO: check password\n",
        "        self.__password = new_password\n",
        "\n",
        "# Создаем объект класса User\n",
        "user = User(login=\"John\", password=\"Secure password\")\n",
        "\n",
        "# Используем публичный атрибут\n",
        "print(\"Login:\", user.login)\n",
        "print(\"Password:\", user.password)\n",
        "\n",
        "# Меняем публичный атрибут\n",
        "user.login = \"New login\"\n",
        "user.password = \"New password\"\n",
        "\n",
        "# Используем публичный атрибут\n",
        "print(\"Login:\", user.login)\n",
        "print(\"Password:\", user.password)"
      ],
      "metadata": {
        "id": "b2e9QeIiTDS_",
        "colab": {
          "base_uri": "https://localhost:8080/"
        },
        "outputId": "2a75ad02-ad29-4fc0-cffe-fbbbd0382880"
      },
      "execution_count": null,
      "outputs": [
        {
          "output_type": "stream",
          "name": "stdout",
          "text": [
            "Login: John\n",
            "Password: Secure password\n",
            "Login: New login\n",
            "Password: New password\n"
          ]
        }
      ]
    },
    {
      "cell_type": "markdown",
      "source": [
        "Теперь мы используем декораторы @property и @<атрибут>.setter для создания свойств login и password, что делает код более читаемым и удобным. А главное нет необходимости вносить изменения в код, использующий атрибуты."
      ],
      "metadata": {
        "id": "2IQjNMPiTPmv"
      }
    },
    {
      "cell_type": "markdown",
      "source": [
        "## Задача 1: Приватный Атрибут\n",
        "Добавьте приватный атрибут __color в класс Rectangle, который представляет цвет прямоугольника. Добавьте методы для получения и установки цвета."
      ],
      "metadata": {
        "id": "7PIohfRB9ws2"
      }
    },
    {
      "cell_type": "markdown",
      "source": [
        "## Задача 2: Викторина\n",
        "Вашей задачей будет создание класса загадки.\n",
        "Это будет простой объект, который мы будем использовать в качестве одного вопроса викторины. Создайте несколько таких вопросов, запустите каждый из них и напечатайте каждый результат.\n",
        "\n",
        "Class: Mystery\n",
        "\n",
        "Attributes:\n",
        "- question\n",
        "- answer\n",
        "- list of wrong choices\n",
        "\n",
        "Methods:\n",
        "- ask_mystery - запускает вопрос и предлагает варианты\n",
        "\n",
        "Note: если выбран правильный ответ, «загадка» возвращает True, в противном случае — False.\n",
        "\n",
        "Пример создания экземпляра загадки и запуска загадки\n",
        "```\n",
        "mystery1 = Mystery(question=\"Какие типы данных являются изменяемыми?\",\n",
        "             answer=\"list, set, dict\",\n",
        "             list_of_wrong_choices=[\"list, str, set, dict\", \"list, dict, tuple\", \"list\", \"list, dict\"])\n",
        "\n",
        "mystery1.ask_mystery()\n",
        "```\n",
        "Вывод на консоль должен соответствовать этому примеру:\n",
        "```\n",
        "Question: Какие типы данных являются изменяемыми?\n",
        "    0. list, dict, tuple\n",
        "    1. list, dict\n",
        "    2. list, set, dict\n",
        "    3. dict\n",
        "    4. list, str, set, dict\n",
        "Select option: 2\n",
        "\n",
        "Result: True\n",
        "```\n",
        "\n",
        "Небольшое осложнение(по желанию):\n",
        "1. Нумерация списка начинается с 1\n",
        "2. Количество вариантов предложенных для ответа может не соответствовать количеству возможных вариантов выбора. Пример: вы передаете список из 10-ти неправильных ответов, а из них рандомно выбирается четыре. То есть, запуская один и тот же вопрос, вы можете получить разные варианты ответов.\n",
        "3. При вызове одного и того же вопроса порядок выбора всегда случайный.\n",
        "4. Каждый ответ имеет вес от -3 до 3, где 3 это верно, -3 это неверно, остальное на ваше усмотрение, то есть некоторые варианты могут быть частично верными или\n",
        "частично неверными. Эти значения возвращаются вместо True/False\n",
        "\n",
        "\n",
        "Ещё одно усложнение(можно доработать позже):\n",
        "\n",
        "Нужно создать целую викторину, в которой можно отвечать на вопросы и подсчитывать баллы.\n",
        "Это будет объект, который будет содержать в себе много вопросов викторины, иметь счетчик правильных ответов и метод для старта викторины.\n",
        "\n",
        "Class: Quiz_show\n",
        "\n",
        "Attributes:\n",
        "- mysteries\n",
        "- right_answers_counter (если до этого возвращали True/False)\n",
        "- points_counter (если до этого возвращали баллы)\n",
        "\n",
        "Methods:\n",
        "- start_quiz_show - запускает викторину\n",
        "\n",
        "Пример создания экземпляра викторины и запуска викторины\n",
        "```\n",
        "\n",
        "quiz = Quiz_show([mystery1, mystery2, mystery3, mystery4, mystery5])\n",
        "\n",
        "quiz.start_quiz_show()\n",
        "```"
      ],
      "metadata": {
        "id": "xUv-b5JjauN6"
      }
    }
  ]
}