{
  "nbformat": 4,
  "nbformat_minor": 0,
  "metadata": {
    "colab": {
      "provenance": [],
      "authorship_tag": "ABX9TyPHP4L36013w4lUPwelEvoI",
      "include_colab_link": true
    },
    "kernelspec": {
      "name": "python3",
      "display_name": "Python 3"
    },
    "language_info": {
      "name": "python"
    }
  },
  "cells": [
    {
      "cell_type": "markdown",
      "metadata": {
        "id": "view-in-github",
        "colab_type": "text"
      },
      "source": [
        "<a href=\"https://colab.research.google.com/github/serggtech/Courses/blob/main/Innodom_HW_3.ipynb\" target=\"_parent\"><img src=\"https://colab.research.google.com/assets/colab-badge.svg\" alt=\"Open In Colab\"/></a>"
      ]
    },
    {
      "cell_type": "code",
      "execution_count": null,
      "metadata": {
        "id": "DZT85F3TvMBb"
      },
      "outputs": [],
      "source": [
        "# Задача 1\n",
        "## Напишите программу, которая выводит прямоугольник, по периметру состоящий из звездочек *. Высоту и ширину должен ввести пользователь с консоли. (значение минимум 4)\n",
        "## Если высота = 3, а ширина равна 8, то прямоугольник выглядит так:\n",
        "## ********\n",
        "## *      *\n",
        "## ********\n",
        "## P.S.: для начала можете решить упрощенную задачу и вывести прямоугольник размером как в примере.\n",
        "print()\n",
        "width = int(input(\"a сторона ширина: \"))\n",
        "height = int(input(\"b сторона высота: \"))\n",
        "\n",
        "star = \"*\"\n",
        "space = \" \"\n",
        "\n",
        "star_width = star + \"\" + (star * (width - 2)) + \"\" + star\n",
        "space_height = (star + \"\" + (space * (width - 2)) + \"\" + star + \"\\n\") * (height - 2)\n",
        "print()\n",
        "print(star_width)\n",
        "print(space_height, end=\"\")\n",
        "print(star_width)\n"
      ]
    },
    {
      "cell_type": "code",
      "source": [
        "# Задача 2\n",
        "## Отформатируйте текст между кавычками:\n",
        "## “                                     наше Солнце и ближайшие к нему звезды являются частью обширного звездного скопления — галактики Млечный Путь. долгое время люди думали, что это и есть вся Вселенная. только в 1924 г. американский астроном Эдвин Хаббл показал, что наша Галактика — не единственная во Вселенной. На самом деле существует много других галактик, разделенных огромными участками пустого пространства. чтобы доказать это, ему потребовалось измерить расстояния до этих галактик. мы можем определить расстояния до ближайших звезд, наблюдая изменение их положений на небе по мере обращения Земли вокруг Солнца. но другие галактики находятся так далеко, что в отличие от ближайших звезд кажутся неподвижными. поэтому Хабблу пришлось использовать косвенные методы измерения расстояний.                   ”\n",
        "print()\n",
        "\n",
        "string_start = \"                                     наше Солнце и ближайшие к нему звезды являются частью обширного звездного скопления — галактики Млечный Путь. долгое время люди думали, что это и есть вся Вселенная. только в 1924 г. американский астроном Эдвин Хаббл показал, что наша Галактика — не единственная во Вселенной. На самом деле существует много других галактик, разделенных огромными участками пустого пространства. чтобы доказать это, ему потребовалось измерить расстояния до этих галактик. мы можем определить расстояния до ближайших звезд, наблюдая изменение их положений на небе по мере обращения Земли вокруг Солнца. но другие галактики находятся так далеко, что в отличие от ближайших звезд кажутся неподвижными. поэтому Хабблу пришлось использовать косвенные методы измерения расстояний.                   \"\n",
        "print(f\"Неформатированная строка: {string_start}\")\n",
        "string_format = string_start.lstrip().rstrip().capitalize()\n",
        "print()\n",
        "print(f\"Форматированная строка: {string_format}\")"
      ],
      "metadata": {
        "id": "3o2YVosivm6-"
      },
      "execution_count": null,
      "outputs": []
    },
    {
      "cell_type": "code",
      "source": [
        "# Задача 3\n",
        "## Пользователь вводит строку и подстроку. Необходимо найти индекс первого и последнего вхождения подстроки в строку и вывести их на экран.\n",
        "print()\n",
        "\n",
        "user_string = input(\"Введите строку: \")\n",
        "user_sub_string = input(\"Введите подстроку: \")\n",
        "print()\n",
        "print(\n",
        "    f\"Индекс первого вхожднения подстроки в строку: { user_string.find(user_sub_string) } \\n\"\n",
        "    f\"Индекс последнего вхождения подстроки в строку: { user_string.rfind(user_sub_string) }\"\n",
        ")\n"
      ],
      "metadata": {
        "id": "x0Xw956uvsCh"
      },
      "execution_count": null,
      "outputs": []
    },
    {
      "cell_type": "code",
      "source": [
        "# Задача 4\n",
        "## Напишите программу, которая выведет на экран подстроку от 7 до 15 (включительно) символа с конца и в обратном порядке.\n",
        "#\n",
        "## Consectetur accumsan dui in pulvinar dui ipsum sed hac imperdiet accumsan ut. Interdum malesuada dui vel arcu ultricies. Faucibus. Orci, vitae mattis libero, in sed dictumst. Urna tempus nulla luctus elit. Non eget habitasse sodales libero, tempus quam, eleifend ex. Molestie vulputate amet in malesuada leo, molestie mollis ultricies. Mollis pellentesque sed id cras consectetur integer sed vulputate nulla malesuada molestie in et mattis platea amet vel et adipiscing quis.\n",
        "print()\n",
        "string_str = (\n",
        "    \"Consectetur accumsan dui in pulvinar dui ipsum sed hac imperdiet accumsan ut. Interdum malesuada dui \"\n",
        "    \"vel arcu ultricies. Faucibus. Orci, vitae mattis libero, in sed dictumst. Urna tempus nulla luctus \"\n",
        "    \"elit. Non eget habitasse sodales libero, tempus quam, eleifend ex. Molestie vulputate amet in \"\n",
        "    \"malesuada leo, molestie mollis ultricies. Mollis pellentesque sed id cras consectetur integer sed \"\n",
        "    \"vulputate nulla malesuada molestie in et mattis platea amet vel et adipiscing quis.\"\n",
        ")\n",
        "\n",
        "print(string_str[-7:-16:-1])"
      ],
      "metadata": {
        "id": "5KtDC9xrvwlw"
      },
      "execution_count": null,
      "outputs": []
    },
    {
      "cell_type": "code",
      "source": [
        "# Задача 5\n",
        "## Есть строка \"<248>\". Напишите программу, которая выведет на экран произведение чисел этой строки.\n",
        "print(\n",
        "    'Есть строка \"<248>\". Напишите программу, которая выведет на экран произведение чисел этой строки.'\n",
        ")\n",
        "print()\n",
        "string_start = \"<248>\"\n",
        "string_start_new = string_start[1:4]\n",
        "print(\n",
        "    f\"Произведение чисел этой строки: {int(string_start_new[0])*int(string_start_new[1])*int(string_start_new[2])}\"\n",
        ")"
      ],
      "metadata": {
        "id": "mv18hNMiwxYV"
      },
      "execution_count": null,
      "outputs": []
    },
    {
      "cell_type": "code",
      "source": [
        "# Задача 6\n",
        "## Пользователь вводит строку. Напишите программу, которая разрежет строку пополам, переставит эти части местами и выведет результат на экран.\n",
        "print(\"Пользователь вводит строку. Напишите программу, которая разрежет строку пополам, переставит эти части местами и выведет результат на экран.\")\n",
        "print()\n",
        "user_string = input(\"Пользователь вводит строку: \")\n",
        "print()\n",
        "user_string_len = len(user_string)\n",
        "user_string_len_half = int(user_string_len) // 2\n",
        "# print(user_string_len)\n",
        "# print(int(user_string_len_half))\n",
        "\n",
        "print(f\"{user_string[user_string_len_half:user_string_len]}{user_string[0:user_string_len_half]}\")\n",
        "print()\n",
        "print(\"А теперь в одну строку\")\n",
        "print()\n",
        "print(f\"{user_string[(len(user_string) // 2):len(user_string)]}{user_string[0:(len(user_string) // 2)]}\")"
      ],
      "metadata": {
        "id": "fF2e_nxywjgf"
      },
      "execution_count": null,
      "outputs": []
    },
    {
      "cell_type": "code",
      "source": [
        "# Задача 7\n",
        "## Пользователь вводит строку, где слова разделены пробелом. Напишите программу, которая выведет на экран количество слов в строке. (Не используйте то, что мы ещё не изучали)\n",
        "print(\"Пользователь вводит строку, где слова разделены пробелом. Напишите программу, которая выведет на экран количество слов в строке. (Не используйте то, что мы ещё не изучали)\")\n",
        "print()\n",
        "user_string = input(\"Пользователь вводит строку, где слова разделены пробелом: \")\n",
        "print()\n",
        "print(user_string)\n",
        "user_string_count_space = user_string.count(' ')\n",
        "print(f\"Количество пробелов в строке: { user_string_count_space }\")\n",
        "print(f\"Количество символов в строке: { len(user_string) - user_string_count_space}\")\n",
        "user_string_split = user_string.split(' ')\n",
        "print(f\"Количество слов в строке: {len(user_string_split)}\")\n",
        "print()\n",
        "print(\"А теперь в одну строку\")\n",
        "print()\n",
        "print(f\"Количество слов в строке: {len(user_string.split(' '))}\")"
      ],
      "metadata": {
        "id": "CAJSIsnIZgEk"
      },
      "execution_count": null,
      "outputs": []
    }
  ]
}